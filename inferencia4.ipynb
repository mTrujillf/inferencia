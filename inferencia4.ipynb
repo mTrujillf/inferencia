{
 "cells": [
  {
   "cell_type": "code",
   "execution_count": 1,
   "id": "e06e8654",
   "metadata": {},
   "outputs": [],
   "source": [
    "import pandas as pd\n",
    "import numpy as np\n",
    "import matplotlib.pyplot as plt\n",
    "from scipy.stats import t\n",
    "from scipy.stats import norm\n",
    "from scipy.stats import f"
   ]
  },
  {
   "cell_type": "code",
   "execution_count": 2,
   "id": "040a8b4a",
   "metadata": {},
   "outputs": [],
   "source": [
    "df = pd.read_csv('conjunto_de_datos_tmodulo_enut_2019.csv',encoding='latin-1')\n",
    "df_nuevo = df[['EDAD_V','SEXO','NIV','P5_1','P5_3_1','P5_3_2','P5_3_3','P5_3_4','P5_6_6','P5_7','P5_7A','P6_10_7','P_6_13_3','P6_13_5','P6_13_6','P6_10_7','P6_8_2','P6_6_3','P6_5_2','P6_4_3']]"
   ]
  },
  {
   "cell_type": "code",
   "execution_count": 3,
   "id": "51917d48",
   "metadata": {},
   "outputs": [
    {
     "name": "stderr",
     "output_type": "stream",
     "text": [
      "C:\\Users\\Miguel\\AppData\\Local\\Temp/ipykernel_17760/1619613471.py:1: SettingWithCopyWarning: \n",
      "A value is trying to be set on a copy of a slice from a DataFrame.\n",
      "Try using .loc[row_indexer,col_indexer] = value instead\n",
      "\n",
      "See the caveats in the documentation: https://pandas.pydata.org/pandas-docs/stable/user_guide/indexing.html#returning-a-view-versus-a-copy\n",
      "  df_nuevo['P5_3_1'] = df_nuevo['P5_3_1'].replace({np.nan: '0'})\n",
      "C:\\Users\\Miguel\\AppData\\Local\\Temp/ipykernel_17760/1619613471.py:2: SettingWithCopyWarning: \n",
      "A value is trying to be set on a copy of a slice from a DataFrame.\n",
      "Try using .loc[row_indexer,col_indexer] = value instead\n",
      "\n",
      "See the caveats in the documentation: https://pandas.pydata.org/pandas-docs/stable/user_guide/indexing.html#returning-a-view-versus-a-copy\n",
      "  df_nuevo['P5_3_2'] = df_nuevo['P5_3_2'].replace({np.nan: '0'})\n",
      "C:\\Users\\Miguel\\AppData\\Local\\Temp/ipykernel_17760/1619613471.py:3: SettingWithCopyWarning: \n",
      "A value is trying to be set on a copy of a slice from a DataFrame.\n",
      "Try using .loc[row_indexer,col_indexer] = value instead\n",
      "\n",
      "See the caveats in the documentation: https://pandas.pydata.org/pandas-docs/stable/user_guide/indexing.html#returning-a-view-versus-a-copy\n",
      "  df_nuevo['P5_3_3'] = df_nuevo['P5_3_3'].replace({np.nan: '0'})\n",
      "C:\\Users\\Miguel\\AppData\\Local\\Temp/ipykernel_17760/1619613471.py:4: SettingWithCopyWarning: \n",
      "A value is trying to be set on a copy of a slice from a DataFrame.\n",
      "Try using .loc[row_indexer,col_indexer] = value instead\n",
      "\n",
      "See the caveats in the documentation: https://pandas.pydata.org/pandas-docs/stable/user_guide/indexing.html#returning-a-view-versus-a-copy\n",
      "  df_nuevo['P5_3_4'] = df_nuevo['P5_3_4'].replace({np.nan: '0'})\n",
      "C:\\Users\\Miguel\\AppData\\Local\\Temp/ipykernel_17760/1619613471.py:5: SettingWithCopyWarning: \n",
      "A value is trying to be set on a copy of a slice from a DataFrame.\n",
      "Try using .loc[row_indexer,col_indexer] = value instead\n",
      "\n",
      "See the caveats in the documentation: https://pandas.pydata.org/pandas-docs/stable/user_guide/indexing.html#returning-a-view-versus-a-copy\n",
      "  df_nuevo['P5_7'] = df_nuevo['P5_7'].replace({np.nan: '0'})\n",
      "C:\\Users\\Miguel\\AppData\\Local\\Temp/ipykernel_17760/1619613471.py:6: SettingWithCopyWarning: \n",
      "A value is trying to be set on a copy of a slice from a DataFrame.\n",
      "Try using .loc[row_indexer,col_indexer] = value instead\n",
      "\n",
      "See the caveats in the documentation: https://pandas.pydata.org/pandas-docs/stable/user_guide/indexing.html#returning-a-view-versus-a-copy\n",
      "  df_nuevo['P5_7'] = df_nuevo['P5_7'].replace({'99999': '0'})\n",
      "C:\\Users\\Miguel\\AppData\\Local\\Temp/ipykernel_17760/1619613471.py:7: SettingWithCopyWarning: \n",
      "A value is trying to be set on a copy of a slice from a DataFrame.\n",
      "Try using .loc[row_indexer,col_indexer] = value instead\n",
      "\n",
      "See the caveats in the documentation: https://pandas.pydata.org/pandas-docs/stable/user_guide/indexing.html#returning-a-view-versus-a-copy\n",
      "  df_nuevo['P5_7A'] = df_nuevo['P5_7A'].replace({np.nan: '-1'})\n",
      "C:\\Users\\Miguel\\AppData\\Local\\Temp/ipykernel_17760/1619613471.py:8: SettingWithCopyWarning: \n",
      "A value is trying to be set on a copy of a slice from a DataFrame.\n",
      "Try using .loc[row_indexer,col_indexer] = value instead\n",
      "\n",
      "See the caveats in the documentation: https://pandas.pydata.org/pandas-docs/stable/user_guide/indexing.html#returning-a-view-versus-a-copy\n",
      "  df_nuevo['P5_3_1'] = df_nuevo['P5_3_1'].astype(int)\n",
      "C:\\Users\\Miguel\\AppData\\Local\\Temp/ipykernel_17760/1619613471.py:9: SettingWithCopyWarning: \n",
      "A value is trying to be set on a copy of a slice from a DataFrame.\n",
      "Try using .loc[row_indexer,col_indexer] = value instead\n",
      "\n",
      "See the caveats in the documentation: https://pandas.pydata.org/pandas-docs/stable/user_guide/indexing.html#returning-a-view-versus-a-copy\n",
      "  df_nuevo['P5_3_2'] = df_nuevo['P5_3_2'].astype(int)\n",
      "C:\\Users\\Miguel\\AppData\\Local\\Temp/ipykernel_17760/1619613471.py:10: SettingWithCopyWarning: \n",
      "A value is trying to be set on a copy of a slice from a DataFrame.\n",
      "Try using .loc[row_indexer,col_indexer] = value instead\n",
      "\n",
      "See the caveats in the documentation: https://pandas.pydata.org/pandas-docs/stable/user_guide/indexing.html#returning-a-view-versus-a-copy\n",
      "  df_nuevo['P5_3_3'] = df_nuevo['P5_3_3'].astype(int)\n",
      "C:\\Users\\Miguel\\AppData\\Local\\Temp/ipykernel_17760/1619613471.py:11: SettingWithCopyWarning: \n",
      "A value is trying to be set on a copy of a slice from a DataFrame.\n",
      "Try using .loc[row_indexer,col_indexer] = value instead\n",
      "\n",
      "See the caveats in the documentation: https://pandas.pydata.org/pandas-docs/stable/user_guide/indexing.html#returning-a-view-versus-a-copy\n",
      "  df_nuevo['P5_3_4'] = df_nuevo['P5_3_4'].astype(int)\n",
      "C:\\Users\\Miguel\\AppData\\Local\\Temp/ipykernel_17760/1619613471.py:12: SettingWithCopyWarning: \n",
      "A value is trying to be set on a copy of a slice from a DataFrame.\n",
      "Try using .loc[row_indexer,col_indexer] = value instead\n",
      "\n",
      "See the caveats in the documentation: https://pandas.pydata.org/pandas-docs/stable/user_guide/indexing.html#returning-a-view-versus-a-copy\n",
      "  df_nuevo['P5_7'] = df_nuevo['P5_7'].astype(float)\n",
      "C:\\Users\\Miguel\\AppData\\Local\\Temp/ipykernel_17760/1619613471.py:13: SettingWithCopyWarning: \n",
      "A value is trying to be set on a copy of a slice from a DataFrame.\n",
      "Try using .loc[row_indexer,col_indexer] = value instead\n",
      "\n",
      "See the caveats in the documentation: https://pandas.pydata.org/pandas-docs/stable/user_guide/indexing.html#returning-a-view-versus-a-copy\n",
      "  df_nuevo['P5_7A'] = df_nuevo['P5_7A'].astype(int)\n",
      "C:\\Users\\Miguel\\AppData\\Local\\Temp/ipykernel_17760/1619613471.py:14: SettingWithCopyWarning: \n",
      "A value is trying to be set on a copy of a slice from a DataFrame.\n",
      "Try using .loc[row_indexer,col_indexer] = value instead\n",
      "\n",
      "See the caveats in the documentation: https://pandas.pydata.org/pandas-docs/stable/user_guide/indexing.html#returning-a-view-versus-a-copy\n",
      "  df_nuevo['tot_horas'] = df_nuevo['P5_3_1'] + df_nuevo['P5_3_3']\n",
      "C:\\Users\\Miguel\\AppData\\Local\\Temp/ipykernel_17760/1619613471.py:15: SettingWithCopyWarning: \n",
      "A value is trying to be set on a copy of a slice from a DataFrame.\n",
      "Try using .loc[row_indexer,col_indexer] = value instead\n",
      "\n",
      "See the caveats in the documentation: https://pandas.pydata.org/pandas-docs/stable/user_guide/indexing.html#returning-a-view-versus-a-copy\n",
      "  df_nuevo['tot_minutos'] = df_nuevo['P5_3_2'] + df_nuevo['P5_3_4']\n",
      "C:\\Users\\Miguel\\AppData\\Local\\Temp/ipykernel_17760/1619613471.py:16: SettingWithCopyWarning: \n",
      "A value is trying to be set on a copy of a slice from a DataFrame.\n",
      "Try using .loc[row_indexer,col_indexer] = value instead\n",
      "\n",
      "See the caveats in the documentation: https://pandas.pydata.org/pandas-docs/stable/user_guide/indexing.html#returning-a-view-versus-a-copy\n",
      "  df_nuevo['tot_horas'] = df_nuevo['tot_horas'] + (df_nuevo['tot_minutos']/60)\n"
     ]
    }
   ],
   "source": [
    "df_nuevo['P5_3_1'] = df_nuevo['P5_3_1'].replace({np.nan: '0'})\n",
    "df_nuevo['P5_3_2'] = df_nuevo['P5_3_2'].replace({np.nan: '0'})\n",
    "df_nuevo['P5_3_3'] = df_nuevo['P5_3_3'].replace({np.nan: '0'})\n",
    "df_nuevo['P5_3_4'] = df_nuevo['P5_3_4'].replace({np.nan: '0'})\n",
    "df_nuevo['P5_7'] = df_nuevo['P5_7'].replace({np.nan: '0'})\n",
    "df_nuevo['P5_7'] = df_nuevo['P5_7'].replace({'99999': '0'})\n",
    "df_nuevo['P5_7A'] = df_nuevo['P5_7A'].replace({np.nan: '-1'})\n",
    "df_nuevo['P5_3_1'] = df_nuevo['P5_3_1'].astype(int)\n",
    "df_nuevo['P5_3_2'] = df_nuevo['P5_3_2'].astype(int)\n",
    "df_nuevo['P5_3_3'] = df_nuevo['P5_3_3'].astype(int)\n",
    "df_nuevo['P5_3_4'] = df_nuevo['P5_3_4'].astype(int)\n",
    "df_nuevo['P5_7'] = df_nuevo['P5_7'].astype(float)\n",
    "df_nuevo['P5_7A'] = df_nuevo['P5_7A'].astype(int)\n",
    "df_nuevo['tot_horas'] = df_nuevo['P5_3_1'] + df_nuevo['P5_3_3']\n",
    "df_nuevo['tot_minutos'] = df_nuevo['P5_3_2'] + df_nuevo['P5_3_4']\n",
    "df_nuevo['tot_horas'] = df_nuevo['tot_horas'] + (df_nuevo['tot_minutos']/60)"
   ]
  },
  {
   "cell_type": "code",
   "execution_count": 4,
   "id": "ec5f374f",
   "metadata": {},
   "outputs": [],
   "source": [
    "df_nuevo = df_nuevo.loc[df_nuevo['P5_7'] > 0]\n",
    "df_nuevo = df_nuevo.loc[df_nuevo['P5_7A'] > 0]\n",
    "df_nuevo = df_nuevo.loc[df_nuevo['EDAD_V'] >= 15]\n",
    "df_nuevo = df_nuevo.loc[df_nuevo['P5_1'] == 1]"
   ]
  },
  {
   "cell_type": "code",
   "execution_count": 5,
   "id": "09cbfa90",
   "metadata": {},
   "outputs": [],
   "source": [
    "def agregaColFrecPago(df):\n",
    "    res = []\n",
    "    for x in df:\n",
    "        if x == 1:\n",
    "            res.append(52)\n",
    "        else:\n",
    "            if x == 2:\n",
    "                res.append(26)\n",
    "            else:\n",
    "                if x == 3:\n",
    "                    res.append(12)\n",
    "                else:\n",
    "                    res.append(1)\n",
    "    \n",
    "    return res\n",
    "x = agregaColFrecPago(df_nuevo['P5_7A'])\n",
    "df_nuevo['semanal'] = ((x * df_nuevo['P5_7'])/48)\n",
    "df_nuevo['ganancia_hora'] = df_nuevo['semanal']/df_nuevo['tot_horas']\n",
    "df_nuevo = df_nuevo.loc[df_nuevo['P5_6_6'] == 1]\n",
    "df_limitado = df_nuevo.loc[df_nuevo['ganancia_hora'] <= 500]\n",
    "df_limitado = df_limitado.loc[df_limitado['tot_horas'] <= 90]"
   ]
  },
  {
   "cell_type": "markdown",
   "id": "924f2fec",
   "metadata": {},
   "source": [
    "## Metodos para agrupamiento de datos"
   ]
  },
  {
   "cell_type": "code",
   "execution_count": 6,
   "id": "339d15fb",
   "metadata": {},
   "outputs": [],
   "source": [
    "def grupos(df,minimo,maximo,num_grupos):\n",
    "    minimo = minimo - 1\n",
    "    maximo = maximo + 1\n",
    "    dif = maximo - minimo\n",
    "    tam_grupo = dif/num_grupos\n",
    "    res = []\n",
    "    for x in df:\n",
    "        y = x - minimo\n",
    "        y = int(y/tam_grupo)\n",
    "        if y % tam_grupo == 0:\n",
    "            if y != 0:\n",
    "                y = y - 1\n",
    "        res.append(y)\n",
    "    return res\n",
    "\n",
    "def imprimeGrupo(minimo,maximo,num_grupos):\n",
    "    minimo = minimo - 1\n",
    "    maximo = maximo + 1\n",
    "    dif = maximo - minimo\n",
    "    tam_grupo = dif/num_grupos\n",
    "    for i in range(num_grupos):\n",
    "        st = 'grupo '\n",
    "        x = minimo + i * tam_grupo\n",
    "        y = minimo + (i + 1) * tam_grupo\n",
    "        print('grupo ' + str(i) + ': (' + str(x) + ',' + str(y) +']')"
   ]
  },
  {
   "cell_type": "markdown",
   "id": "39ea9290",
   "metadata": {},
   "source": [
    "## Metodos para varianza y cosas extra"
   ]
  },
  {
   "cell_type": "code",
   "execution_count": 7,
   "id": "86b92dc2",
   "metadata": {},
   "outputs": [],
   "source": [
    "def s2df(df):\n",
    "    \n",
    "    n = len(df)\n",
    "    media = np.mean(df)\n",
    "    s2 = df - media\n",
    "    s2 = np.dot(s2,s2)\n",
    "    s2 = s2 / (n-1)\n",
    "    \n",
    "    return s2\n",
    "\n",
    "def arrInterConfianza(metodo,arr,alfa):\n",
    "    res = []\n",
    "    for x in arr:\n",
    "        \n",
    "        res.append(metodo(x,alfa))\n",
    "        \n",
    "    return res\n",
    "\n",
    "def arrEstimador(metodo,vec,col):\n",
    "    res = []\n",
    "    for x in vec:\n",
    "        res.append(metodo(x[col]))\n",
    "        \n",
    "    return res\n",
    "\n",
    "def pow_n(a):\n",
    "    res = pow(a,1/2)\n",
    "    \n",
    "    return res"
   ]
  },
  {
   "cell_type": "markdown",
   "id": "f5e52c73",
   "metadata": {},
   "source": [
    "## Metodos para intervalos de confianza"
   ]
  },
  {
   "cell_type": "code",
   "execution_count": 8,
   "id": "a13e38c3",
   "metadata": {},
   "outputs": [],
   "source": [
    "def intervaloDeConfVarDesc(df,alfa):\n",
    "    \n",
    "    res = []\n",
    "    n = len(df)\n",
    "    grados_de_libertad = n - 1\n",
    "    media = np.mean(df)\n",
    "    s2 = s2df(df)\n",
    "    res_t = t.ppf(1-alfa/2, df=grados_de_libertad)\n",
    "    sn = s2 / n\n",
    "    sn = pow(sn,1/2)\n",
    "    res.append((media - sn * res_t))\n",
    "    res.append((media + sn * res_t))\n",
    "    \n",
    "    return res\n",
    "\n",
    "def intervaloDeConfDifMedias(x,alfa):\n",
    "    \n",
    "    res = []\n",
    "    df_1 = x[0]\n",
    "    df_2 = x[1]\n",
    "    n1 = len(df_1)\n",
    "    n2 = len(df_2)\n",
    "    grados_de_libertad = n1 + n2 - 2\n",
    "    media1 = np.mean(df_1)\n",
    "    media2 = np.mean(df_2)\n",
    "    dif = media1 - media2\n",
    "    s21 = s2df(df_1)\n",
    "    s22 = s2df(df_2)\n",
    "    s1 = pow(s21,1/2)\n",
    "    s2 = pow(s22,1/2)\n",
    "    s2p = (((n1-1) * s21) + ((n2-1) * s22))/grados_de_libertad\n",
    "    sp = pow(s2p,1/2)\n",
    "    rn = (1/n1) + (1/n2)\n",
    "    rn = pow(rn,1/2)\n",
    "    res_t = t.ppf(1-alfa/2, df=grados_de_libertad)\n",
    "    res.append((dif - res_t * sp * rn))\n",
    "    res.append((dif + res_t * sp * rn))\n",
    "    \n",
    "    return res\n",
    "\n",
    "def intervaloDeConfCocienteDeVar(vec,alfa):\n",
    "    \n",
    "    res = []\n",
    "    \n",
    "    df_1 = vec[0]\n",
    "    df_2 = vec[1]\n",
    "    \n",
    "    n1 = len(df_1)\n",
    "    n2 = len(df_2)\n",
    "    \n",
    "    s21 = s2df(df_1)\n",
    "    s22 = s2df(df_2)\n",
    "    \n",
    "    f_res_sup = f.ppf(1-(alfa/2),n1-1,n2-1)\n",
    "    \n",
    "    f_res_inf = f.ppf(1-(alfa/2),n2-1,n1-1)\n",
    "    f_res_inf = 1/f_res_inf\n",
    "    \n",
    "    cociente = s22/s21\n",
    "    \n",
    "    res.append(f_res_inf * cociente)\n",
    "    res.append(f_res_sup * cociente)\n",
    "    \n",
    "    return res"
   ]
  },
  {
   "cell_type": "markdown",
   "id": "27e6d8db",
   "metadata": {},
   "source": [
    "## Metodos para pruebas de hipotesis"
   ]
  },
  {
   "cell_type": "code",
   "execution_count": 9,
   "id": "30848512",
   "metadata": {},
   "outputs": [],
   "source": [
    "def pruebaDeHipotesisDifMediaInferior(h0,vec,alfa):\n",
    "    \n",
    "    df_0 = vec[0]\n",
    "    df_1 = vec[1]\n",
    "    \n",
    "    media_0 = np.mean(df_0)\n",
    "    media_1 = np.mean(df_1)\n",
    "    \n",
    "    n0 = len(df_0)\n",
    "    n1 = len(df_1)\n",
    "    \n",
    "    s2_0 = s2df(df_0)\n",
    "    s2_1 = s2df(df_1)\n",
    "    \n",
    "    dif = media_0 - media_1\n",
    "    grados_de_libertad = n0 - n1 - 2\n",
    "    \n",
    "    sp2 = ((n0-1) * s2_0 + (n1-1) * s2_1)/grados_de_libertad\n",
    "    sp = pow(sp2,1/2)\n",
    "    \n",
    "    nr2 = (1/n0) + (1/n1)\n",
    "    nr = pow(nr2,1/2)\n",
    "    \n",
    "    t_res = t.ppf(alfa, df=grados_de_libertad)\n",
    "    \n",
    "    c = (t_res * nr * sp) + h0\n",
    "    \n",
    "    res_t = t.ppf(1-alfa/2, df=grados_de_libertad)\n",
    "    \n",
    "    return c,dif,c>dif\n",
    "\n",
    "def pruebaDeHipotesisSuperior(h0,vec,alfa):\n",
    "    \n",
    "    media = np.mean(vec) \n",
    "    n = len(vec)    \n",
    "    s2 = s2df(vec)    \n",
    "    grados_de_libertad = n - 1\n",
    "    s2n = s2/n\n",
    "    sn = pow(s2n,1/2)\n",
    "    \n",
    "    t_res = t.ppf(1-alfa, df=grados_de_libertad)\n",
    "    \n",
    "    c = (t_res * sn) + h0\n",
    "    \n",
    "    return c,media,c<media\n",
    "\n",
    "\n",
    "def pruebaDeHipotesisDifMediaSuperior(h0,vec,alfa):\n",
    "    \n",
    "    df_0 = vec[0]\n",
    "    df_1 = vec[1]\n",
    "    \n",
    "    media_0 = np.mean(df_0)\n",
    "    media_1 = np.mean(df_1)\n",
    "    \n",
    "    n0 = len(df_0)\n",
    "    n1 = len(df_1)\n",
    "    \n",
    "    s2_0 = s2df(df_0)\n",
    "    s2_1 = s2df(df_1)\n",
    "    \n",
    "    dif = media_0 - media_1\n",
    "    grados_de_libertad = n0 - n1 - 2\n",
    "    \n",
    "    sp2 = ((n0-1) * s2_0 + (n1-1) * s2_1)/grados_de_libertad\n",
    "    sp = pow(sp2,1/2)\n",
    "    \n",
    "    nr2 = (1/n0) + (1/n1)\n",
    "    nr = pow(nr2,1/2)\n",
    "    \n",
    "    t_res = t.ppf(1-alfa, df=grados_de_libertad)\n",
    "    \n",
    "    c = (t_res * nr * sp) + h0\n",
    "    \n",
    "    return c,dif,c<dif\n",
    "\n",
    "def beta(vec,punto_critico,ha):\n",
    "    df_0 = vec[0]\n",
    "    df_1 = vec[1]  \n",
    "    \n",
    "    n0 = len(df_0)\n",
    "    n1 = len(df_1)\n",
    "    \n",
    "    s2_0 = s2df(df_0)\n",
    "    s2_1 = s2df(df_1)\n",
    "    \n",
    "    grados_de_libertad = n0 - n1 - 2\n",
    "    \n",
    "    arriba = punto_critico - ha\n",
    "    \n",
    "    sp2 = ((n0-1) * s2_0 + (n1-1) * s2_1)/grados_de_libertad\n",
    "    sp = pow(sp2,1/2)\n",
    "    \n",
    "    nr2 = (1/n0) + (1/n1)\n",
    "    nr = pow(nr2,1/2)\n",
    "    \n",
    "    res = arriba/(sp*nr)\n",
    "    \n",
    "    t_res = t.cdf(res, df=grados_de_libertad)\n",
    "    \n",
    "    return t_res\n",
    "\n",
    "def aceptar_o_rechazar_h0(b, alfa):\n",
    "    \n",
    "    if b :\n",
    "        print('Hay evidencia suficiente para rechazar h0, con una confiabilidad del ' + str(1-alfa))\n",
    "        \n",
    "    else:\n",
    "        print('No hay evidencia suficiente para rechazar h0, con una confiabilidad del ' + str(1-alfa))"
   ]
  },
  {
   "cell_type": "markdown",
   "id": "84161c29",
   "metadata": {},
   "source": [
    "# Intervalos de confianza"
   ]
  },
  {
   "cell_type": "code",
   "execution_count": 10,
   "id": "4d968702",
   "metadata": {},
   "outputs": [
    {
     "name": "stdout",
     "output_type": "stream",
     "text": [
      "Intervalo de confinza para horas trabajadas con alfa del 0.05\n",
      "Intervalo de confinza para horas trabajadas con educacion nula : [52.540485726846796, 60.53816595854646]\n",
      "Intervalo de confinza para horas trabajadas con educacion básica : [51.246557520556806, 52.0477886534474]\n",
      "Intervalo de confinza para horas trabajadas con educacion media : [49.90574090800223, 50.7715004713081]\n",
      "Intervalo de confinza para horas trabajadas con educacion superior : [45.19034457172962, 45.98944389637001]\n",
      "-------------------------------------------------------------------------------------\n",
      "Intervalo de confinza para el ingreso por hora con alfa del 0.05\n",
      "Intervalo de confinza para el ingreso por hora con educacion nula : [25.451599312538054, 34.07361260153309]\n",
      "Intervalo de confinza para el ingreso por hora con educacion básica : [37.328681303547896, 40.45552288624239]\n",
      "Intervalo de confinza para el ingreso por hora con educacion media : [44.66171375537651, 47.56049665281894]\n",
      "Intervalo de confinza para el ingreso por hora con educacion superior : [77.84038050977627, 87.72304458571209]\n"
     ]
    }
   ],
   "source": [
    "df_nula = df_nuevo.loc[df_nuevo['NIV'] == 0]\n",
    "df_basica = df_nuevo.loc[df_nuevo['NIV'] > 0]\n",
    "df_basica = df_basica.loc[df_basica['NIV'] < 4]\n",
    "df_media = df_nuevo.loc[df_nuevo['NIV'] > 3]\n",
    "df_media = df_media.loc[df_media['NIV'] < 8]\n",
    "df_superior = df_nuevo.loc[df_nuevo['NIV'] > 7]\n",
    "\n",
    "alfa = .05\n",
    "arr_horas = [df_nula['tot_horas'],df_basica['tot_horas'],df_media['tot_horas'],df_superior['tot_horas']]\n",
    "arr_pago_hora = [df_nula['ganancia_hora'],df_basica['ganancia_hora'],df_media['ganancia_hora'],df_superior['ganancia_hora']]\n",
    "arr_inter_horas = arrInterConfianza(intervaloDeConfVarDesc,arr_horas,alfa)\n",
    "arr_inter_pago_hora = arrInterConfianza(intervaloDeConfVarDesc,arr_pago_hora,alfa)\n",
    "\n",
    "print('Intervalo de confinza para horas trabajadas con alfa del ' + str(alfa))\n",
    "print('Intervalo de confinza para horas trabajadas con educacion nula : ' + str(arr_inter_horas[0]))\n",
    "print('Intervalo de confinza para horas trabajadas con educacion básica : ' + str(arr_inter_horas[1]))\n",
    "print('Intervalo de confinza para horas trabajadas con educacion media : ' + str(arr_inter_horas[2]))\n",
    "print('Intervalo de confinza para horas trabajadas con educacion superior : ' + str(arr_inter_horas[3]))\n",
    "print('-------------------------------------------------------------------------------------')\n",
    "print('Intervalo de confinza para el ingreso por hora con alfa del ' + str(alfa))\n",
    "print('Intervalo de confinza para el ingreso por hora con educacion nula : ' + str(arr_inter_pago_hora[0]))\n",
    "print('Intervalo de confinza para el ingreso por hora con educacion básica : ' + str(arr_inter_pago_hora[1]))\n",
    "print('Intervalo de confinza para el ingreso por hora con educacion media : ' + str(arr_inter_pago_hora[2]))\n",
    "print('Intervalo de confinza para el ingreso por hora con educacion superior : ' + str(arr_inter_pago_hora[3]))"
   ]
  },
  {
   "cell_type": "code",
   "execution_count": 11,
   "id": "0364caa3",
   "metadata": {},
   "outputs": [
    {
     "name": "stdout",
     "output_type": "stream",
     "text": [
      "Intervalo de confinza para horas trabajadas con alfa del 0.1\n",
      "Intervalo de confinza para horas trabajadas con educacion nula : [53.194324141365904, 59.88432754402735]\n",
      "Intervalo de confinza para horas trabajadas con educacion básica : [51.31098467689798, 51.98336149710622]\n",
      "Intervalo de confinza para horas trabajadas con educacion media : [49.975359485353444, 50.70188189395689]\n",
      "Intervalo de confinza para horas trabajadas con educacion superior : [45.25460108722411, 45.92518738087552]\n",
      "-------------------------------------------------------------------------------------\n",
      "Intervalo de confinza para el ingreso por hora con alfa del 0.1\n",
      "Intervalo de confinza para el ingreso por hora con educacion nula : [26.15647914462921, 33.36873276944194]\n",
      "Intervalo de confinza para el ingreso por hora con educacion básica : [37.5801112633094, 40.20409292648089]\n",
      "Intervalo de confinza para el ingreso por hora con educacion media : [44.89481443358255, 47.3273959746129]\n",
      "Intervalo de confinza para el ingreso por hora con educacion superior : [78.63505713850198, 86.92836795698638]\n"
     ]
    }
   ],
   "source": [
    "alfa = .1\n",
    "arr_inter_horas = arrInterConfianza(intervaloDeConfVarDesc,arr_horas,alfa)\n",
    "arr_inter_pago_hora = arrInterConfianza(intervaloDeConfVarDesc,arr_pago_hora,alfa)\n",
    "\n",
    "print('Intervalo de confinza para horas trabajadas con alfa del ' + str(alfa))\n",
    "print('Intervalo de confinza para horas trabajadas con educacion nula : ' + str(arr_inter_horas[0]))\n",
    "print('Intervalo de confinza para horas trabajadas con educacion básica : ' + str(arr_inter_horas[1]))\n",
    "print('Intervalo de confinza para horas trabajadas con educacion media : ' + str(arr_inter_horas[2]))\n",
    "print('Intervalo de confinza para horas trabajadas con educacion superior : ' + str(arr_inter_horas[3]))\n",
    "print('-------------------------------------------------------------------------------------')\n",
    "print('Intervalo de confinza para el ingreso por hora con alfa del ' + str(alfa))\n",
    "print('Intervalo de confinza para el ingreso por hora con educacion nula : ' + str(arr_inter_pago_hora[0]))\n",
    "print('Intervalo de confinza para el ingreso por hora con educacion básica : ' + str(arr_inter_pago_hora[1]))\n",
    "print('Intervalo de confinza para el ingreso por hora con educacion media : ' + str(arr_inter_pago_hora[2]))\n",
    "print('Intervalo de confinza para el ingreso por hora con educacion superior : ' + str(arr_inter_pago_hora[3]))"
   ]
  },
  {
   "cell_type": "markdown",
   "id": "75726011",
   "metadata": {},
   "source": [
    "## Hombre vs mujeres"
   ]
  },
  {
   "cell_type": "code",
   "execution_count": 12,
   "id": "d57a0cc7",
   "metadata": {},
   "outputs": [
    {
     "name": "stdout",
     "output_type": "stream",
     "text": [
      "Intervalo de confinza para horas trabajadas con alfa del 0.05\n",
      "Intervalo de confinza para horas trabajadas de los hombres : [51.63751568887702, 52.286087326588905]\n",
      "Intervalo de confinza para horas trabajadas de las mujeres  : [45.003917833802035, 45.66783887021761]\n",
      "Intervalo de confinza para diferencia de horas promedio trabajadas : [6.148798163664933, 7.103048147781353]\n",
      "-------------------------------------------------------------------------------------\n",
      "Intervalo de confinza para el ingreso por hora con alfa del 0.05\n",
      "Intervalo de confinza para el ingreso por hora de los hombres : [53.521016543503464, 59.40537245902544]\n",
      "Intervalo de confinza para el ingreso por hora de las mujeres : [53.40977126165034, 56.256958507644406]\n",
      "Intervalo de confinza para diferencia de ingreso por hora promedio : [-2.0890780628670917, 5.348737296101252]\n"
     ]
    }
   ],
   "source": [
    "df_hombres = df_nuevo.loc[df_nuevo['SEXO'] == 1]\n",
    "df_mujeres = df_nuevo.loc[df_nuevo['SEXO'] == 2]\n",
    "\n",
    "alfa = .05\n",
    "\n",
    "\n",
    "arr_horas = [df_hombres['tot_horas'],df_mujeres['tot_horas']]\n",
    "arr_pago_hora = [df_hombres['ganancia_hora'],df_mujeres['ganancia_hora']]\n",
    "arr_inter_horas = arrInterConfianza(intervaloDeConfVarDesc,arr_horas,alfa)\n",
    "arr_inter_pago_hora = arrInterConfianza(intervaloDeConfVarDesc,arr_pago_hora,alfa)\n",
    "\n",
    "x = [df_hombres['tot_horas'],df_mujeres['tot_horas']]\n",
    "dif_media_horas = intervaloDeConfDifMedias(x,alfa)\n",
    "\n",
    "x = [df_hombres['ganancia_hora'],df_mujeres['ganancia_hora']]\n",
    "dif_media_ganancia = intervaloDeConfDifMedias(x,alfa)\n",
    "\n",
    "print('Intervalo de confinza para horas trabajadas con alfa del ' + str(alfa))\n",
    "print('Intervalo de confinza para horas trabajadas de los hombres : ' + str(arr_inter_horas[0]))\n",
    "print('Intervalo de confinza para horas trabajadas de las mujeres  : ' + str(arr_inter_horas[1]))\n",
    "print('Intervalo de confinza para diferencia de horas promedio trabajadas : ' + str(dif_media_horas))\n",
    "print('-------------------------------------------------------------------------------------')\n",
    "print('Intervalo de confinza para el ingreso por hora con alfa del ' + str(alfa))\n",
    "print('Intervalo de confinza para el ingreso por hora de los hombres : ' + str(arr_inter_pago_hora[0]))\n",
    "print('Intervalo de confinza para el ingreso por hora de las mujeres : ' + str(arr_inter_pago_hora[1]))\n",
    "print('Intervalo de confinza para diferencia de ingreso por hora promedio : ' + str(dif_media_ganancia))"
   ]
  },
  {
   "cell_type": "code",
   "execution_count": 13,
   "id": "c183a313",
   "metadata": {},
   "outputs": [
    {
     "name": "stdout",
     "output_type": "stream",
     "text": [
      "Intervalo de confinza para horas trabajadas con alfa del 0.1\n",
      "Intervalo de confinza para horas trabajadas de los hombres : [51.689661281066115, 52.233941734399814]\n",
      "Intervalo de confinza para horas trabajadas de las mujeres  : [45.05730153902154, 45.614455164998105]\n",
      "Intervalo de confinza para diferencia de horas promedio trabajadas : [6.225515052830172, 7.026331258616114]\n",
      "-------------------------------------------------------------------------------------\n",
      "Intervalo de confinza para el ingreso por hora con alfa del 0.1\n",
      "Intervalo de confinza para el ingreso por hora de los hombres : [53.994122683248946, 58.93226631927996]\n",
      "Intervalo de confinza para el ingreso por hora de las mujeres : [53.638704216487056, 56.02802555280769]\n",
      "Intervalo de confinza para diferencia de ingreso por hora promedio : [-1.4911151956695337, 4.750774428903694]\n"
     ]
    }
   ],
   "source": [
    "alfa = .1\n",
    "\n",
    "arr_inter_horas = arrInterConfianza(intervaloDeConfVarDesc,arr_horas,alfa)\n",
    "arr_inter_pago_hora = arrInterConfianza(intervaloDeConfVarDesc,arr_pago_hora,alfa)\n",
    "\n",
    "x = [df_hombres['tot_horas'],df_mujeres['tot_horas']]\n",
    "dif_media_horas = intervaloDeConfDifMedias(x,alfa)\n",
    "\n",
    "x = [df_hombres['ganancia_hora'],df_mujeres['ganancia_hora']]\n",
    "dif_media_ganancia = intervaloDeConfDifMedias(x,alfa)\n",
    "\n",
    "print('Intervalo de confinza para horas trabajadas con alfa del ' + str(alfa))\n",
    "print('Intervalo de confinza para horas trabajadas de los hombres : ' + str(arr_inter_horas[0]))\n",
    "print('Intervalo de confinza para horas trabajadas de las mujeres  : ' + str(arr_inter_horas[1]))\n",
    "print('Intervalo de confinza para diferencia de horas promedio trabajadas : ' + str(dif_media_horas))\n",
    "print('-------------------------------------------------------------------------------------')\n",
    "print('Intervalo de confinza para el ingreso por hora con alfa del ' + str(alfa))\n",
    "print('Intervalo de confinza para el ingreso por hora de los hombres : ' + str(arr_inter_pago_hora[0]))\n",
    "print('Intervalo de confinza para el ingreso por hora de las mujeres : ' + str(arr_inter_pago_hora[1]))\n",
    "print('Intervalo de confinza para diferencia de ingreso por hora promedio : ' + str(dif_media_ganancia))"
   ]
  },
  {
   "cell_type": "markdown",
   "id": "001d212b",
   "metadata": {},
   "source": [
    "### Cociente de varianzas"
   ]
  },
  {
   "cell_type": "code",
   "execution_count": 14,
   "id": "c7b25aaf",
   "metadata": {},
   "outputs": [
    {
     "name": "stdout",
     "output_type": "stream",
     "text": [
      "intervalo de confianza para cociente de varianzas del total de horas trabajadas en la semana[0.7022931709603716, 0.7595615174625626]\n",
      "-----------------------------------------------------------------------------------------------------\n",
      "intervalo de confianza para cociente de varianzas entre total ingreso por hora[0.15690460319330451, 0.16969935552042062]\n"
     ]
    }
   ],
   "source": [
    "alfa = .1\n",
    "\n",
    "x = [df_hombres['tot_horas'],df_mujeres['tot_horas']]\n",
    "cociente_var = intervaloDeConfCocienteDeVar(x,alfa)\n",
    "print('intervalo de confianza para cociente de varianzas del total de horas trabajadas en la semana' + str(cociente_var))\n",
    "\n",
    "print('-----------------------------------------------------------------------------------------------------')\n",
    "\n",
    "x = [df_hombres['ganancia_hora'],df_mujeres['ganancia_hora']]\n",
    "cociente_var = intervaloDeConfCocienteDeVar(x,alfa)\n",
    "print('intervalo de confianza para cociente de varianzas entre total ingreso por hora' + str(cociente_var))"
   ]
  },
  {
   "cell_type": "code",
   "execution_count": 15,
   "id": "77d57c77",
   "metadata": {},
   "outputs": [
    {
     "data": {
      "image/png": "[encoded data removed]",
      "text/plain": [
       "<Figure size 792x792 with 1 Axes>"
      ]
     },
     "metadata": {
      "needs_background": "light"
     },
     "output_type": "display_data"
    }
   ],
   "source": [
    "vec = [df_nula,df_basica,df_media,df_superior,df_hombres,df_mujeres]\n",
    "\n",
    "x_s2_horas = arrEstimador(s2df,vec,'tot_horas')\n",
    "x_s_horas = map(pow_n,x_s2_horas)\n",
    "x_s_horas = list(x_s_horas)\n",
    "x_media_horas = arrEstimador(np.mean,vec,'tot_horas')\n",
    "\n",
    "legends = ['Nula','Basica','Media','Superior','Hombres','Mujeres']\n",
    "plt.figure(figsize=(11,11))\n",
    "for i in range(len(x_s2_horas)):\n",
    "    plt.scatter(x_media_horas[i],x_s_horas[i])\n",
    "    plt.annotate(legends[i], ( x_media_horas[i],x_s_horas[i]))\n",
    "plt.legend(legends, fontsize=\"15\")\n",
    "plt.grid(True)"
   ]
  },
  {
   "cell_type": "code",
   "execution_count": 16,
   "id": "73f58a3b",
   "metadata": {},
   "outputs": [
    {
     "data": {
      "image/png": "[encoded data removed]",
      "text/plain": [
       "<Figure size 864x864 with 1 Axes>"
      ]
     },
     "metadata": {
      "needs_background": "light"
     },
     "output_type": "display_data"
    }
   ],
   "source": [
    "x_s2_ganancia = arrEstimador(s2df,vec,'ganancia_hora')\n",
    "x_s_ganancia = map(pow_n,x_s2_ganancia)\n",
    "x_s_ganancia = list(x_s_ganancia)\n",
    "x_media_ganancia = arrEstimador(np.mean,vec,'ganancia_hora')\n",
    "\n",
    "plt.figure(figsize=(12,12))\n",
    "for i in range(len(x_s2_horas)):\n",
    "    plt.scatter(x_media_ganancia[i],x_s_ganancia[i],label = legends[i])\n",
    "    plt.annotate(legends[i], ( x_media_ganancia[i],x_s_ganancia[i]))\n",
    "plt.legend(legends, fontsize=\"15\")\n",
    "plt.grid(True)"
   ]
  },
  {
   "cell_type": "markdown",
   "id": "33849ab5",
   "metadata": {},
   "source": [
    "# Pruebas de hipotesis"
   ]
  },
  {
   "cell_type": "markdown",
   "id": "5fb6e621",
   "metadata": {},
   "source": [
    "### Probar si las personas por nivel educativo trabajan más que el promedio muestral"
   ]
  },
  {
   "cell_type": "code",
   "execution_count": 18,
   "id": "0eb937fc",
   "metadata": {},
   "outputs": [
    {
     "name": "stdout",
     "output_type": "stream",
     "text": [
      "valor del punto crítico: 56.40977563986106\n",
      "medias: 56.53932584269663\n",
      "Hay evidencia suficiente para rechazar h0, con una confiabilidad del 0.999\n"
     ]
    }
   ],
   "source": [
    "alfa = 0.001\n",
    "h0 = 50\n",
    "\n",
    "res = pruebaDeHipotesisSuperior(h0,df_nula['tot_horas'],alfa)\n",
    "\n",
    "print('valor del punto crítico: ' + str(res[0]))\n",
    "print('medias: ' + str(res[1]))\n",
    "aceptar_o_rechazar_h0(res[2],alfa)"
   ]
  },
  {
   "cell_type": "markdown",
   "id": "c4795825",
   "metadata": {},
   "source": [
    "## Agregar mas pruebas de hipotesis"
   ]
  },
  {
   "cell_type": "code",
   "execution_count": 22,
   "id": "e771e4dc",
   "metadata": {},
   "outputs": [],
   "source": [
    "df_hombres_nula = df_nula.loc[df_nula['SEXO'] == 1]\n",
    "df_hombres_basica = df_basica.loc[df_basica['SEXO'] == 1]\n",
    "df_hombres_media = df_media.loc[df_media['SEXO'] == 1]\n",
    "df_hombres_superior = df_superior.loc[df_superior['SEXO'] == 1]\n",
    "df_mujeres_nula = df_nula.loc[df_nula['SEXO'] == 2]\n",
    "df_mujeres_basica = df_basica.loc[df_basica['SEXO'] == 2]\n",
    "df_mujeres_media = df_media.loc[df_media['SEXO'] == 2]\n",
    "df_mujeres_superior = df_superior.loc[df_superior['SEXO'] == 2]"
   ]
  },
  {
   "cell_type": "markdown",
   "id": "897166bb",
   "metadata": {},
   "source": [
    "# Numero de hombres por educacion en order creciente de educacion"
   ]
  },
  {
   "cell_type": "code",
   "execution_count": 25,
   "id": "7f0c4a97",
   "metadata": {},
   "outputs": [
    {
     "name": "stdout",
     "output_type": "stream",
     "text": [
      "61\n",
      "3374\n",
      "2707\n",
      "2436\n"
     ]
    }
   ],
   "source": [
    "print(len(df_hombres_nula))\n",
    "print(len(df_hombres_basica))\n",
    "print(len(df_hombres_media))\n",
    "print(len(df_hombres_superior))"
   ]
  },
  {
   "cell_type": "markdown",
   "id": "14abfd5e",
   "metadata": {},
   "source": [
    "# Numero de mujeres por educacion en order creciente de educacion"
   ]
  },
  {
   "cell_type": "code",
   "execution_count": 26,
   "id": "3439c6a8",
   "metadata": {},
   "outputs": [
    {
     "name": "stdout",
     "output_type": "stream",
     "text": [
      "28\n",
      "1714\n",
      "1788\n",
      "2449\n"
     ]
    }
   ],
   "source": [
    "print(len(df_mujeres_nula))\n",
    "print(len(df_mujeres_basica))\n",
    "print(len(df_mujeres_media))\n",
    "print(len(df_mujeres_superior))"
   ]
  },
  {
   "cell_type": "markdown",
   "id": "9ab09893",
   "metadata": {},
   "source": [
    "# Porcentaje de hombres por educacion en orden creciente de educacion"
   ]
  },
  {
   "cell_type": "code",
   "execution_count": 27,
   "id": "1f6ce2e3",
   "metadata": {},
   "outputs": [
    {
     "name": "stdout",
     "output_type": "stream",
     "text": [
      "0.6853932584269663\n",
      "0.66312893081761\n",
      "0.6022246941045606\n",
      "0.49866939611054245\n"
     ]
    }
   ],
   "source": [
    "print(len(df_hombres_nula)/len(df_nula))\n",
    "print(len(df_hombres_basica)/len(df_basica))\n",
    "print(len(df_hombres_media)/len(df_media))\n",
    "print(len(df_hombres_superior)/len(df_superior))"
   ]
  },
  {
   "cell_type": "code",
   "execution_count": 28,
   "id": "ab275257",
   "metadata": {},
   "outputs": [
    {
     "name": "stdout",
     "output_type": "stream",
     "text": [
      "0.3146067415730337\n",
      "0.33687106918238996\n",
      "0.39777530589543936\n",
      "0.5013306038894575\n"
     ]
    }
   ],
   "source": [
    "print(len(df_mujeres_nula)/len(df_nula))\n",
    "print(len(df_mujeres_basica)/len(df_basica))\n",
    "print(len(df_mujeres_media)/len(df_media))\n",
    "print(len(df_mujeres_superior)/len(df_superior))"
   ]
  },
  {
   "cell_type": "code",
   "execution_count": null,
   "id": "19158375",
   "metadata": {},
   "outputs": [],
   "source": []
  }
 ],
 "metadata": {
  "kernelspec": {
   "display_name": "Python 3 (ipykernel)",
   "language": "python",
   "name": "python3"
  },
  "language_info": {
   "codemirror_mode": {
    "name": "ipython",
    "version": 3
   },
   "file_extension": ".py",
   "mimetype": "text/x-python",
   "name": "python",
   "nbconvert_exporter": "python",
   "pygments_lexer": "ipython3",
   "version": "3.8.8"
  }
 },
 "nbformat": 4,
 "nbformat_minor": 5
}
