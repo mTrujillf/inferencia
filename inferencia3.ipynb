{
 "cells": [
  {
   "cell_type": "code",
   "execution_count": 1,
   "id": "9b84acb8",
   "metadata": {},
   "outputs": [],
   "source": [
    "import pandas as pd\n",
    "import numpy as np\n",
    "import matplotlib.pyplot as plt\n",
    "from scipy.stats import t"
   ]
  },
  {
   "cell_type": "code",
   "execution_count": 2,
   "id": "3c6c3fdf",
   "metadata": {},
   "outputs": [
    {
     "data": {
      "text/plain": [
       "71404"
      ]
     },
     "execution_count": 2,
     "metadata": {},
     "output_type": "execute_result"
    }
   ],
   "source": [
    "df = pd.read_csv('conjunto_de_datos_tmodulo_enut_2019.csv',encoding='latin-1')\n",
    "df_nuevo = df[['EDAD_V','SEXO','NIV','P5_1','P5_3_1','P5_3_2','P5_3_3','P5_3_4','P5_6_6','P5_7','P5_7A']]\n",
    "len(df_nuevo)"
   ]
  },
  {
   "cell_type": "code",
   "execution_count": 3,
   "id": "d4ded502",
   "metadata": {},
   "outputs": [
    {
     "name": "stderr",
     "output_type": "stream",
     "text": [
      "C:\\Users\\Miguel\\AppData\\Local\\Temp/ipykernel_22668/2879524589.py:1: SettingWithCopyWarning: \n",
      "A value is trying to be set on a copy of a slice from a DataFrame.\n",
      "Try using .loc[row_indexer,col_indexer] = value instead\n",
      "\n",
      "See the caveats in the documentation: https://pandas.pydata.org/pandas-docs/stable/user_guide/indexing.html#returning-a-view-versus-a-copy\n",
      "  df_nuevo['P5_3_1'] = df_nuevo['P5_3_1'].replace({np.nan: '0'})\n",
      "C:\\Users\\Miguel\\AppData\\Local\\Temp/ipykernel_22668/2879524589.py:2: SettingWithCopyWarning: \n",
      "A value is trying to be set on a copy of a slice from a DataFrame.\n",
      "Try using .loc[row_indexer,col_indexer] = value instead\n",
      "\n",
      "See the caveats in the documentation: https://pandas.pydata.org/pandas-docs/stable/user_guide/indexing.html#returning-a-view-versus-a-copy\n",
      "  df_nuevo['P5_3_2'] = df_nuevo['P5_3_2'].replace({np.nan: '0'})\n",
      "C:\\Users\\Miguel\\AppData\\Local\\Temp/ipykernel_22668/2879524589.py:3: SettingWithCopyWarning: \n",
      "A value is trying to be set on a copy of a slice from a DataFrame.\n",
      "Try using .loc[row_indexer,col_indexer] = value instead\n",
      "\n",
      "See the caveats in the documentation: https://pandas.pydata.org/pandas-docs/stable/user_guide/indexing.html#returning-a-view-versus-a-copy\n",
      "  df_nuevo['P5_3_3'] = df_nuevo['P5_3_3'].replace({np.nan: '0'})\n",
      "C:\\Users\\Miguel\\AppData\\Local\\Temp/ipykernel_22668/2879524589.py:4: SettingWithCopyWarning: \n",
      "A value is trying to be set on a copy of a slice from a DataFrame.\n",
      "Try using .loc[row_indexer,col_indexer] = value instead\n",
      "\n",
      "See the caveats in the documentation: https://pandas.pydata.org/pandas-docs/stable/user_guide/indexing.html#returning-a-view-versus-a-copy\n",
      "  df_nuevo['P5_3_4'] = df_nuevo['P5_3_4'].replace({np.nan: '0'})\n",
      "C:\\Users\\Miguel\\AppData\\Local\\Temp/ipykernel_22668/2879524589.py:5: SettingWithCopyWarning: \n",
      "A value is trying to be set on a copy of a slice from a DataFrame.\n",
      "Try using .loc[row_indexer,col_indexer] = value instead\n",
      "\n",
      "See the caveats in the documentation: https://pandas.pydata.org/pandas-docs/stable/user_guide/indexing.html#returning-a-view-versus-a-copy\n",
      "  df_nuevo['P5_7'] = df_nuevo['P5_7'].replace({np.nan: '0'})\n",
      "C:\\Users\\Miguel\\AppData\\Local\\Temp/ipykernel_22668/2879524589.py:6: SettingWithCopyWarning: \n",
      "A value is trying to be set on a copy of a slice from a DataFrame.\n",
      "Try using .loc[row_indexer,col_indexer] = value instead\n",
      "\n",
      "See the caveats in the documentation: https://pandas.pydata.org/pandas-docs/stable/user_guide/indexing.html#returning-a-view-versus-a-copy\n",
      "  df_nuevo['P5_7'] = df_nuevo['P5_7'].replace({'99999': '0'})\n",
      "C:\\Users\\Miguel\\AppData\\Local\\Temp/ipykernel_22668/2879524589.py:7: SettingWithCopyWarning: \n",
      "A value is trying to be set on a copy of a slice from a DataFrame.\n",
      "Try using .loc[row_indexer,col_indexer] = value instead\n",
      "\n",
      "See the caveats in the documentation: https://pandas.pydata.org/pandas-docs/stable/user_guide/indexing.html#returning-a-view-versus-a-copy\n",
      "  df_nuevo['P5_7A'] = df_nuevo['P5_7A'].replace({np.nan: '-1'})\n",
      "C:\\Users\\Miguel\\AppData\\Local\\Temp/ipykernel_22668/2879524589.py:8: SettingWithCopyWarning: \n",
      "A value is trying to be set on a copy of a slice from a DataFrame.\n",
      "Try using .loc[row_indexer,col_indexer] = value instead\n",
      "\n",
      "See the caveats in the documentation: https://pandas.pydata.org/pandas-docs/stable/user_guide/indexing.html#returning-a-view-versus-a-copy\n",
      "  df_nuevo['P5_3_1'] = df_nuevo['P5_3_1'].astype(int)\n",
      "C:\\Users\\Miguel\\AppData\\Local\\Temp/ipykernel_22668/2879524589.py:9: SettingWithCopyWarning: \n",
      "A value is trying to be set on a copy of a slice from a DataFrame.\n",
      "Try using .loc[row_indexer,col_indexer] = value instead\n",
      "\n",
      "See the caveats in the documentation: https://pandas.pydata.org/pandas-docs/stable/user_guide/indexing.html#returning-a-view-versus-a-copy\n",
      "  df_nuevo['P5_3_2'] = df_nuevo['P5_3_2'].astype(int)\n",
      "C:\\Users\\Miguel\\AppData\\Local\\Temp/ipykernel_22668/2879524589.py:10: SettingWithCopyWarning: \n",
      "A value is trying to be set on a copy of a slice from a DataFrame.\n",
      "Try using .loc[row_indexer,col_indexer] = value instead\n",
      "\n",
      "See the caveats in the documentation: https://pandas.pydata.org/pandas-docs/stable/user_guide/indexing.html#returning-a-view-versus-a-copy\n",
      "  df_nuevo['P5_3_3'] = df_nuevo['P5_3_3'].astype(int)\n",
      "C:\\Users\\Miguel\\AppData\\Local\\Temp/ipykernel_22668/2879524589.py:11: SettingWithCopyWarning: \n",
      "A value is trying to be set on a copy of a slice from a DataFrame.\n",
      "Try using .loc[row_indexer,col_indexer] = value instead\n",
      "\n",
      "See the caveats in the documentation: https://pandas.pydata.org/pandas-docs/stable/user_guide/indexing.html#returning-a-view-versus-a-copy\n",
      "  df_nuevo['P5_3_4'] = df_nuevo['P5_3_4'].astype(int)\n",
      "C:\\Users\\Miguel\\AppData\\Local\\Temp/ipykernel_22668/2879524589.py:12: SettingWithCopyWarning: \n",
      "A value is trying to be set on a copy of a slice from a DataFrame.\n",
      "Try using .loc[row_indexer,col_indexer] = value instead\n",
      "\n",
      "See the caveats in the documentation: https://pandas.pydata.org/pandas-docs/stable/user_guide/indexing.html#returning-a-view-versus-a-copy\n",
      "  df_nuevo['P5_7'] = df_nuevo['P5_7'].astype(float)\n",
      "C:\\Users\\Miguel\\AppData\\Local\\Temp/ipykernel_22668/2879524589.py:13: SettingWithCopyWarning: \n",
      "A value is trying to be set on a copy of a slice from a DataFrame.\n",
      "Try using .loc[row_indexer,col_indexer] = value instead\n",
      "\n",
      "See the caveats in the documentation: https://pandas.pydata.org/pandas-docs/stable/user_guide/indexing.html#returning-a-view-versus-a-copy\n",
      "  df_nuevo['P5_7A'] = df_nuevo['P5_7A'].astype(int)\n",
      "C:\\Users\\Miguel\\AppData\\Local\\Temp/ipykernel_22668/2879524589.py:14: SettingWithCopyWarning: \n",
      "A value is trying to be set on a copy of a slice from a DataFrame.\n",
      "Try using .loc[row_indexer,col_indexer] = value instead\n",
      "\n",
      "See the caveats in the documentation: https://pandas.pydata.org/pandas-docs/stable/user_guide/indexing.html#returning-a-view-versus-a-copy\n",
      "  df_nuevo['tot_horas'] = df_nuevo['P5_3_1'] + df_nuevo['P5_3_3']\n",
      "C:\\Users\\Miguel\\AppData\\Local\\Temp/ipykernel_22668/2879524589.py:15: SettingWithCopyWarning: \n",
      "A value is trying to be set on a copy of a slice from a DataFrame.\n",
      "Try using .loc[row_indexer,col_indexer] = value instead\n",
      "\n",
      "See the caveats in the documentation: https://pandas.pydata.org/pandas-docs/stable/user_guide/indexing.html#returning-a-view-versus-a-copy\n",
      "  df_nuevo['tot_minutos'] = df_nuevo['P5_3_2'] + df_nuevo['P5_3_4']\n",
      "C:\\Users\\Miguel\\AppData\\Local\\Temp/ipykernel_22668/2879524589.py:16: SettingWithCopyWarning: \n",
      "A value is trying to be set on a copy of a slice from a DataFrame.\n",
      "Try using .loc[row_indexer,col_indexer] = value instead\n",
      "\n",
      "See the caveats in the documentation: https://pandas.pydata.org/pandas-docs/stable/user_guide/indexing.html#returning-a-view-versus-a-copy\n",
      "  df_nuevo['tot_horas'] = df_nuevo['tot_horas'] + (df_nuevo['tot_minutos']/60)\n"
     ]
    },
    {
     "data": {
      "text/html": [
       "<div>\n",
       "<style scoped>\n",
       "    .dataframe tbody tr th:only-of-type {\n",
       "        vertical-align: middle;\n",
       "    }\n",
       "\n",
       "    .dataframe tbody tr th {\n",
       "        vertical-align: top;\n",
       "    }\n",
       "\n",
       "    .dataframe thead th {\n",
       "        text-align: right;\n",
       "    }\n",
       "</style>\n",
       "<table border=\"1\" class=\"dataframe\">\n",
       "  <thead>\n",
       "    <tr style=\"text-align: right;\">\n",
       "      <th></th>\n",
       "      <th>EDAD_V</th>\n",
       "      <th>SEXO</th>\n",
       "      <th>NIV</th>\n",
       "      <th>P5_1</th>\n",
       "      <th>P5_3_1</th>\n",
       "      <th>P5_3_2</th>\n",
       "      <th>P5_3_3</th>\n",
       "      <th>P5_3_4</th>\n",
       "      <th>P5_6_6</th>\n",
       "      <th>P5_7</th>\n",
       "      <th>P5_7A</th>\n",
       "      <th>tot_horas</th>\n",
       "      <th>tot_minutos</th>\n",
       "    </tr>\n",
       "  </thead>\n",
       "  <tbody>\n",
       "    <tr>\n",
       "      <th>0</th>\n",
       "      <td>88</td>\n",
       "      <td>2</td>\n",
       "      <td>2</td>\n",
       "      <td>2</td>\n",
       "      <td>0</td>\n",
       "      <td>0</td>\n",
       "      <td>0</td>\n",
       "      <td>0</td>\n",
       "      <td>NaN</td>\n",
       "      <td>0.0</td>\n",
       "      <td>-1</td>\n",
       "      <td>0.0</td>\n",
       "      <td>0</td>\n",
       "    </tr>\n",
       "    <tr>\n",
       "      <th>1</th>\n",
       "      <td>64</td>\n",
       "      <td>2</td>\n",
       "      <td>2</td>\n",
       "      <td>2</td>\n",
       "      <td>0</td>\n",
       "      <td>0</td>\n",
       "      <td>0</td>\n",
       "      <td>0</td>\n",
       "      <td>NaN</td>\n",
       "      <td>0.0</td>\n",
       "      <td>-1</td>\n",
       "      <td>0.0</td>\n",
       "      <td>0</td>\n",
       "    </tr>\n",
       "    <tr>\n",
       "      <th>2</th>\n",
       "      <td>30</td>\n",
       "      <td>1</td>\n",
       "      <td>6</td>\n",
       "      <td>1</td>\n",
       "      <td>40</td>\n",
       "      <td>0</td>\n",
       "      <td>20</td>\n",
       "      <td>0</td>\n",
       "      <td>1.0</td>\n",
       "      <td>8300.0</td>\n",
       "      <td>3</td>\n",
       "      <td>60.0</td>\n",
       "      <td>0</td>\n",
       "    </tr>\n",
       "    <tr>\n",
       "      <th>3</th>\n",
       "      <td>25</td>\n",
       "      <td>1</td>\n",
       "      <td>3</td>\n",
       "      <td>1</td>\n",
       "      <td>55</td>\n",
       "      <td>0</td>\n",
       "      <td>0</td>\n",
       "      <td>0</td>\n",
       "      <td>1.0</td>\n",
       "      <td>4000.0</td>\n",
       "      <td>2</td>\n",
       "      <td>55.0</td>\n",
       "      <td>0</td>\n",
       "    </tr>\n",
       "    <tr>\n",
       "      <th>4</th>\n",
       "      <td>22</td>\n",
       "      <td>2</td>\n",
       "      <td>8</td>\n",
       "      <td>1</td>\n",
       "      <td>22</td>\n",
       "      <td>0</td>\n",
       "      <td>18</td>\n",
       "      <td>0</td>\n",
       "      <td>1.0</td>\n",
       "      <td>99999.0</td>\n",
       "      <td>-1</td>\n",
       "      <td>40.0</td>\n",
       "      <td>0</td>\n",
       "    </tr>\n",
       "    <tr>\n",
       "      <th>...</th>\n",
       "      <td>...</td>\n",
       "      <td>...</td>\n",
       "      <td>...</td>\n",
       "      <td>...</td>\n",
       "      <td>...</td>\n",
       "      <td>...</td>\n",
       "      <td>...</td>\n",
       "      <td>...</td>\n",
       "      <td>...</td>\n",
       "      <td>...</td>\n",
       "      <td>...</td>\n",
       "      <td>...</td>\n",
       "      <td>...</td>\n",
       "    </tr>\n",
       "    <tr>\n",
       "      <th>71399</th>\n",
       "      <td>54</td>\n",
       "      <td>2</td>\n",
       "      <td>2</td>\n",
       "      <td>2</td>\n",
       "      <td>0</td>\n",
       "      <td>0</td>\n",
       "      <td>0</td>\n",
       "      <td>0</td>\n",
       "      <td>NaN</td>\n",
       "      <td>0.0</td>\n",
       "      <td>-1</td>\n",
       "      <td>0.0</td>\n",
       "      <td>0</td>\n",
       "    </tr>\n",
       "    <tr>\n",
       "      <th>71400</th>\n",
       "      <td>31</td>\n",
       "      <td>1</td>\n",
       "      <td>8</td>\n",
       "      <td>1</td>\n",
       "      <td>60</td>\n",
       "      <td>0</td>\n",
       "      <td>24</td>\n",
       "      <td>0</td>\n",
       "      <td>1.0</td>\n",
       "      <td>15000.0</td>\n",
       "      <td>3</td>\n",
       "      <td>84.0</td>\n",
       "      <td>0</td>\n",
       "    </tr>\n",
       "    <tr>\n",
       "      <th>71401</th>\n",
       "      <td>23</td>\n",
       "      <td>2</td>\n",
       "      <td>6</td>\n",
       "      <td>1</td>\n",
       "      <td>40</td>\n",
       "      <td>0</td>\n",
       "      <td>8</td>\n",
       "      <td>0</td>\n",
       "      <td>2.0</td>\n",
       "      <td>2400.0</td>\n",
       "      <td>1</td>\n",
       "      <td>48.0</td>\n",
       "      <td>0</td>\n",
       "    </tr>\n",
       "    <tr>\n",
       "      <th>71402</th>\n",
       "      <td>27</td>\n",
       "      <td>1</td>\n",
       "      <td>6</td>\n",
       "      <td>1</td>\n",
       "      <td>30</td>\n",
       "      <td>0</td>\n",
       "      <td>5</td>\n",
       "      <td>0</td>\n",
       "      <td>2.0</td>\n",
       "      <td>1800.0</td>\n",
       "      <td>1</td>\n",
       "      <td>35.0</td>\n",
       "      <td>0</td>\n",
       "    </tr>\n",
       "    <tr>\n",
       "      <th>71403</th>\n",
       "      <td>29</td>\n",
       "      <td>2</td>\n",
       "      <td>6</td>\n",
       "      <td>1</td>\n",
       "      <td>15</td>\n",
       "      <td>0</td>\n",
       "      <td>0</td>\n",
       "      <td>0</td>\n",
       "      <td>1.0</td>\n",
       "      <td>3600.0</td>\n",
       "      <td>3</td>\n",
       "      <td>15.0</td>\n",
       "      <td>0</td>\n",
       "    </tr>\n",
       "  </tbody>\n",
       "</table>\n",
       "<p>71404 rows × 13 columns</p>\n",
       "</div>"
      ],
      "text/plain": [
       "       EDAD_V  SEXO  NIV  P5_1  P5_3_1  P5_3_2  P5_3_3  P5_3_4  P5_6_6  \\\n",
       "0          88     2    2     2       0       0       0       0     NaN   \n",
       "1          64     2    2     2       0       0       0       0     NaN   \n",
       "2          30     1    6     1      40       0      20       0     1.0   \n",
       "3          25     1    3     1      55       0       0       0     1.0   \n",
       "4          22     2    8     1      22       0      18       0     1.0   \n",
       "...       ...   ...  ...   ...     ...     ...     ...     ...     ...   \n",
       "71399      54     2    2     2       0       0       0       0     NaN   \n",
       "71400      31     1    8     1      60       0      24       0     1.0   \n",
       "71401      23     2    6     1      40       0       8       0     2.0   \n",
       "71402      27     1    6     1      30       0       5       0     2.0   \n",
       "71403      29     2    6     1      15       0       0       0     1.0   \n",
       "\n",
       "          P5_7  P5_7A  tot_horas  tot_minutos  \n",
       "0          0.0     -1        0.0            0  \n",
       "1          0.0     -1        0.0            0  \n",
       "2       8300.0      3       60.0            0  \n",
       "3       4000.0      2       55.0            0  \n",
       "4      99999.0     -1       40.0            0  \n",
       "...        ...    ...        ...          ...  \n",
       "71399      0.0     -1        0.0            0  \n",
       "71400  15000.0      3       84.0            0  \n",
       "71401   2400.0      1       48.0            0  \n",
       "71402   1800.0      1       35.0            0  \n",
       "71403   3600.0      3       15.0            0  \n",
       "\n",
       "[71404 rows x 13 columns]"
      ]
     },
     "execution_count": 3,
     "metadata": {},
     "output_type": "execute_result"
    }
   ],
   "source": [
    "df_nuevo['P5_3_1'] = df_nuevo['P5_3_1'].replace({np.nan: '0'})\n",
    "df_nuevo['P5_3_2'] = df_nuevo['P5_3_2'].replace({np.nan: '0'})\n",
    "df_nuevo['P5_3_3'] = df_nuevo['P5_3_3'].replace({np.nan: '0'})\n",
    "df_nuevo['P5_3_4'] = df_nuevo['P5_3_4'].replace({np.nan: '0'})\n",
    "df_nuevo['P5_7'] = df_nuevo['P5_7'].replace({np.nan: '0'})\n",
    "df_nuevo['P5_7'] = df_nuevo['P5_7'].replace({'99999': '0'})\n",
    "df_nuevo['P5_7A'] = df_nuevo['P5_7A'].replace({np.nan: '-1'})\n",
    "df_nuevo['P5_3_1'] = df_nuevo['P5_3_1'].astype(int)\n",
    "df_nuevo['P5_3_2'] = df_nuevo['P5_3_2'].astype(int)\n",
    "df_nuevo['P5_3_3'] = df_nuevo['P5_3_3'].astype(int)\n",
    "df_nuevo['P5_3_4'] = df_nuevo['P5_3_4'].astype(int)\n",
    "df_nuevo['P5_7'] = df_nuevo['P5_7'].astype(float)\n",
    "df_nuevo['P5_7A'] = df_nuevo['P5_7A'].astype(int)\n",
    "df_nuevo['tot_horas'] = df_nuevo['P5_3_1'] + df_nuevo['P5_3_3']\n",
    "df_nuevo['tot_minutos'] = df_nuevo['P5_3_2'] + df_nuevo['P5_3_4']\n",
    "df_nuevo['tot_horas'] = df_nuevo['tot_horas'] + (df_nuevo['tot_minutos']/60)\n",
    "df_nuevo"
   ]
  },
  {
   "cell_type": "code",
   "execution_count": 4,
   "id": "d50a0226",
   "metadata": {},
   "outputs": [
    {
     "data": {
      "text/html": [
       "<div>\n",
       "<style scoped>\n",
       "    .dataframe tbody tr th:only-of-type {\n",
       "        vertical-align: middle;\n",
       "    }\n",
       "\n",
       "    .dataframe tbody tr th {\n",
       "        vertical-align: top;\n",
       "    }\n",
       "\n",
       "    .dataframe thead th {\n",
       "        text-align: right;\n",
       "    }\n",
       "</style>\n",
       "<table border=\"1\" class=\"dataframe\">\n",
       "  <thead>\n",
       "    <tr style=\"text-align: right;\">\n",
       "      <th></th>\n",
       "      <th>EDAD_V</th>\n",
       "      <th>SEXO</th>\n",
       "      <th>NIV</th>\n",
       "      <th>P5_1</th>\n",
       "      <th>P5_3_1</th>\n",
       "      <th>P5_3_2</th>\n",
       "      <th>P5_3_3</th>\n",
       "      <th>P5_3_4</th>\n",
       "      <th>P5_6_6</th>\n",
       "      <th>P5_7</th>\n",
       "      <th>P5_7A</th>\n",
       "      <th>tot_horas</th>\n",
       "      <th>tot_minutos</th>\n",
       "    </tr>\n",
       "  </thead>\n",
       "  <tbody>\n",
       "    <tr>\n",
       "      <th>2</th>\n",
       "      <td>30</td>\n",
       "      <td>1</td>\n",
       "      <td>6</td>\n",
       "      <td>1</td>\n",
       "      <td>40</td>\n",
       "      <td>0</td>\n",
       "      <td>20</td>\n",
       "      <td>0</td>\n",
       "      <td>1.0</td>\n",
       "      <td>8300.0</td>\n",
       "      <td>3</td>\n",
       "      <td>60.0</td>\n",
       "      <td>0</td>\n",
       "    </tr>\n",
       "    <tr>\n",
       "      <th>3</th>\n",
       "      <td>25</td>\n",
       "      <td>1</td>\n",
       "      <td>3</td>\n",
       "      <td>1</td>\n",
       "      <td>55</td>\n",
       "      <td>0</td>\n",
       "      <td>0</td>\n",
       "      <td>0</td>\n",
       "      <td>1.0</td>\n",
       "      <td>4000.0</td>\n",
       "      <td>2</td>\n",
       "      <td>55.0</td>\n",
       "      <td>0</td>\n",
       "    </tr>\n",
       "    <tr>\n",
       "      <th>5</th>\n",
       "      <td>48</td>\n",
       "      <td>2</td>\n",
       "      <td>7</td>\n",
       "      <td>1</td>\n",
       "      <td>40</td>\n",
       "      <td>0</td>\n",
       "      <td>5</td>\n",
       "      <td>0</td>\n",
       "      <td>2.0</td>\n",
       "      <td>6000.0</td>\n",
       "      <td>3</td>\n",
       "      <td>45.0</td>\n",
       "      <td>0</td>\n",
       "    </tr>\n",
       "    <tr>\n",
       "      <th>6</th>\n",
       "      <td>26</td>\n",
       "      <td>1</td>\n",
       "      <td>8</td>\n",
       "      <td>1</td>\n",
       "      <td>40</td>\n",
       "      <td>0</td>\n",
       "      <td>0</td>\n",
       "      <td>0</td>\n",
       "      <td>2.0</td>\n",
       "      <td>8000.0</td>\n",
       "      <td>3</td>\n",
       "      <td>40.0</td>\n",
       "      <td>0</td>\n",
       "    </tr>\n",
       "    <tr>\n",
       "      <th>9</th>\n",
       "      <td>50</td>\n",
       "      <td>1</td>\n",
       "      <td>2</td>\n",
       "      <td>1</td>\n",
       "      <td>55</td>\n",
       "      <td>0</td>\n",
       "      <td>0</td>\n",
       "      <td>0</td>\n",
       "      <td>2.0</td>\n",
       "      <td>900.0</td>\n",
       "      <td>1</td>\n",
       "      <td>55.0</td>\n",
       "      <td>0</td>\n",
       "    </tr>\n",
       "    <tr>\n",
       "      <th>...</th>\n",
       "      <td>...</td>\n",
       "      <td>...</td>\n",
       "      <td>...</td>\n",
       "      <td>...</td>\n",
       "      <td>...</td>\n",
       "      <td>...</td>\n",
       "      <td>...</td>\n",
       "      <td>...</td>\n",
       "      <td>...</td>\n",
       "      <td>...</td>\n",
       "      <td>...</td>\n",
       "      <td>...</td>\n",
       "      <td>...</td>\n",
       "    </tr>\n",
       "    <tr>\n",
       "      <th>71397</th>\n",
       "      <td>44</td>\n",
       "      <td>2</td>\n",
       "      <td>3</td>\n",
       "      <td>1</td>\n",
       "      <td>25</td>\n",
       "      <td>0</td>\n",
       "      <td>0</td>\n",
       "      <td>0</td>\n",
       "      <td>2.0</td>\n",
       "      <td>400.0</td>\n",
       "      <td>1</td>\n",
       "      <td>25.0</td>\n",
       "      <td>0</td>\n",
       "    </tr>\n",
       "    <tr>\n",
       "      <th>71400</th>\n",
       "      <td>31</td>\n",
       "      <td>1</td>\n",
       "      <td>8</td>\n",
       "      <td>1</td>\n",
       "      <td>60</td>\n",
       "      <td>0</td>\n",
       "      <td>24</td>\n",
       "      <td>0</td>\n",
       "      <td>1.0</td>\n",
       "      <td>15000.0</td>\n",
       "      <td>3</td>\n",
       "      <td>84.0</td>\n",
       "      <td>0</td>\n",
       "    </tr>\n",
       "    <tr>\n",
       "      <th>71401</th>\n",
       "      <td>23</td>\n",
       "      <td>2</td>\n",
       "      <td>6</td>\n",
       "      <td>1</td>\n",
       "      <td>40</td>\n",
       "      <td>0</td>\n",
       "      <td>8</td>\n",
       "      <td>0</td>\n",
       "      <td>2.0</td>\n",
       "      <td>2400.0</td>\n",
       "      <td>1</td>\n",
       "      <td>48.0</td>\n",
       "      <td>0</td>\n",
       "    </tr>\n",
       "    <tr>\n",
       "      <th>71402</th>\n",
       "      <td>27</td>\n",
       "      <td>1</td>\n",
       "      <td>6</td>\n",
       "      <td>1</td>\n",
       "      <td>30</td>\n",
       "      <td>0</td>\n",
       "      <td>5</td>\n",
       "      <td>0</td>\n",
       "      <td>2.0</td>\n",
       "      <td>1800.0</td>\n",
       "      <td>1</td>\n",
       "      <td>35.0</td>\n",
       "      <td>0</td>\n",
       "    </tr>\n",
       "    <tr>\n",
       "      <th>71403</th>\n",
       "      <td>29</td>\n",
       "      <td>2</td>\n",
       "      <td>6</td>\n",
       "      <td>1</td>\n",
       "      <td>15</td>\n",
       "      <td>0</td>\n",
       "      <td>0</td>\n",
       "      <td>0</td>\n",
       "      <td>1.0</td>\n",
       "      <td>3600.0</td>\n",
       "      <td>3</td>\n",
       "      <td>15.0</td>\n",
       "      <td>0</td>\n",
       "    </tr>\n",
       "  </tbody>\n",
       "</table>\n",
       "<p>36175 rows × 13 columns</p>\n",
       "</div>"
      ],
      "text/plain": [
       "       EDAD_V  SEXO  NIV  P5_1  P5_3_1  P5_3_2  P5_3_3  P5_3_4  P5_6_6  \\\n",
       "2          30     1    6     1      40       0      20       0     1.0   \n",
       "3          25     1    3     1      55       0       0       0     1.0   \n",
       "5          48     2    7     1      40       0       5       0     2.0   \n",
       "6          26     1    8     1      40       0       0       0     2.0   \n",
       "9          50     1    2     1      55       0       0       0     2.0   \n",
       "...       ...   ...  ...   ...     ...     ...     ...     ...     ...   \n",
       "71397      44     2    3     1      25       0       0       0     2.0   \n",
       "71400      31     1    8     1      60       0      24       0     1.0   \n",
       "71401      23     2    6     1      40       0       8       0     2.0   \n",
       "71402      27     1    6     1      30       0       5       0     2.0   \n",
       "71403      29     2    6     1      15       0       0       0     1.0   \n",
       "\n",
       "          P5_7  P5_7A  tot_horas  tot_minutos  \n",
       "2       8300.0      3       60.0            0  \n",
       "3       4000.0      2       55.0            0  \n",
       "5       6000.0      3       45.0            0  \n",
       "6       8000.0      3       40.0            0  \n",
       "9        900.0      1       55.0            0  \n",
       "...        ...    ...        ...          ...  \n",
       "71397    400.0      1       25.0            0  \n",
       "71400  15000.0      3       84.0            0  \n",
       "71401   2400.0      1       48.0            0  \n",
       "71402   1800.0      1       35.0            0  \n",
       "71403   3600.0      3       15.0            0  \n",
       "\n",
       "[36175 rows x 13 columns]"
      ]
     },
     "execution_count": 4,
     "metadata": {},
     "output_type": "execute_result"
    }
   ],
   "source": [
    "df_nuevo = df_nuevo.loc[df_nuevo['P5_7'] > 0]\n",
    "df_nuevo = df_nuevo.loc[df_nuevo['P5_7A'] > 0]\n",
    "df_nuevo = df_nuevo.loc[df_nuevo['EDAD_V'] >= 15]\n",
    "df_nuevo = df_nuevo.loc[df_nuevo['P5_1'] == 1]\n",
    "df_nuevo"
   ]
  },
  {
   "cell_type": "code",
   "execution_count": 5,
   "id": "b6a9d7e9",
   "metadata": {},
   "outputs": [],
   "source": [
    "def agregaColFrecPago(df):\n",
    "    res = []\n",
    "    for x in df:\n",
    "        if x == 1:\n",
    "            res.append(48)\n",
    "        else:\n",
    "            if x == 2:\n",
    "                res.append(21)\n",
    "            else:\n",
    "                if x == 3:\n",
    "                    res.append(10)\n",
    "                else:\n",
    "                    res.append(1)\n",
    "    \n",
    "    return res\n",
    "x = agregaColFrecPago(df_nuevo['P5_7A'])\n",
    "df_nuevo['semanal'] = ((x * df_nuevo['P5_7'])/48)\n",
    "df_nuevo['ganancia_hora'] = df_nuevo['semanal']/df_nuevo['tot_horas']\n",
    "df_limitado = df_nuevo.loc[df_nuevo['ganancia_hora'] <= 500]\n",
    "df_limitado = df_limitado.loc[df_limitado['tot_horas'] <= 90]"
   ]
  },
  {
   "cell_type": "code",
   "execution_count": 54,
   "id": "8eacc937",
   "metadata": {},
   "outputs": [],
   "source": [
    "def grupos(df,minimo,maximo,num_grupos):\n",
    "    minimo = minimo - 1\n",
    "    maximo = maximo + 1\n",
    "    dif = maximo - minimo\n",
    "    tam_grupo = dif/num_grupos\n",
    "    res = []\n",
    "    for x in df:\n",
    "        y = x - minimo\n",
    "        y = int(y/tam_grupo)\n",
    "        res.append(y)\n",
    "    return res\n",
    "\n",
    "def imprimeGrupo(minimo,maximo,num_grupos):\n",
    "    minimo = minimo - 1\n",
    "    maximo = maximo + 1\n",
    "    dif = maximo - minimo\n",
    "    tam_grupo = dif/num_grupos\n",
    "    for i in range(num_grupos):\n",
    "        st = 'grupo '\n",
    "        x = minimo + i * tam_grupo\n",
    "        y = minimo + (i + 1) * tam_grupo\n",
    "        print('grupo ' + str(i) + ': (' + str(x) + ',' + str(y) +']')\n",
    "        \n",
    "def s2df(df):\n",
    "    \n",
    "    n = len(df)\n",
    "    media = np.mean(df)\n",
    "    s2 = df - media\n",
    "    s2 = np.dot(s2,s2)\n",
    "    s2 = s2 / (n-1)\n",
    "    \n",
    "    return s2\n",
    "\n",
    "def intervaloDeConfVarDesc(df,alfa):\n",
    "    \n",
    "    res = []\n",
    "    n = len(df)\n",
    "    grados_de_libertad = n - 1\n",
    "    media = np.mean(df)\n",
    "    s2 = s2df(df)\n",
    "    res_t = t.ppf(1-alfa/2, df=grados_de_libertad)\n",
    "    sn = s2 / n\n",
    "    sn = pow(sn,1/2)\n",
    "    res.append((media - sn * res_t))\n",
    "    res.append((media + sn * res_t))\n",
    "    \n",
    "    return res\n",
    "\n",
    "def intervaloDeConfDifMedias(x,alfa):\n",
    "    \n",
    "    res = []\n",
    "    df_1 = x[0]\n",
    "    df_2 = x[1]\n",
    "    n1 = len(df_1)\n",
    "    n2 = len(df_2)\n",
    "    grados_de_libertad = n1 + n2 - 2\n",
    "    media1 = np.mean(df_1)\n",
    "    media2 = np.mean(df_2)\n",
    "    dif = media1 - media2\n",
    "    s21 = s2df(df_1)\n",
    "    s22 = s2df(df_2)\n",
    "    s1 = pow(s21,1/2)\n",
    "    s2 = pow(s22,1/2)\n",
    "    s2p = (((n1-1) * s21) + ((n2-1) * s22))/grados_de_libertad\n",
    "    sp = pow(s2p,1/2)\n",
    "    rn = (1/n1) + (1/n2)\n",
    "    rn = pow(rn,1/2)\n",
    "    res_t = t.ppf(1-alfa/2, df=grados_de_libertad)\n",
    "    res.append((dif - res_t * sp * rn))\n",
    "    res.append((dif + res_t * sp * rn))\n",
    "    \n",
    "    return res\n",
    "\n",
    "def arrInterConfianza(metodo,arr,alfa):\n",
    "    res = []\n",
    "    for x in arr:\n",
    "        \n",
    "        res.append(metodo(x,alfa))\n",
    "        \n",
    "    return res\n",
    "\n",
    "def pruebaDeHipotesisInferior(h0,vec,alfa):\n",
    "    \n",
    "    df_0 = vec[0]\n",
    "    df_1 = vec[1]\n",
    "    \n",
    "    media_0 = np.mean(df_0)\n",
    "    media_1 = np.mean(df_1)\n",
    "    \n",
    "    n0 = len(df_0)\n",
    "    n1 = len(df_1)\n",
    "    \n",
    "    s2_0 = s2df(df_0)\n",
    "    s2_1 = s2df(df_1)\n",
    "    \n",
    "    dif = media_0 - media_1\n",
    "    grados_de_libertad = n0 - n1 - 2\n",
    "    \n",
    "    sp2 = ((n0-1) * s2_0 + (n1-1) * s2_1)/grados_de_libertad\n",
    "    sp = pow(sp2,1/2)\n",
    "    \n",
    "    nr2 = (1/n0) + (1/n1)\n",
    "    nr = pow(nr2,1/2)\n",
    "    \n",
    "    t_res = t.ppf(alfa, df=grados_de_libertad)\n",
    "    \n",
    "    c = (t_res * nr * sp) + h0\n",
    "    \n",
    "    res_t = t.ppf(1-alfa/2, df=grados_de_libertad)\n",
    "    \n",
    "    return c,dif,c>dif\n",
    "\n",
    "def pruebaDeHipotesisSuperior(h0,vec,alfa):\n",
    "    \n",
    "    df_0 = vec[0]\n",
    "    df_1 = vec[1]\n",
    "    \n",
    "    media_0 = np.mean(df_0)\n",
    "    media_1 = np.mean(df_1)\n",
    "    \n",
    "    n0 = len(df_0)\n",
    "    n1 = len(df_1)\n",
    "    \n",
    "    s2_0 = s2df(df_0)\n",
    "    s2_1 = s2df(df_1)\n",
    "    \n",
    "    dif = media_0 - media_1\n",
    "    grados_de_libertad = n0 - n1 - 2\n",
    "    \n",
    "    sp2 = ((n0-1) * s2_0 + (n1-1) * s2_1)/grados_de_libertad\n",
    "    sp = pow(sp2,1/2)\n",
    "    \n",
    "    nr2 = (1/n0) + (1/n1)\n",
    "    nr = pow(nr2,1/2)\n",
    "    \n",
    "    t_res = t.ppf(1-alfa, df=grados_de_libertad)\n",
    "    \n",
    "    c = (t_res * nr * sp) + h0\n",
    "    \n",
    "    res_t = t.ppf(1-alfa/2, df=grados_de_libertad)\n",
    "    \n",
    "    return c,dif,c<dif\n",
    "\n",
    "def arrEstimador(metodo,vec,col):\n",
    "    resp = []\n",
    "    for x in vec:\n",
    "        resp.append(metodo(x[col]))\n",
    "    return resp\n",
    "\n",
    "def pow_n(a):\n",
    "    res = pow(a,1/2)\n",
    "    \n",
    "    return res\n",
    "\n",
    "def aceptar_o_rechazar_h0(b, alfa):\n",
    "    \n",
    "    if b :\n",
    "        print('Hay evidencia suficiente para rechazar h0, con una confiabilidad del ' + str(1-alfa))\n",
    "        \n",
    "    else:\n",
    "        print('No hay evidencia suficiente para rechazar h0, con una confiabilidad del ' + str(1-alfa))"
   ]
  },
  {
   "cell_type": "markdown",
   "id": "d16f5bf8",
   "metadata": {},
   "source": [
    "### Agregar grupos de horas e ingreso por hora"
   ]
  },
  {
   "cell_type": "code",
   "execution_count": 7,
   "id": "9b2ecefe",
   "metadata": {},
   "outputs": [
    {
     "name": "stdout",
     "output_type": "stream",
     "text": [
      "grupos de horas\n",
      "grupo 0: (0.0,6.066666666666666]\n",
      "grupo 1: (6.066666666666666,12.133333333333333]\n",
      "grupo 2: (12.133333333333333,18.2]\n",
      "grupo 3: (18.2,24.266666666666666]\n",
      "grupo 4: (24.266666666666666,30.333333333333332]\n",
      "grupo 5: (30.333333333333332,36.4]\n",
      "grupo 6: (36.4,42.46666666666667]\n",
      "grupo 7: (42.46666666666667,48.53333333333333]\n",
      "grupo 8: (48.53333333333333,54.599999999999994]\n",
      "grupo 9: (54.599999999999994,60.666666666666664]\n",
      "grupo 10: (60.666666666666664,66.73333333333333]\n",
      "grupo 11: (66.73333333333333,72.8]\n",
      "grupo 12: (72.8,78.86666666666666]\n",
      "grupo 13: (78.86666666666666,84.93333333333334]\n",
      "grupo 14: (84.93333333333334,91.0]\n",
      "-------------------------------------------------------------------\n",
      "grupos de ganacia por hora\n",
      "grupo 0: (-0.9479166666666666,11.60078125]\n",
      "grupo 1: (11.60078125,24.149479166666666]\n",
      "grupo 2: (24.149479166666666,36.698177083333334]\n",
      "grupo 3: (36.698177083333334,49.246875]\n",
      "grupo 4: (49.246875,61.79557291666667]\n",
      "grupo 5: (61.79557291666667,74.34427083333333]\n",
      "grupo 6: (74.34427083333333,86.89296875]\n",
      "grupo 7: (86.89296875,99.44166666666666]\n",
      "grupo 8: (99.44166666666666,111.99036458333333]\n",
      "grupo 9: (111.99036458333333,124.5390625]\n",
      "grupo 10: (124.5390625,137.08776041666667]\n",
      "grupo 11: (137.08776041666667,149.63645833333334]\n",
      "grupo 12: (149.63645833333334,162.18515625]\n",
      "grupo 13: (162.18515625,174.73385416666667]\n",
      "grupo 14: (174.73385416666667,187.28255208333334]\n",
      "grupo 15: (187.28255208333334,199.83125]\n",
      "grupo 16: (199.83125,212.37994791666668]\n",
      "grupo 17: (212.37994791666668,224.92864583333335]\n",
      "grupo 18: (224.92864583333335,237.47734375000002]\n",
      "grupo 19: (237.47734375000002,250.02604166666669]\n",
      "grupo 20: (250.02604166666669,262.5747395833333]\n",
      "grupo 21: (262.5747395833333,275.12343749999997]\n",
      "grupo 22: (275.12343749999997,287.67213541666666]\n",
      "grupo 23: (287.67213541666666,300.2208333333333]\n",
      "grupo 24: (300.2208333333333,312.76953125]\n",
      "grupo 25: (312.76953125,325.31822916666664]\n",
      "grupo 26: (325.31822916666664,337.86692708333334]\n",
      "grupo 27: (337.86692708333334,350.415625]\n",
      "grupo 28: (350.415625,362.9643229166667]\n",
      "grupo 29: (362.9643229166667,375.5130208333333]\n",
      "grupo 30: (375.5130208333333,388.06171875]\n",
      "grupo 31: (388.06171875,400.61041666666665]\n",
      "grupo 32: (400.61041666666665,413.1591145833333]\n",
      "grupo 33: (413.1591145833333,425.7078125]\n",
      "grupo 34: (425.7078125,438.25651041666663]\n",
      "grupo 35: (438.25651041666663,450.8052083333333]\n",
      "grupo 36: (450.8052083333333,463.35390624999997]\n",
      "grupo 37: (463.35390624999997,475.90260416666666]\n",
      "grupo 38: (475.90260416666666,488.4513020833333]\n",
      "grupo 39: (488.4513020833333,501.0]\n"
     ]
    }
   ],
   "source": [
    "minimo = min(df_limitado['tot_horas'])\n",
    "maximo = max(df_limitado['tot_horas'])\n",
    "num_grupo = 15\n",
    "df_limitado['grupo_horas'] = grupos(df_limitado['tot_horas'],minimo,maximo,num_grupo)\n",
    "print('grupos de horas')\n",
    "imprimeGrupo(minimo,maximo,num_grupo)\n",
    "print('-------------------------------------------------------------------')\n",
    "minimo = min(df_limitado['ganancia_hora'])\n",
    "maximo = max(df_limitado['ganancia_hora'])\n",
    "num_grupo = 40\n",
    "df_limitado['grupo_ganancia_hora'] = grupos(df_limitado['ganancia_hora'],minimo,maximo,num_grupo)\n",
    "print('grupos de ganacia por hora')\n",
    "imprimeGrupo(minimo,maximo,num_grupo)"
   ]
  },
  {
   "cell_type": "markdown",
   "id": "feeb492e",
   "metadata": {},
   "source": [
    "# DF a utilizar para las graficas"
   ]
  },
  {
   "cell_type": "markdown",
   "id": "5e7bf3a5",
   "metadata": {},
   "source": [
    "Separar la poblacion en niveles educativos (NIV) \\\n",
    "0 es sin educación \\\n",
    "1-3 básica \\\n",
    "4-6 media \\\n",
    "7-8 superior "
   ]
  },
  {
   "cell_type": "code",
   "execution_count": 8,
   "id": "f25743c5",
   "metadata": {},
   "outputs": [],
   "source": [
    "df_nula = df_limitado.loc[df_limitado['NIV'] == 0]\n",
    "df_basica = df_limitado.loc[df_limitado['NIV'] > 0]\n",
    "df_basica = df_basica.loc[df_basica['NIV'] < 4]\n",
    "df_media = df_limitado.loc[df_limitado['NIV'] > 3]\n",
    "df_media = df_media.loc[df_media['NIV'] < 8]\n",
    "df_superior = df_limitado.loc[df_limitado['NIV'] > 7]"
   ]
  },
  {
   "cell_type": "markdown",
   "id": "180139e0",
   "metadata": {},
   "source": [
    "### Licenciatura vs maestria doctorado"
   ]
  },
  {
   "cell_type": "code",
   "execution_count": 9,
   "id": "fd9cb404",
   "metadata": {},
   "outputs": [],
   "source": [
    "df_licenciatura = df_superior.loc[df_superior['NIV'] == 8]\n",
    "df_maestria_doctorado = df_superior.loc[df_superior['NIV'] == 9]"
   ]
  },
  {
   "cell_type": "markdown",
   "id": "41d60f14",
   "metadata": {},
   "source": [
    "### Hombres vs mujeres"
   ]
  },
  {
   "cell_type": "code",
   "execution_count": 10,
   "id": "6c48449c",
   "metadata": {},
   "outputs": [],
   "source": [
    "df_hombres = df_limitado.loc[df_limitado['SEXO'] == 1]\n",
    "df_mujeres = df_limitado.loc[df_limitado['SEXO'] == 2]"
   ]
  },
  {
   "cell_type": "markdown",
   "id": "d52e36db",
   "metadata": {},
   "source": [
    "### Formal vs informal"
   ]
  },
  {
   "cell_type": "code",
   "execution_count": 11,
   "id": "5352566e",
   "metadata": {},
   "outputs": [],
   "source": [
    "df_formal = df_limitado.loc[df_limitado['P5_6_6'] == 1]\n",
    "df_informal = df_limitado.loc[df_limitado['P5_6_6'] == 2]"
   ]
  },
  {
   "cell_type": "markdown",
   "id": "018efbae",
   "metadata": {},
   "source": [
    "## Nivel educativo"
   ]
  },
  {
   "cell_type": "code",
   "execution_count": 12,
   "id": "bfd15147",
   "metadata": {},
   "outputs": [
    {
     "data": {
      "image/png": "[encoded data removed]",
      "text/plain": [
       "<Figure size 1080x1080 with 1 Axes>"
      ]
     },
     "metadata": {},
     "output_type": "display_data"
    }
   ],
   "source": [
    "tot_muestra = len(df_limitado)\n",
    "tot_nula = len(df_nula)\n",
    "tot_basica = len(df_basica)\n",
    "tot_media = len(df_media)\n",
    "tot_superior = len(df_superior)\n",
    "\n",
    "arr_pie = [tot_nula/tot_muestra,tot_basica/tot_muestra,tot_media/tot_muestra,tot_superior/tot_muestra]\n",
    "mylabels = ['Nula','Básica','Media','Superior']\n",
    "plt.figure(figsize=(15,15))\n",
    "plt.title(\"Personas trabajando en mercado formal e informal en 2019,\\n por niveles de escolaridad \")\n",
    "plt.pie(arr_pie,labels = mylabels, autopct='%1.1f%%')\n",
    "plt.show()"
   ]
  },
  {
   "cell_type": "code",
   "execution_count": 13,
   "id": "6ba271de",
   "metadata": {},
   "outputs": [
    {
     "data": {
      "text/plain": [
       "<BarContainer object of 15 artists>"
      ]
     },
     "execution_count": 13,
     "metadata": {},
     "output_type": "execute_result"
    },
    {
     "data": {
      "image/png": "[encoded data removed]",
      "text/plain": [
       "<Figure size 720x720 with 1 Axes>"
      ]
     },
     "metadata": {
      "needs_background": "light"
     },
     "output_type": "display_data"
    }
   ],
   "source": [
    "y = df_nula['grupo_horas'].value_counts()\n",
    "x = y.keys()      \n",
    "y = y.values\n",
    "plt.figure(figsize=(10,10))\n",
    "plt.bar(x,y)"
   ]
  },
  {
   "cell_type": "code",
   "execution_count": 14,
   "id": "fc8693d6",
   "metadata": {},
   "outputs": [
    {
     "data": {
      "text/plain": [
       "<BarContainer object of 20 artists>"
      ]
     },
     "execution_count": 14,
     "metadata": {},
     "output_type": "execute_result"
    },
    {
     "data": {
      "image/png": "[encoded data removed]",
      "text/plain": [
       "<Figure size 432x288 with 1 Axes>"
      ]
     },
     "metadata": {
      "needs_background": "light"
     },
     "output_type": "display_data"
    }
   ],
   "source": [
    "y = df_nula['grupo_ganancia_hora'].value_counts()\n",
    "x = y.keys()      \n",
    "y = y.values\n",
    "plt.bar(x,y)"
   ]
  },
  {
   "cell_type": "code",
   "execution_count": 15,
   "id": "c14b86ff",
   "metadata": {},
   "outputs": [
    {
     "data": {
      "text/plain": [
       "<BarContainer object of 15 artists>"
      ]
     },
     "execution_count": 15,
     "metadata": {},
     "output_type": "execute_result"
    },
    {
     "data": {
      "image/png": "[encoded data removed]",
      "text/plain": [
       "<Figure size 432x288 with 1 Axes>"
      ]
     },
     "metadata": {
      "needs_background": "light"
     },
     "output_type": "display_data"
    }
   ],
   "source": [
    "y = df_basica['grupo_horas'].value_counts()\n",
    "x = y.keys()      \n",
    "y = y.values\n",
    "plt.bar(x,y)"
   ]
  },
  {
   "cell_type": "code",
   "execution_count": 16,
   "id": "e50b0164",
   "metadata": {},
   "outputs": [
    {
     "data": {
      "text/plain": [
       "<BarContainer object of 36 artists>"
      ]
     },
     "execution_count": 16,
     "metadata": {},
     "output_type": "execute_result"
    },
    {
     "data": {
      "image/png": "[encoded data removed]",
      "text/plain": [
       "<Figure size 432x288 with 1 Axes>"
      ]
     },
     "metadata": {
      "needs_background": "light"
     },
     "output_type": "display_data"
    }
   ],
   "source": [
    "y = df_basica['grupo_ganancia_hora'].value_counts()\n",
    "x = y.keys()      \n",
    "y = y.values\n",
    "plt.bar(x,y)"
   ]
  },
  {
   "cell_type": "code",
   "execution_count": 17,
   "id": "b095e4be",
   "metadata": {},
   "outputs": [
    {
     "data": {
      "text/plain": [
       "<BarContainer object of 15 artists>"
      ]
     },
     "execution_count": 17,
     "metadata": {},
     "output_type": "execute_result"
    },
    {
     "data": {
      "image/png": "[encoded data removed]",
      "text/plain": [
       "<Figure size 432x288 with 1 Axes>"
      ]
     },
     "metadata": {
      "needs_background": "light"
     },
     "output_type": "display_data"
    }
   ],
   "source": [
    "y = df_media['grupo_horas'].value_counts()\n",
    "x = y.keys()      \n",
    "y = y.values\n",
    "plt.bar(x,y)"
   ]
  },
  {
   "cell_type": "code",
   "execution_count": 18,
   "id": "7e667961",
   "metadata": {},
   "outputs": [
    {
     "data": {
      "text/plain": [
       "<BarContainer object of 36 artists>"
      ]
     },
     "execution_count": 18,
     "metadata": {},
     "output_type": "execute_result"
    },
    {
     "data": {
      "image/png": "[encoded data removed]",
      "text/plain": [
       "<Figure size 432x288 with 1 Axes>"
      ]
     },
     "metadata": {
      "needs_background": "light"
     },
     "output_type": "display_data"
    }
   ],
   "source": [
    "y = df_media['grupo_ganancia_hora'].value_counts()\n",
    "x = y.keys()      \n",
    "y = y.values\n",
    "plt.bar(x,y)"
   ]
  },
  {
   "cell_type": "code",
   "execution_count": 19,
   "id": "09b56980",
   "metadata": {},
   "outputs": [
    {
     "data": {
      "text/plain": [
       "<BarContainer object of 15 artists>"
      ]
     },
     "execution_count": 19,
     "metadata": {},
     "output_type": "execute_result"
    },
    {
     "data": {
      "image/png": "[encoded data removed]",
      "text/plain": [
       "<Figure size 432x288 with 1 Axes>"
      ]
     },
     "metadata": {
      "needs_background": "light"
     },
     "output_type": "display_data"
    }
   ],
   "source": [
    "y = df_superior['grupo_horas'].value_counts()\n",
    "x = y.keys()      \n",
    "y = y.values\n",
    "plt.bar(x,y)"
   ]
  },
  {
   "cell_type": "code",
   "execution_count": 20,
   "id": "9a67aa8e",
   "metadata": {},
   "outputs": [
    {
     "data": {
      "text/plain": [
       "<BarContainer object of 40 artists>"
      ]
     },
     "execution_count": 20,
     "metadata": {},
     "output_type": "execute_result"
    },
    {
     "data": {
      "image/png": "[encoded data removed]",
      "text/plain": [
       "<Figure size 432x288 with 1 Axes>"
      ]
     },
     "metadata": {
      "needs_background": "light"
     },
     "output_type": "display_data"
    }
   ],
   "source": [
    "y = df_superior['grupo_ganancia_hora'].value_counts()\n",
    "x = y.keys()      \n",
    "y = y.values\n",
    "plt.bar(x,y)"
   ]
  },
  {
   "cell_type": "markdown",
   "id": "9c71147d",
   "metadata": {},
   "source": [
    "## Licenciatura vs maestria y doctorado"
   ]
  },
  {
   "cell_type": "code",
   "execution_count": 21,
   "id": "6b1134c1",
   "metadata": {},
   "outputs": [
    {
     "data": {
      "image/png": "[encoded data removed]",
      "text/plain": [
       "<Figure size 1080x1080 with 1 Axes>"
      ]
     },
     "metadata": {},
     "output_type": "display_data"
    }
   ],
   "source": [
    "tot_licenciatura = len(df_licenciatura)\n",
    "tot_mestria_doctorado = len(df_maestria_doctorado)\n",
    "arr_pie = [tot_licenciatura/tot_superior,tot_mestria_doctorado/tot_superior]\n",
    "mylabels = ['Licenciatura','Mestria y doctorado']\n",
    "\n",
    "plt.figure(figsize=(15,15))\n",
    "plt.title(\"Licenciatura vs maestria y doctorado \")\n",
    "plt.pie(arr_pie,labels = mylabels, autopct='%1.1f%%')\n",
    "plt.show()"
   ]
  },
  {
   "cell_type": "code",
   "execution_count": 22,
   "id": "bf9e2947",
   "metadata": {},
   "outputs": [
    {
     "data": {
      "text/plain": [
       "<BarContainer object of 15 artists>"
      ]
     },
     "execution_count": 22,
     "metadata": {},
     "output_type": "execute_result"
    },
    {
     "data": {
      "image/png": "[encoded data removed]",
      "text/plain": [
       "<Figure size 432x288 with 1 Axes>"
      ]
     },
     "metadata": {
      "needs_background": "light"
     },
     "output_type": "display_data"
    }
   ],
   "source": [
    "y = df_licenciatura['grupo_horas'].value_counts()\n",
    "x = y.keys()      \n",
    "y = y.values\n",
    "plt.bar(x,y)"
   ]
  },
  {
   "cell_type": "code",
   "execution_count": 23,
   "id": "03920958",
   "metadata": {},
   "outputs": [
    {
     "data": {
      "text/plain": [
       "<BarContainer object of 39 artists>"
      ]
     },
     "execution_count": 23,
     "metadata": {},
     "output_type": "execute_result"
    },
    {
     "data": {
      "image/png": "[encoded data removed]",
      "text/plain": [
       "<Figure size 432x288 with 1 Axes>"
      ]
     },
     "metadata": {
      "needs_background": "light"
     },
     "output_type": "display_data"
    }
   ],
   "source": [
    "y = df_licenciatura['grupo_ganancia_hora'].value_counts()\n",
    "x = y.keys()      \n",
    "y = y.values\n",
    "plt.bar(x,y)"
   ]
  },
  {
   "cell_type": "code",
   "execution_count": 24,
   "id": "76b57ba7",
   "metadata": {},
   "outputs": [
    {
     "data": {
      "text/plain": [
       "<BarContainer object of 15 artists>"
      ]
     },
     "execution_count": 24,
     "metadata": {},
     "output_type": "execute_result"
    },
    {
     "data": {
      "image/png": "[encoded data removed]",
      "text/plain": [
       "<Figure size 432x288 with 1 Axes>"
      ]
     },
     "metadata": {
      "needs_background": "light"
     },
     "output_type": "display_data"
    }
   ],
   "source": [
    "y = df_maestria_doctorado['grupo_horas'].value_counts()\n",
    "x = y.keys()      \n",
    "y = y.values\n",
    "plt.bar(x,y)"
   ]
  },
  {
   "cell_type": "code",
   "execution_count": 25,
   "id": "5a7e2f91",
   "metadata": {},
   "outputs": [
    {
     "data": {
      "text/plain": [
       "<BarContainer object of 34 artists>"
      ]
     },
     "execution_count": 25,
     "metadata": {},
     "output_type": "execute_result"
    },
    {
     "data": {
      "image/png": "[encoded data removed]",
      "text/plain": [
       "<Figure size 432x288 with 1 Axes>"
      ]
     },
     "metadata": {
      "needs_background": "light"
     },
     "output_type": "display_data"
    }
   ],
   "source": [
    "y = df_maestria_doctorado['grupo_ganancia_hora'].value_counts()\n",
    "x = y.keys()      \n",
    "y = y.values\n",
    "plt.bar(x,y)"
   ]
  },
  {
   "cell_type": "markdown",
   "id": "323cbe43",
   "metadata": {},
   "source": [
    "## Hombres vs mujeres"
   ]
  },
  {
   "cell_type": "code",
   "execution_count": 26,
   "id": "c38a6199",
   "metadata": {},
   "outputs": [
    {
     "data": {
      "image/png": "[encoded data removed]",
      "text/plain": [
       "<Figure size 1080x1080 with 1 Axes>"
      ]
     },
     "metadata": {},
     "output_type": "display_data"
    }
   ],
   "source": [
    "tot_hombres = len(df_hombres)\n",
    "tot_mujeres = len(df_mujeres)\n",
    "arr_pie = [tot_hombres/tot_muestra,tot_mujeres/tot_muestra]\n",
    "mylabels = ['Hombres','Mujeres']\n",
    "\n",
    "plt.figure(figsize=(15,15))\n",
    "plt.title(\"Hombres vs mujeres \")\n",
    "plt.pie(arr_pie,labels = mylabels, autopct='%1.1f%%')\n",
    "plt.show()"
   ]
  },
  {
   "cell_type": "code",
   "execution_count": 27,
   "id": "a3bcdd34",
   "metadata": {},
   "outputs": [
    {
     "data": {
      "text/plain": [
       "<BarContainer object of 15 artists>"
      ]
     },
     "execution_count": 27,
     "metadata": {},
     "output_type": "execute_result"
    },
    {
     "data": {
      "image/png": "[encoded data removed]",
      "text/plain": [
       "<Figure size 432x288 with 1 Axes>"
      ]
     },
     "metadata": {
      "needs_background": "light"
     },
     "output_type": "display_data"
    }
   ],
   "source": [
    "y = df_hombres['grupo_horas'].value_counts()\n",
    "x = y.keys()      \n",
    "y = y.values\n",
    "plt.bar(x,y)"
   ]
  },
  {
   "cell_type": "code",
   "execution_count": 28,
   "id": "1c67c37b",
   "metadata": {},
   "outputs": [
    {
     "data": {
      "text/plain": [
       "<BarContainer object of 40 artists>"
      ]
     },
     "execution_count": 28,
     "metadata": {},
     "output_type": "execute_result"
    },
    {
     "data": {
      "image/png": "[encoded data removed]",
      "text/plain": [
       "<Figure size 432x288 with 1 Axes>"
      ]
     },
     "metadata": {
      "needs_background": "light"
     },
     "output_type": "display_data"
    }
   ],
   "source": [
    "y = df_hombres['grupo_ganancia_hora'].value_counts()\n",
    "x = y.keys()      \n",
    "y = y.values\n",
    "plt.bar(x,y)"
   ]
  },
  {
   "cell_type": "code",
   "execution_count": 29,
   "id": "e8753fd1",
   "metadata": {},
   "outputs": [
    {
     "data": {
      "text/plain": [
       "<BarContainer object of 15 artists>"
      ]
     },
     "execution_count": 29,
     "metadata": {},
     "output_type": "execute_result"
    },
    {
     "data": {
      "image/png": "[encoded data removed]",
      "text/plain": [
       "<Figure size 432x288 with 1 Axes>"
      ]
     },
     "metadata": {
      "needs_background": "light"
     },
     "output_type": "display_data"
    }
   ],
   "source": [
    "y = df_mujeres['grupo_horas'].value_counts()\n",
    "x = y.keys()      \n",
    "y = y.values\n",
    "plt.bar(x,y)"
   ]
  },
  {
   "cell_type": "code",
   "execution_count": 30,
   "id": "479b9fec",
   "metadata": {},
   "outputs": [
    {
     "data": {
      "text/plain": [
       "<BarContainer object of 36 artists>"
      ]
     },
     "execution_count": 30,
     "metadata": {},
     "output_type": "execute_result"
    },
    {
     "data": {
      "image/png": "[encoded data removed]",
      "text/plain": [
       "<Figure size 432x288 with 1 Axes>"
      ]
     },
     "metadata": {
      "needs_background": "light"
     },
     "output_type": "display_data"
    }
   ],
   "source": [
    "y = df_mujeres['grupo_ganancia_hora'].value_counts()\n",
    "x = y.keys()      \n",
    "y = y.values\n",
    "plt.bar(x,y)"
   ]
  },
  {
   "cell_type": "markdown",
   "id": "dc245638",
   "metadata": {},
   "source": [
    "## Formal vs informal"
   ]
  },
  {
   "cell_type": "code",
   "execution_count": 31,
   "id": "102ad230",
   "metadata": {},
   "outputs": [
    {
     "data": {
      "image/png": "[encoded data removed]",
      "text/plain": [
       "<Figure size 1080x1080 with 1 Axes>"
      ]
     },
     "metadata": {},
     "output_type": "display_data"
    }
   ],
   "source": [
    "tot_formal = len(df_formal)\n",
    "tot_informal = len(df_informal)\n",
    "tot_formal_informal = tot_formal + tot_informal\n",
    "arr_pie = [tot_formal/tot_formal_informal,tot_informal/tot_formal_informal]\n",
    "mylabels = ['Formal','Informal']\n",
    "\n",
    "plt.figure(figsize=(15,15))\n",
    "plt.title(\"Informal vs formal \")\n",
    "plt.pie(arr_pie,labels = mylabels, autopct='%1.1f%%')\n",
    "plt.show()"
   ]
  },
  {
   "cell_type": "code",
   "execution_count": 32,
   "id": "3e1d8219",
   "metadata": {},
   "outputs": [
    {
     "data": {
      "text/plain": [
       "<BarContainer object of 15 artists>"
      ]
     },
     "execution_count": 32,
     "metadata": {},
     "output_type": "execute_result"
    },
    {
     "data": {
      "image/png": "[encoded data removed]",
      "text/plain": [
       "<Figure size 432x288 with 1 Axes>"
      ]
     },
     "metadata": {
      "needs_background": "light"
     },
     "output_type": "display_data"
    }
   ],
   "source": [
    "y = df_formal['grupo_horas'].value_counts()\n",
    "x = y.keys()      \n",
    "y = y.values\n",
    "plt.bar(x,y)"
   ]
  },
  {
   "cell_type": "code",
   "execution_count": 33,
   "id": "b4525e61",
   "metadata": {},
   "outputs": [
    {
     "data": {
      "text/plain": [
       "<BarContainer object of 38 artists>"
      ]
     },
     "execution_count": 33,
     "metadata": {},
     "output_type": "execute_result"
    },
    {
     "data": {
      "image/png": "[encoded data removed]",
      "text/plain": [
       "<Figure size 432x288 with 1 Axes>"
      ]
     },
     "metadata": {
      "needs_background": "light"
     },
     "output_type": "display_data"
    }
   ],
   "source": [
    "y = df_formal['grupo_ganancia_hora'].value_counts()\n",
    "x = y.keys()      \n",
    "y = y.values\n",
    "plt.bar(x,y)"
   ]
  },
  {
   "cell_type": "code",
   "execution_count": 34,
   "id": "b74b9b86",
   "metadata": {},
   "outputs": [
    {
     "data": {
      "text/plain": [
       "<BarContainer object of 15 artists>"
      ]
     },
     "execution_count": 34,
     "metadata": {},
     "output_type": "execute_result"
    },
    {
     "data": {
      "image/png": "[encoded data removed]",
      "text/plain": [
       "<Figure size 432x288 with 1 Axes>"
      ]
     },
     "metadata": {
      "needs_background": "light"
     },
     "output_type": "display_data"
    }
   ],
   "source": [
    "y = df_informal['grupo_horas'].value_counts()\n",
    "x = y.keys()      \n",
    "y = y.values\n",
    "plt.bar(x,y)"
   ]
  },
  {
   "cell_type": "code",
   "execution_count": 35,
   "id": "b9917810",
   "metadata": {},
   "outputs": [
    {
     "data": {
      "text/plain": [
       "<BarContainer object of 33 artists>"
      ]
     },
     "execution_count": 35,
     "metadata": {},
     "output_type": "execute_result"
    },
    {
     "data": {
      "image/png": "[encoded data removed]",
      "text/plain": [
       "<Figure size 432x288 with 1 Axes>"
      ]
     },
     "metadata": {
      "needs_background": "light"
     },
     "output_type": "display_data"
    }
   ],
   "source": [
    "y = df_informal['grupo_ganancia_hora'].value_counts()\n",
    "x = y.keys()      \n",
    "y = y.values\n",
    "plt.bar(x,y)"
   ]
  },
  {
   "cell_type": "markdown",
   "id": "5131f25d",
   "metadata": {},
   "source": [
    "# Intervalos de confianza"
   ]
  },
  {
   "cell_type": "markdown",
   "id": "b84634e7",
   "metadata": {},
   "source": [
    "## Nivel educativo"
   ]
  },
  {
   "cell_type": "code",
   "execution_count": 36,
   "id": "601bc89c",
   "metadata": {},
   "outputs": [
    {
     "name": "stdout",
     "output_type": "stream",
     "text": [
      "Intervalo de confinza para horas trabajadas con alfa del 0.05\n",
      "Intervalo de confinza para horas trabajadas con educacion nula : [40.59472478438176, 43.257222034231724]\n",
      "Intervalo de confinza para horas trabajadas con educacion básica : [45.09101414914455, 45.68460685005298]\n",
      "Intervalo de confinza para horas trabajadas con educacion media : [45.657908872356295, 46.434950280591515]\n",
      "Intervalo de confinza para horas trabajadas con educacion superior : [43.13106092736935, 43.88867360485072]\n",
      "-------------------------------------------------------------------------------------\n",
      "Intervalo de confinza para el ingreso por hora con alfa del 0.05\n",
      "Intervalo de confinza para el ingreso por hora con educacion nula : [24.994636651029342, 28.699064617351613]\n",
      "Intervalo de confinza para el ingreso por hora con educacion básica : [34.2935109322123, 35.6392558888044]\n",
      "Intervalo de confinza para el ingreso por hora con educacion media : [40.33975189057914, 42.361395076661026]\n",
      "Intervalo de confinza para el ingreso por hora con educacion superior : [67.33524318904671, 73.13410555313394]\n"
     ]
    }
   ],
   "source": [
    "df_nula = df_nuevo.loc[df_nuevo['NIV'] == 0]\n",
    "df_basica = df_nuevo.loc[df_nuevo['NIV'] > 0]\n",
    "df_basica = df_basica.loc[df_basica['NIV'] < 4]\n",
    "df_media = df_nuevo.loc[df_nuevo['NIV'] > 3]\n",
    "df_media = df_media.loc[df_media['NIV'] < 8]\n",
    "df_superior = df_nuevo.loc[df_nuevo['NIV'] > 7]\n",
    "\n",
    "alfa = .05\n",
    "arr_horas = [df_nula['tot_horas'],df_basica['tot_horas'],df_media['tot_horas'],df_superior['tot_horas']]\n",
    "arr_pago_hora = [df_nula['ganancia_hora'],df_basica['ganancia_hora'],df_media['ganancia_hora'],df_superior['ganancia_hora']]\n",
    "arr_inter_horas = arrInterConfianza(intervaloDeConfVarDesc,arr_horas,alfa)\n",
    "arr_inter_pago_hora = arrInterConfianza(intervaloDeConfVarDesc,arr_pago_hora,alfa)\n",
    "\n",
    "print('Intervalo de confinza para horas trabajadas con alfa del ' + str(alfa))\n",
    "print('Intervalo de confinza para horas trabajadas con educacion nula : ' + str(arr_inter_horas[0]))\n",
    "print('Intervalo de confinza para horas trabajadas con educacion básica : ' + str(arr_inter_horas[1]))\n",
    "print('Intervalo de confinza para horas trabajadas con educacion media : ' + str(arr_inter_horas[2]))\n",
    "print('Intervalo de confinza para horas trabajadas con educacion superior : ' + str(arr_inter_horas[3]))\n",
    "print('-------------------------------------------------------------------------------------')\n",
    "print('Intervalo de confinza para el ingreso por hora con alfa del ' + str(alfa))\n",
    "print('Intervalo de confinza para el ingreso por hora con educacion nula : ' + str(arr_inter_pago_hora[0]))\n",
    "print('Intervalo de confinza para el ingreso por hora con educacion básica : ' + str(arr_inter_pago_hora[1]))\n",
    "print('Intervalo de confinza para el ingreso por hora con educacion media : ' + str(arr_inter_pago_hora[2]))\n",
    "print('Intervalo de confinza para el ingreso por hora con educacion superior : ' + str(arr_inter_pago_hora[3]))\n"
   ]
  },
  {
   "cell_type": "markdown",
   "id": "dc53aba1",
   "metadata": {},
   "source": [
    "## Licenciatura vs maestria y doctorado"
   ]
  },
  {
   "cell_type": "code",
   "execution_count": 37,
   "id": "7e38f1c2",
   "metadata": {},
   "outputs": [
    {
     "name": "stdout",
     "output_type": "stream",
     "text": [
      "Intervalo de confinza para horas trabajadas con alfa del 0.05\n",
      "Intervalo de confinza para horas trabajadas con licenciatura : [42.97511538781393, 43.78016904969495]\n",
      "Intervalo de confinza para horas trabajadas con maestria y doctorado : [43.686060065491084, 45.8664308765379]\n",
      "Intervalo de confinza para diferencia de horas promedio trabajadas : [-2.6930255107175247, -0.10418099380258039]\n",
      "-------------------------------------------------------------------------------------\n",
      "Intervalo de confinza para el ingreso por hora con alfa del 0.05\n",
      "Intervalo de confinza para el ingreso por hora con licenciatura : [24.994636651029342, 28.699064617351613]\n",
      "Intervalo de confinza para el ingreso por hora con maestria y doctorado : [34.2935109322123, 35.6392558888044]\n",
      "Intervalo de confinza para diferencia de ingreso por hora promedio : [-43.51077712152144, -23.746145188387743]\n"
     ]
    }
   ],
   "source": [
    "df_licenciatura = df_superior.loc[df_superior['NIV'] == 8]\n",
    "df_maestria_doctorado = df_superior.loc[df_superior['NIV'] == 9]\n",
    "\n",
    "alfa = .05\n",
    "arr_horas = [df_licenciatura['tot_horas'],df_maestria_doctorado['tot_horas']]\n",
    "arr_pago_hora = [df_licenciatura['ganancia_hora'],df_maestria_doctorado['ganancia_hora']]\n",
    "arr_inter_horas = arrInterConfianza(intervaloDeConfVarDesc,arr_horas,alfa)\n",
    "arr_inter_pago = arrInterConfianza(intervaloDeConfVarDesc,arr_pago_hora,alfa)\n",
    "\n",
    "x = [df_licenciatura['tot_horas'],df_maestria_doctorado['tot_horas']]\n",
    "dif_media_horas = intervaloDeConfDifMedias(x,alfa)\n",
    "\n",
    "x = [df_licenciatura['ganancia_hora'],df_maestria_doctorado['ganancia_hora']]\n",
    "dif_media_ganancia = intervaloDeConfDifMedias(x,alfa)\n",
    "\n",
    "print('Intervalo de confinza para horas trabajadas con alfa del ' + str(alfa))\n",
    "print('Intervalo de confinza para horas trabajadas con licenciatura : ' + str(arr_inter_horas[0]))\n",
    "print('Intervalo de confinza para horas trabajadas con maestria y doctorado : ' + str(arr_inter_horas[1]))\n",
    "print('Intervalo de confinza para diferencia de horas promedio trabajadas : ' + str(dif_media_horas))\n",
    "print('-------------------------------------------------------------------------------------')\n",
    "print('Intervalo de confinza para el ingreso por hora con alfa del ' + str(alfa))\n",
    "print('Intervalo de confinza para el ingreso por hora con licenciatura : ' + str(arr_inter_pago_hora[0]))\n",
    "print('Intervalo de confinza para el ingreso por hora con maestria y doctorado : ' + str(arr_inter_pago_hora[1]))\n",
    "print('Intervalo de confinza para diferencia de ingreso por hora promedio : ' + str(dif_media_ganancia))\n"
   ]
  },
  {
   "cell_type": "markdown",
   "id": "aa19961f",
   "metadata": {},
   "source": [
    "## Hombre vs mujeres"
   ]
  },
  {
   "cell_type": "code",
   "execution_count": 38,
   "id": "8eeee3a5",
   "metadata": {},
   "outputs": [
    {
     "name": "stdout",
     "output_type": "stream",
     "text": [
      "Intervalo de confinza para horas trabajadas con alfa del 0.05\n",
      "Intervalo de confinza para horas trabajadas de los hombres : [48.65127484318559, 49.153767108457615]\n",
      "Intervalo de confinza para horas trabajadas de las mujeres  : [39.116859790923534, 39.73045438062437]\n",
      "Intervalo de confinza para diferencia de horas promedio trabajadas : [9.083017005684301, 9.874710774410996]\n",
      "-------------------------------------------------------------------------------------\n",
      "Intervalo de confinza para el ingreso por hora con alfa del 0.05\n",
      "Intervalo de confinza para el ingreso por hora de los hombres : [43.41732006648844, 45.68884283591201]\n",
      "Intervalo de confinza para el ingreso por hora de las mujeres : [42.2548932256163, 44.087553647011404]\n",
      "Intervalo de confinza para diferencia de ingreso por hora promedio : [-0.18715747398890992, 2.950873503761662]\n"
     ]
    }
   ],
   "source": [
    "df_hombres = df_nuevo.loc[df_nuevo['SEXO'] == 1]\n",
    "df_mujeres = df_nuevo.loc[df_nuevo['SEXO'] == 2]\n",
    "\n",
    "alfa = .05\n",
    "arr_horas = [df_hombres['tot_horas'],df_mujeres['tot_horas']]\n",
    "arr_pago_hora = [df_hombres['ganancia_hora'],df_mujeres['ganancia_hora']]\n",
    "arr_inter_horas = arrInterConfianza(intervaloDeConfVarDesc,arr_horas,alfa)\n",
    "arr_inter_pago_hora = arrInterConfianza(intervaloDeConfVarDesc,arr_pago_hora,alfa)\n",
    "\n",
    "x = [df_hombres['tot_horas'],df_mujeres['tot_horas']]\n",
    "dif_media_horas = intervaloDeConfDifMedias(x,alfa)\n",
    "\n",
    "x = [df_hombres['ganancia_hora'],df_mujeres['ganancia_hora']]\n",
    "dif_media_ganancia = intervaloDeConfDifMedias(x,alfa)\n",
    "\n",
    "print('Intervalo de confinza para horas trabajadas con alfa del ' + str(alfa))\n",
    "print('Intervalo de confinza para horas trabajadas de los hombres : ' + str(arr_inter_horas[0]))\n",
    "print('Intervalo de confinza para horas trabajadas de las mujeres  : ' + str(arr_inter_horas[1]))\n",
    "print('Intervalo de confinza para diferencia de horas promedio trabajadas : ' + str(dif_media_horas))\n",
    "print('-------------------------------------------------------------------------------------')\n",
    "print('Intervalo de confinza para el ingreso por hora con alfa del ' + str(alfa))\n",
    "print('Intervalo de confinza para el ingreso por hora de los hombres : ' + str(arr_inter_pago_hora[0]))\n",
    "print('Intervalo de confinza para el ingreso por hora de las mujeres : ' + str(arr_inter_pago_hora[1]))\n",
    "print('Intervalo de confinza para diferencia de ingreso por hora promedio : ' + str(dif_media_ganancia))"
   ]
  },
  {
   "cell_type": "markdown",
   "id": "56b6b132",
   "metadata": {},
   "source": [
    "## Formal vs informal"
   ]
  },
  {
   "cell_type": "code",
   "execution_count": 39,
   "id": "dbe72c5d",
   "metadata": {},
   "outputs": [
    {
     "name": "stdout",
     "output_type": "stream",
     "text": [
      "Intervalo de confinza para horas trabajadas con alfa del 0.05\n",
      "Intervalo de confinza para horas trabajadas de las personas en el sector formal : [48.99971274424146, 49.48095634966524]\n",
      "Intervalo de confinza para horas trabajadas de las personas en el sector informal  : [42.488172340509614, 43.19777798628777]\n",
      "Intervalo de confinza para diferencia de horas promedio trabajadas : [5.977422935998887, 6.817295831110429]\n",
      "-------------------------------------------------------------------------------------\n",
      "Intervalo de confinza para el ingreso por hora con alfa del 0.05\n",
      "Intervalo de confinza para el ingreso por hora de las personas en el sector formal : [46.31042520643466, 49.32579368036677]\n",
      "Intervalo de confinza para el ingreso por hora de las personas en el sector informal : [33.05289232819531, 34.366391075507764]\n",
      "Intervalo de confinza para diferencia de ingreso por hora promedio : [12.384281395602809, 15.832654087495545]\n"
     ]
    }
   ],
   "source": [
    "df_formal = df_nuevo.loc[df_nuevo['P5_6_6'] == 1]\n",
    "df_informal = df_nuevo.loc[df_nuevo['P5_6_6'] == 2]\n",
    "\n",
    "alfa = .05\n",
    "arr_horas = [df_formal['tot_horas'],df_informal['tot_horas']]\n",
    "arr_pago_hora = [df_formal['ganancia_hora'],df_informal['ganancia_hora']]\n",
    "arr_inter_horas = arrInterConfianza(intervaloDeConfVarDesc,arr_horas,alfa)\n",
    "arr_inter_pago_hora = arrInterConfianza(intervaloDeConfVarDesc,arr_pago_hora,alfa)\n",
    "\n",
    "x = [df_formal['tot_horas'],df_informal['tot_horas']]\n",
    "dif_media_horas = intervaloDeConfDifMedias(x,alfa)\n",
    "\n",
    "x = [df_formal['ganancia_hora'],df_informal['ganancia_hora']]\n",
    "dif_media_ganancia = intervaloDeConfDifMedias(x,alfa)\n",
    "\n",
    "print('Intervalo de confinza para horas trabajadas con alfa del ' + str(alfa))\n",
    "print('Intervalo de confinza para horas trabajadas de las personas en el sector formal : ' + str(arr_inter_horas[0]))\n",
    "print('Intervalo de confinza para horas trabajadas de las personas en el sector informal  : ' + str(arr_inter_horas[1]))\n",
    "print('Intervalo de confinza para diferencia de horas promedio trabajadas : ' + str(dif_media_horas))\n",
    "print('-------------------------------------------------------------------------------------')\n",
    "print('Intervalo de confinza para el ingreso por hora con alfa del ' + str(alfa))\n",
    "print('Intervalo de confinza para el ingreso por hora de las personas en el sector formal : ' + str(arr_inter_pago_hora[0]))\n",
    "print('Intervalo de confinza para el ingreso por hora de las personas en el sector informal : ' + str(arr_inter_pago_hora[1]))\n",
    "print('Intervalo de confinza para diferencia de ingreso por hora promedio : ' + str(dif_media_ganancia))"
   ]
  },
  {
   "cell_type": "markdown",
   "id": "7d8ad049",
   "metadata": {},
   "source": [
    "# Graficas desv_estd - media"
   ]
  },
  {
   "cell_type": "markdown",
   "id": "ba75390d",
   "metadata": {},
   "source": [
    "## Horas trabajadas promedio"
   ]
  },
  {
   "cell_type": "code",
   "execution_count": 40,
   "id": "41b732c4",
   "metadata": {},
   "outputs": [
    {
     "data": {
      "image/png": "[encoded data removed]",
      "text/plain": [
       "<Figure size 792x792 with 1 Axes>"
      ]
     },
     "metadata": {
      "needs_background": "light"
     },
     "output_type": "display_data"
    }
   ],
   "source": [
    "vec = [df_nula,df_basica,df_media,df_superior,df_licenciatura,df_maestria_doctorado,df_hombres,df_mujeres,df_formal,df_informal]\n",
    "\n",
    "x_s2_horas = arrEstimador(s2df,vec,'tot_horas')\n",
    "x_s_horas = map(pow_n,x_s2_horas)\n",
    "x_s_horas = list(x_s_horas)\n",
    "x_media_horas = arrEstimador(np.mean,vec,'tot_horas')\n",
    "\n",
    "legends = ['Nula','Basica','Media','Superior','Licenciatura','Maestria doctorado','Hombres','Mujeres','Formal','Informal']\n",
    "plt.figure(figsize=(11,11))\n",
    "for i in range(len(x_s2_horas)):\n",
    "    plt.scatter(x_media_horas[i],x_s_horas[i])\n",
    "    plt.annotate(legends[i], ( x_media_horas[i],x_s_horas[i]))\n",
    "plt.legend(legends, fontsize=\"15\")\n",
    "plt.grid(True)"
   ]
  },
  {
   "cell_type": "markdown",
   "id": "ae5afa15",
   "metadata": {},
   "source": [
    "## Ingreso por hora promedio"
   ]
  },
  {
   "cell_type": "code",
   "execution_count": 41,
   "id": "2346b65f",
   "metadata": {},
   "outputs": [
    {
     "data": {
      "image/png": "[encoded data removed]",
      "text/plain": [
       "<Figure size 864x864 with 1 Axes>"
      ]
     },
     "metadata": {
      "needs_background": "light"
     },
     "output_type": "display_data"
    }
   ],
   "source": [
    "x_s2_ganancia = arrEstimador(s2df,vec,'ganancia_hora')\n",
    "x_s_ganancia = map(pow_n,x_s2_ganancia)\n",
    "x_s_ganancia = list(x_s_ganancia)\n",
    "x_media_ganancia = arrEstimador(np.mean,vec,'ganancia_hora')\n",
    "\n",
    "legends = ['Nula','Basica','Media','Superior','Licenciatura','Maestria doctorado','Hombres','Mujeres','Formal','Informal']\n",
    "plt.figure(figsize=(12,12))\n",
    "for i in range(len(x_s2_horas)):\n",
    "    plt.scatter(x_media_ganancia[i],x_s_ganancia[i],label = legends[i])\n",
    "    plt.annotate(legends[i], ( x_media_ganancia[i],x_s_ganancia[i]))\n",
    "plt.legend(legends, fontsize=\"15\")\n",
    "plt.grid(True)"
   ]
  },
  {
   "cell_type": "markdown",
   "id": "d23ae3c2",
   "metadata": {},
   "source": [
    "# Pruebas de hipotesis"
   ]
  },
  {
   "cell_type": "markdown",
   "id": "d81f5463",
   "metadata": {},
   "source": [
    "## Licenciatura vs maestria doctorado"
   ]
  },
  {
   "cell_type": "code",
   "execution_count": null,
   "id": "dfe530e9",
   "metadata": {},
   "outputs": [],
   "source": []
  },
  {
   "cell_type": "markdown",
   "id": "0ce29f70",
   "metadata": {},
   "source": [
    "## Hombres vs mujeres"
   ]
  },
  {
   "cell_type": "markdown",
   "id": "2ca1090c",
   "metadata": {},
   "source": [
    "Probar si el salario promedio de los hombres por hora es igual que el salario promedio por hora de las mujeres \\\n",
    "h0: media_ingreso_hora_hombres = media_ingreso_hora_mujeres \\\n",
    "ha: media_ingreso_hora_hombres > media_ingreso_hora_mujeres"
   ]
  },
  {
   "cell_type": "code",
   "execution_count": 42,
   "id": "ffde0931",
   "metadata": {},
   "outputs": [
    {
     "name": "stdout",
     "output_type": "stream",
     "text": [
      "valor del punto crítico: 5.7039351507789675\n",
      "diferencia de medias: 1.381858014886376\n",
      "No hay evidencia suficiente para rechazar h0, con una confiabilidad del 0.999\n"
     ]
    }
   ],
   "source": [
    "alfa = 0.001\n",
    "h0 = 0\n",
    "\n",
    "arr_pago_hora = [df_hombres['ganancia_hora'],df_mujeres['ganancia_hora']]\n",
    "res = pruebaDeHipotesisSuperior(h0,arr_pago_hora,alfa)\n",
    "\n",
    "print('valor del punto crítico: ' + str(res[0]))\n",
    "print('diferencia de medias: ' + str(res[1]))\n",
    "aceptar_o_rechazar_h0(res[2],alfa)"
   ]
  },
  {
   "cell_type": "markdown",
   "id": "b1efc011",
   "metadata": {},
   "source": [
    "Probar si las horas trabajadas en promedio de los hombres es igual a las hora trabajadas de las mujeres \\\n",
    "h0: media_horas_hombres = media_horas_mujeres \\\n",
    "ha: media_horas_hombres > media_horas_mujeres"
   ]
  },
  {
   "cell_type": "code",
   "execution_count": 52,
   "id": "fbc79aa3",
   "metadata": {},
   "outputs": [
    {
     "name": "stdout",
     "output_type": "stream",
     "text": [
      "valor del punto crítico: 1.4390456780416823\n",
      "diferencia de medias: 9.478863890047649\n",
      "Hay evidencia suficiente para rechazar h0, con una confiabilidad del 0.999\n"
     ]
    }
   ],
   "source": [
    "alfa = 0.001\n",
    "h0 = 0\n",
    "\n",
    "arr_horas = [df_hombres['tot_horas'],df_mujeres['tot_horas']]\n",
    "res = pruebaDeHipotesisSuperior(h0,arr_horas,alfa)\n",
    "\n",
    "print('valor del punto crítico: ' + str(res[0]))\n",
    "print('diferencia de medias: ' + str(res[1]))\n",
    "aceptar_o_rechazar_h0(res[2],alfa)"
   ]
  },
  {
   "cell_type": "code",
   "execution_count": 59,
   "id": "c58f2a96",
   "metadata": {},
   "outputs": [
    {
     "ename": "SyntaxError",
     "evalue": "invalid syntax (Temp/ipykernel_22668/2477355597.py, line 1)",
     "output_type": "error",
     "traceback": [
      "\u001b[1;36m  File \u001b[1;32m\"C:\\Users\\Miguel\\AppData\\Local\\Temp/ipykernel_22668/2477355597.py\"\u001b[1;36m, line \u001b[1;32m1\u001b[0m\n\u001b[1;33m    Probar si las horas trabajadas en promedio de los hombres es 9 horas mayor que  de las mujeres \\\u001b[0m\n\u001b[1;37m           ^\u001b[0m\n\u001b[1;31mSyntaxError\u001b[0m\u001b[1;31m:\u001b[0m invalid syntax\n"
     ]
    }
   ],
   "source": [
    "Probar si las horas trabajadas en promedio de los hombres es 9 horas mayor que  de las mujeres \\\n",
    "h0: media_horas_hombres - media_horas_mujeres = 9 \\\n",
    "ha: media_horas_hombres - media_horas_mujeres < 9"
   ]
  },
  {
   "cell_type": "code",
   "execution_count": 58,
   "id": "c5284bfd",
   "metadata": {},
   "outputs": [
    {
     "name": "stdout",
     "output_type": "stream",
     "text": [
      "valor del punto crítico: 7.5609543219583175\n",
      "diferencia de medias: 9.478863890047649\n",
      "No hay evidencia suficiente para rechazar h0, con una confiabilidad del 0.999\n"
     ]
    }
   ],
   "source": [
    "alfa = 0.001\n",
    "h0 = 9\n",
    "\n",
    "arr_horas = [df_hombres['tot_horas'],df_mujeres['tot_horas']]\n",
    "res = pruebaDeHipotesisInferior(h0,arr_horas,alfa)\n",
    "\n",
    "print('valor del punto crítico: ' + str(res[0]))\n",
    "print('diferencia de medias: ' + str(res[1]))\n",
    "aceptar_o_rechazar_h0(res[2],alfa)"
   ]
  },
  {
   "cell_type": "code",
   "execution_count": null,
   "id": "9de81f69",
   "metadata": {},
   "outputs": [],
   "source": []
  },
  {
   "cell_type": "code",
   "execution_count": null,
   "id": "2fa68ee7",
   "metadata": {},
   "outputs": [],
   "source": []
  }
 ],
 "metadata": {
  "kernelspec": {
   "display_name": "Python 3 (ipykernel)",
   "language": "python",
   "name": "python3"
  },
  "language_info": {
   "codemirror_mode": {
    "name": "ipython",
    "version": 3
   },
   "file_extension": ".py",
   "mimetype": "text/x-python",
   "name": "python",
   "nbconvert_exporter": "python",
   "pygments_lexer": "ipython3",
   "version": "3.8.8"
  }
 },
 "nbformat": 4,
 "nbformat_minor": 5
}
