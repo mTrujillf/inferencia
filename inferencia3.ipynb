{
 "cells": [
  {
   "cell_type": "code",
   "execution_count": 1,
   "id": "9b84acb8",
   "metadata": {},
   "outputs": [],
   "source": [
    "import pandas as pd\n",
    "import numpy as np\n",
    "import matplotlib.pyplot as plt\n",
    "from scipy.stats import t"
   ]
  },
  {
   "cell_type": "code",
   "execution_count": 2,
   "id": "3c6c3fdf",
   "metadata": {},
   "outputs": [
    {
     "data": {
      "text/plain": [
       "71404"
      ]
     },
     "execution_count": 2,
     "metadata": {},
     "output_type": "execute_result"
    }
   ],
   "source": [
    "df = pd.read_csv('conjunto_de_datos_tmodulo_enut_2019.csv',encoding='latin-1')\n",
    "df_nuevo = df[['EDAD_V','SEXO','NIV','P5_1','P5_3_1','P5_3_2','P5_3_3','P5_3_4','P5_6_6','P5_7','P5_7A']]\n",
    "len(df_nuevo)"
   ]
  },
  {
   "cell_type": "code",
   "execution_count": 3,
   "id": "d4ded502",
   "metadata": {},
   "outputs": [
    {
     "name": "stderr",
     "output_type": "stream",
     "text": [
      "C:\\Users\\Miguel\\AppData\\Local\\Temp/ipykernel_3604/1884883793.py:1: SettingWithCopyWarning: \n",
      "A value is trying to be set on a copy of a slice from a DataFrame.\n",
      "Try using .loc[row_indexer,col_indexer] = value instead\n",
      "\n",
      "See the caveats in the documentation: https://pandas.pydata.org/pandas-docs/stable/user_guide/indexing.html#returning-a-view-versus-a-copy\n",
      "  df_nuevo['P5_3_1'] = df_nuevo['P5_3_1'].replace({np.nan: '0'})\n",
      "C:\\Users\\Miguel\\AppData\\Local\\Temp/ipykernel_3604/1884883793.py:2: SettingWithCopyWarning: \n",
      "A value is trying to be set on a copy of a slice from a DataFrame.\n",
      "Try using .loc[row_indexer,col_indexer] = value instead\n",
      "\n",
      "See the caveats in the documentation: https://pandas.pydata.org/pandas-docs/stable/user_guide/indexing.html#returning-a-view-versus-a-copy\n",
      "  df_nuevo['P5_3_2'] = df_nuevo['P5_3_2'].replace({np.nan: '0'})\n",
      "C:\\Users\\Miguel\\AppData\\Local\\Temp/ipykernel_3604/1884883793.py:3: SettingWithCopyWarning: \n",
      "A value is trying to be set on a copy of a slice from a DataFrame.\n",
      "Try using .loc[row_indexer,col_indexer] = value instead\n",
      "\n",
      "See the caveats in the documentation: https://pandas.pydata.org/pandas-docs/stable/user_guide/indexing.html#returning-a-view-versus-a-copy\n",
      "  df_nuevo['P5_3_3'] = df_nuevo['P5_3_3'].replace({np.nan: '0'})\n",
      "C:\\Users\\Miguel\\AppData\\Local\\Temp/ipykernel_3604/1884883793.py:4: SettingWithCopyWarning: \n",
      "A value is trying to be set on a copy of a slice from a DataFrame.\n",
      "Try using .loc[row_indexer,col_indexer] = value instead\n",
      "\n",
      "See the caveats in the documentation: https://pandas.pydata.org/pandas-docs/stable/user_guide/indexing.html#returning-a-view-versus-a-copy\n",
      "  df_nuevo['P5_3_4'] = df_nuevo['P5_3_4'].replace({np.nan: '0'})\n",
      "C:\\Users\\Miguel\\AppData\\Local\\Temp/ipykernel_3604/1884883793.py:5: SettingWithCopyWarning: \n",
      "A value is trying to be set on a copy of a slice from a DataFrame.\n",
      "Try using .loc[row_indexer,col_indexer] = value instead\n",
      "\n",
      "See the caveats in the documentation: https://pandas.pydata.org/pandas-docs/stable/user_guide/indexing.html#returning-a-view-versus-a-copy\n",
      "  df_nuevo['P5_7'] = df_nuevo['P5_7'].replace({np.nan: '-1'})\n",
      "C:\\Users\\Miguel\\AppData\\Local\\Temp/ipykernel_3604/1884883793.py:6: SettingWithCopyWarning: \n",
      "A value is trying to be set on a copy of a slice from a DataFrame.\n",
      "Try using .loc[row_indexer,col_indexer] = value instead\n",
      "\n",
      "See the caveats in the documentation: https://pandas.pydata.org/pandas-docs/stable/user_guide/indexing.html#returning-a-view-versus-a-copy\n",
      "  df_nuevo['P5_7A'] = df_nuevo['P5_7A'].replace({np.nan: '-1'})\n",
      "C:\\Users\\Miguel\\AppData\\Local\\Temp/ipykernel_3604/1884883793.py:7: SettingWithCopyWarning: \n",
      "A value is trying to be set on a copy of a slice from a DataFrame.\n",
      "Try using .loc[row_indexer,col_indexer] = value instead\n",
      "\n",
      "See the caveats in the documentation: https://pandas.pydata.org/pandas-docs/stable/user_guide/indexing.html#returning-a-view-versus-a-copy\n",
      "  df_nuevo['P5_3_1'] = df_nuevo['P5_3_1'].astype(int)\n",
      "C:\\Users\\Miguel\\AppData\\Local\\Temp/ipykernel_3604/1884883793.py:8: SettingWithCopyWarning: \n",
      "A value is trying to be set on a copy of a slice from a DataFrame.\n",
      "Try using .loc[row_indexer,col_indexer] = value instead\n",
      "\n",
      "See the caveats in the documentation: https://pandas.pydata.org/pandas-docs/stable/user_guide/indexing.html#returning-a-view-versus-a-copy\n",
      "  df_nuevo['P5_3_2'] = df_nuevo['P5_3_2'].astype(int)\n",
      "C:\\Users\\Miguel\\AppData\\Local\\Temp/ipykernel_3604/1884883793.py:9: SettingWithCopyWarning: \n",
      "A value is trying to be set on a copy of a slice from a DataFrame.\n",
      "Try using .loc[row_indexer,col_indexer] = value instead\n",
      "\n",
      "See the caveats in the documentation: https://pandas.pydata.org/pandas-docs/stable/user_guide/indexing.html#returning-a-view-versus-a-copy\n",
      "  df_nuevo['P5_3_3'] = df_nuevo['P5_3_3'].astype(int)\n",
      "C:\\Users\\Miguel\\AppData\\Local\\Temp/ipykernel_3604/1884883793.py:10: SettingWithCopyWarning: \n",
      "A value is trying to be set on a copy of a slice from a DataFrame.\n",
      "Try using .loc[row_indexer,col_indexer] = value instead\n",
      "\n",
      "See the caveats in the documentation: https://pandas.pydata.org/pandas-docs/stable/user_guide/indexing.html#returning-a-view-versus-a-copy\n",
      "  df_nuevo['P5_3_4'] = df_nuevo['P5_3_4'].astype(int)\n",
      "C:\\Users\\Miguel\\AppData\\Local\\Temp/ipykernel_3604/1884883793.py:11: SettingWithCopyWarning: \n",
      "A value is trying to be set on a copy of a slice from a DataFrame.\n",
      "Try using .loc[row_indexer,col_indexer] = value instead\n",
      "\n",
      "See the caveats in the documentation: https://pandas.pydata.org/pandas-docs/stable/user_guide/indexing.html#returning-a-view-versus-a-copy\n",
      "  df_nuevo['P5_7'] = df_nuevo['P5_7'].astype(float)\n",
      "C:\\Users\\Miguel\\AppData\\Local\\Temp/ipykernel_3604/1884883793.py:12: SettingWithCopyWarning: \n",
      "A value is trying to be set on a copy of a slice from a DataFrame.\n",
      "Try using .loc[row_indexer,col_indexer] = value instead\n",
      "\n",
      "See the caveats in the documentation: https://pandas.pydata.org/pandas-docs/stable/user_guide/indexing.html#returning-a-view-versus-a-copy\n",
      "  df_nuevo['P5_7A'] = df_nuevo['P5_7A'].astype(int)\n",
      "C:\\Users\\Miguel\\AppData\\Local\\Temp/ipykernel_3604/1884883793.py:13: SettingWithCopyWarning: \n",
      "A value is trying to be set on a copy of a slice from a DataFrame.\n",
      "Try using .loc[row_indexer,col_indexer] = value instead\n",
      "\n",
      "See the caveats in the documentation: https://pandas.pydata.org/pandas-docs/stable/user_guide/indexing.html#returning-a-view-versus-a-copy\n",
      "  df_nuevo['tot_horas'] = df_nuevo['P5_3_1'] + df_nuevo['P5_3_3']\n",
      "C:\\Users\\Miguel\\AppData\\Local\\Temp/ipykernel_3604/1884883793.py:14: SettingWithCopyWarning: \n",
      "A value is trying to be set on a copy of a slice from a DataFrame.\n",
      "Try using .loc[row_indexer,col_indexer] = value instead\n",
      "\n",
      "See the caveats in the documentation: https://pandas.pydata.org/pandas-docs/stable/user_guide/indexing.html#returning-a-view-versus-a-copy\n",
      "  df_nuevo['tot_minutos'] = df_nuevo['P5_3_2'] + df_nuevo['P5_3_4']\n",
      "C:\\Users\\Miguel\\AppData\\Local\\Temp/ipykernel_3604/1884883793.py:15: SettingWithCopyWarning: \n",
      "A value is trying to be set on a copy of a slice from a DataFrame.\n",
      "Try using .loc[row_indexer,col_indexer] = value instead\n",
      "\n",
      "See the caveats in the documentation: https://pandas.pydata.org/pandas-docs/stable/user_guide/indexing.html#returning-a-view-versus-a-copy\n",
      "  df_nuevo['tot_horas'] = df_nuevo['tot_horas'] + (df_nuevo['tot_minutos']/60)\n"
     ]
    },
    {
     "data": {
      "text/html": [
       "<div>\n",
       "<style scoped>\n",
       "    .dataframe tbody tr th:only-of-type {\n",
       "        vertical-align: middle;\n",
       "    }\n",
       "\n",
       "    .dataframe tbody tr th {\n",
       "        vertical-align: top;\n",
       "    }\n",
       "\n",
       "    .dataframe thead th {\n",
       "        text-align: right;\n",
       "    }\n",
       "</style>\n",
       "<table border=\"1\" class=\"dataframe\">\n",
       "  <thead>\n",
       "    <tr style=\"text-align: right;\">\n",
       "      <th></th>\n",
       "      <th>EDAD_V</th>\n",
       "      <th>SEXO</th>\n",
       "      <th>NIV</th>\n",
       "      <th>P5_1</th>\n",
       "      <th>P5_3_1</th>\n",
       "      <th>P5_3_2</th>\n",
       "      <th>P5_3_3</th>\n",
       "      <th>P5_3_4</th>\n",
       "      <th>P5_6_6</th>\n",
       "      <th>P5_7</th>\n",
       "      <th>P5_7A</th>\n",
       "      <th>tot_horas</th>\n",
       "      <th>tot_minutos</th>\n",
       "    </tr>\n",
       "  </thead>\n",
       "  <tbody>\n",
       "    <tr>\n",
       "      <th>0</th>\n",
       "      <td>88</td>\n",
       "      <td>2</td>\n",
       "      <td>2</td>\n",
       "      <td>2</td>\n",
       "      <td>0</td>\n",
       "      <td>0</td>\n",
       "      <td>0</td>\n",
       "      <td>0</td>\n",
       "      <td>NaN</td>\n",
       "      <td>-1.0</td>\n",
       "      <td>-1</td>\n",
       "      <td>0.0</td>\n",
       "      <td>0</td>\n",
       "    </tr>\n",
       "    <tr>\n",
       "      <th>1</th>\n",
       "      <td>64</td>\n",
       "      <td>2</td>\n",
       "      <td>2</td>\n",
       "      <td>2</td>\n",
       "      <td>0</td>\n",
       "      <td>0</td>\n",
       "      <td>0</td>\n",
       "      <td>0</td>\n",
       "      <td>NaN</td>\n",
       "      <td>-1.0</td>\n",
       "      <td>-1</td>\n",
       "      <td>0.0</td>\n",
       "      <td>0</td>\n",
       "    </tr>\n",
       "    <tr>\n",
       "      <th>2</th>\n",
       "      <td>30</td>\n",
       "      <td>1</td>\n",
       "      <td>6</td>\n",
       "      <td>1</td>\n",
       "      <td>40</td>\n",
       "      <td>0</td>\n",
       "      <td>20</td>\n",
       "      <td>0</td>\n",
       "      <td>1.0</td>\n",
       "      <td>8300.0</td>\n",
       "      <td>3</td>\n",
       "      <td>60.0</td>\n",
       "      <td>0</td>\n",
       "    </tr>\n",
       "    <tr>\n",
       "      <th>3</th>\n",
       "      <td>25</td>\n",
       "      <td>1</td>\n",
       "      <td>3</td>\n",
       "      <td>1</td>\n",
       "      <td>55</td>\n",
       "      <td>0</td>\n",
       "      <td>0</td>\n",
       "      <td>0</td>\n",
       "      <td>1.0</td>\n",
       "      <td>4000.0</td>\n",
       "      <td>2</td>\n",
       "      <td>55.0</td>\n",
       "      <td>0</td>\n",
       "    </tr>\n",
       "    <tr>\n",
       "      <th>4</th>\n",
       "      <td>22</td>\n",
       "      <td>2</td>\n",
       "      <td>8</td>\n",
       "      <td>1</td>\n",
       "      <td>22</td>\n",
       "      <td>0</td>\n",
       "      <td>18</td>\n",
       "      <td>0</td>\n",
       "      <td>1.0</td>\n",
       "      <td>99999.0</td>\n",
       "      <td>-1</td>\n",
       "      <td>40.0</td>\n",
       "      <td>0</td>\n",
       "    </tr>\n",
       "    <tr>\n",
       "      <th>...</th>\n",
       "      <td>...</td>\n",
       "      <td>...</td>\n",
       "      <td>...</td>\n",
       "      <td>...</td>\n",
       "      <td>...</td>\n",
       "      <td>...</td>\n",
       "      <td>...</td>\n",
       "      <td>...</td>\n",
       "      <td>...</td>\n",
       "      <td>...</td>\n",
       "      <td>...</td>\n",
       "      <td>...</td>\n",
       "      <td>...</td>\n",
       "    </tr>\n",
       "    <tr>\n",
       "      <th>71399</th>\n",
       "      <td>54</td>\n",
       "      <td>2</td>\n",
       "      <td>2</td>\n",
       "      <td>2</td>\n",
       "      <td>0</td>\n",
       "      <td>0</td>\n",
       "      <td>0</td>\n",
       "      <td>0</td>\n",
       "      <td>NaN</td>\n",
       "      <td>-1.0</td>\n",
       "      <td>-1</td>\n",
       "      <td>0.0</td>\n",
       "      <td>0</td>\n",
       "    </tr>\n",
       "    <tr>\n",
       "      <th>71400</th>\n",
       "      <td>31</td>\n",
       "      <td>1</td>\n",
       "      <td>8</td>\n",
       "      <td>1</td>\n",
       "      <td>60</td>\n",
       "      <td>0</td>\n",
       "      <td>24</td>\n",
       "      <td>0</td>\n",
       "      <td>1.0</td>\n",
       "      <td>15000.0</td>\n",
       "      <td>3</td>\n",
       "      <td>84.0</td>\n",
       "      <td>0</td>\n",
       "    </tr>\n",
       "    <tr>\n",
       "      <th>71401</th>\n",
       "      <td>23</td>\n",
       "      <td>2</td>\n",
       "      <td>6</td>\n",
       "      <td>1</td>\n",
       "      <td>40</td>\n",
       "      <td>0</td>\n",
       "      <td>8</td>\n",
       "      <td>0</td>\n",
       "      <td>2.0</td>\n",
       "      <td>2400.0</td>\n",
       "      <td>1</td>\n",
       "      <td>48.0</td>\n",
       "      <td>0</td>\n",
       "    </tr>\n",
       "    <tr>\n",
       "      <th>71402</th>\n",
       "      <td>27</td>\n",
       "      <td>1</td>\n",
       "      <td>6</td>\n",
       "      <td>1</td>\n",
       "      <td>30</td>\n",
       "      <td>0</td>\n",
       "      <td>5</td>\n",
       "      <td>0</td>\n",
       "      <td>2.0</td>\n",
       "      <td>1800.0</td>\n",
       "      <td>1</td>\n",
       "      <td>35.0</td>\n",
       "      <td>0</td>\n",
       "    </tr>\n",
       "    <tr>\n",
       "      <th>71403</th>\n",
       "      <td>29</td>\n",
       "      <td>2</td>\n",
       "      <td>6</td>\n",
       "      <td>1</td>\n",
       "      <td>15</td>\n",
       "      <td>0</td>\n",
       "      <td>0</td>\n",
       "      <td>0</td>\n",
       "      <td>1.0</td>\n",
       "      <td>3600.0</td>\n",
       "      <td>3</td>\n",
       "      <td>15.0</td>\n",
       "      <td>0</td>\n",
       "    </tr>\n",
       "  </tbody>\n",
       "</table>\n",
       "<p>71404 rows × 13 columns</p>\n",
       "</div>"
      ],
      "text/plain": [
       "       EDAD_V  SEXO  NIV  P5_1  P5_3_1  P5_3_2  P5_3_3  P5_3_4  P5_6_6  \\\n",
       "0          88     2    2     2       0       0       0       0     NaN   \n",
       "1          64     2    2     2       0       0       0       0     NaN   \n",
       "2          30     1    6     1      40       0      20       0     1.0   \n",
       "3          25     1    3     1      55       0       0       0     1.0   \n",
       "4          22     2    8     1      22       0      18       0     1.0   \n",
       "...       ...   ...  ...   ...     ...     ...     ...     ...     ...   \n",
       "71399      54     2    2     2       0       0       0       0     NaN   \n",
       "71400      31     1    8     1      60       0      24       0     1.0   \n",
       "71401      23     2    6     1      40       0       8       0     2.0   \n",
       "71402      27     1    6     1      30       0       5       0     2.0   \n",
       "71403      29     2    6     1      15       0       0       0     1.0   \n",
       "\n",
       "          P5_7  P5_7A  tot_horas  tot_minutos  \n",
       "0         -1.0     -1        0.0            0  \n",
       "1         -1.0     -1        0.0            0  \n",
       "2       8300.0      3       60.0            0  \n",
       "3       4000.0      2       55.0            0  \n",
       "4      99999.0     -1       40.0            0  \n",
       "...        ...    ...        ...          ...  \n",
       "71399     -1.0     -1        0.0            0  \n",
       "71400  15000.0      3       84.0            0  \n",
       "71401   2400.0      1       48.0            0  \n",
       "71402   1800.0      1       35.0            0  \n",
       "71403   3600.0      3       15.0            0  \n",
       "\n",
       "[71404 rows x 13 columns]"
      ]
     },
     "execution_count": 3,
     "metadata": {},
     "output_type": "execute_result"
    }
   ],
   "source": [
    "df_nuevo['P5_3_1'] = df_nuevo['P5_3_1'].replace({np.nan: '0'})\n",
    "df_nuevo['P5_3_2'] = df_nuevo['P5_3_2'].replace({np.nan: '0'})\n",
    "df_nuevo['P5_3_3'] = df_nuevo['P5_3_3'].replace({np.nan: '0'})\n",
    "df_nuevo['P5_3_4'] = df_nuevo['P5_3_4'].replace({np.nan: '0'})\n",
    "df_nuevo['P5_7'] = df_nuevo['P5_7'].replace({np.nan: '-1'})\n",
    "df_nuevo['P5_7A'] = df_nuevo['P5_7A'].replace({np.nan: '-1'})\n",
    "df_nuevo['P5_3_1'] = df_nuevo['P5_3_1'].astype(int)\n",
    "df_nuevo['P5_3_2'] = df_nuevo['P5_3_2'].astype(int)\n",
    "df_nuevo['P5_3_3'] = df_nuevo['P5_3_3'].astype(int)\n",
    "df_nuevo['P5_3_4'] = df_nuevo['P5_3_4'].astype(int)\n",
    "df_nuevo['P5_7'] = df_nuevo['P5_7'].astype(float)\n",
    "df_nuevo['P5_7A'] = df_nuevo['P5_7A'].astype(int)\n",
    "df_nuevo['tot_horas'] = df_nuevo['P5_3_1'] + df_nuevo['P5_3_3']\n",
    "df_nuevo['tot_minutos'] = df_nuevo['P5_3_2'] + df_nuevo['P5_3_4']\n",
    "df_nuevo['tot_horas'] = df_nuevo['tot_horas'] + (df_nuevo['tot_minutos']/60)\n",
    "df_nuevo"
   ]
  },
  {
   "cell_type": "code",
   "execution_count": 4,
   "id": "d50a0226",
   "metadata": {},
   "outputs": [
    {
     "data": {
      "text/html": [
       "<div>\n",
       "<style scoped>\n",
       "    .dataframe tbody tr th:only-of-type {\n",
       "        vertical-align: middle;\n",
       "    }\n",
       "\n",
       "    .dataframe tbody tr th {\n",
       "        vertical-align: top;\n",
       "    }\n",
       "\n",
       "    .dataframe thead th {\n",
       "        text-align: right;\n",
       "    }\n",
       "</style>\n",
       "<table border=\"1\" class=\"dataframe\">\n",
       "  <thead>\n",
       "    <tr style=\"text-align: right;\">\n",
       "      <th></th>\n",
       "      <th>EDAD_V</th>\n",
       "      <th>SEXO</th>\n",
       "      <th>NIV</th>\n",
       "      <th>P5_1</th>\n",
       "      <th>P5_3_1</th>\n",
       "      <th>P5_3_2</th>\n",
       "      <th>P5_3_3</th>\n",
       "      <th>P5_3_4</th>\n",
       "      <th>P5_6_6</th>\n",
       "      <th>P5_7</th>\n",
       "      <th>P5_7A</th>\n",
       "      <th>tot_horas</th>\n",
       "      <th>tot_minutos</th>\n",
       "    </tr>\n",
       "  </thead>\n",
       "  <tbody>\n",
       "    <tr>\n",
       "      <th>2</th>\n",
       "      <td>30</td>\n",
       "      <td>1</td>\n",
       "      <td>6</td>\n",
       "      <td>1</td>\n",
       "      <td>40</td>\n",
       "      <td>0</td>\n",
       "      <td>20</td>\n",
       "      <td>0</td>\n",
       "      <td>1.0</td>\n",
       "      <td>8300.0</td>\n",
       "      <td>3</td>\n",
       "      <td>60.0</td>\n",
       "      <td>0</td>\n",
       "    </tr>\n",
       "    <tr>\n",
       "      <th>3</th>\n",
       "      <td>25</td>\n",
       "      <td>1</td>\n",
       "      <td>3</td>\n",
       "      <td>1</td>\n",
       "      <td>55</td>\n",
       "      <td>0</td>\n",
       "      <td>0</td>\n",
       "      <td>0</td>\n",
       "      <td>1.0</td>\n",
       "      <td>4000.0</td>\n",
       "      <td>2</td>\n",
       "      <td>55.0</td>\n",
       "      <td>0</td>\n",
       "    </tr>\n",
       "    <tr>\n",
       "      <th>5</th>\n",
       "      <td>48</td>\n",
       "      <td>2</td>\n",
       "      <td>7</td>\n",
       "      <td>1</td>\n",
       "      <td>40</td>\n",
       "      <td>0</td>\n",
       "      <td>5</td>\n",
       "      <td>0</td>\n",
       "      <td>2.0</td>\n",
       "      <td>6000.0</td>\n",
       "      <td>3</td>\n",
       "      <td>45.0</td>\n",
       "      <td>0</td>\n",
       "    </tr>\n",
       "    <tr>\n",
       "      <th>6</th>\n",
       "      <td>26</td>\n",
       "      <td>1</td>\n",
       "      <td>8</td>\n",
       "      <td>1</td>\n",
       "      <td>40</td>\n",
       "      <td>0</td>\n",
       "      <td>0</td>\n",
       "      <td>0</td>\n",
       "      <td>2.0</td>\n",
       "      <td>8000.0</td>\n",
       "      <td>3</td>\n",
       "      <td>40.0</td>\n",
       "      <td>0</td>\n",
       "    </tr>\n",
       "    <tr>\n",
       "      <th>9</th>\n",
       "      <td>50</td>\n",
       "      <td>1</td>\n",
       "      <td>2</td>\n",
       "      <td>1</td>\n",
       "      <td>55</td>\n",
       "      <td>0</td>\n",
       "      <td>0</td>\n",
       "      <td>0</td>\n",
       "      <td>2.0</td>\n",
       "      <td>900.0</td>\n",
       "      <td>1</td>\n",
       "      <td>55.0</td>\n",
       "      <td>0</td>\n",
       "    </tr>\n",
       "    <tr>\n",
       "      <th>...</th>\n",
       "      <td>...</td>\n",
       "      <td>...</td>\n",
       "      <td>...</td>\n",
       "      <td>...</td>\n",
       "      <td>...</td>\n",
       "      <td>...</td>\n",
       "      <td>...</td>\n",
       "      <td>...</td>\n",
       "      <td>...</td>\n",
       "      <td>...</td>\n",
       "      <td>...</td>\n",
       "      <td>...</td>\n",
       "      <td>...</td>\n",
       "    </tr>\n",
       "    <tr>\n",
       "      <th>71397</th>\n",
       "      <td>44</td>\n",
       "      <td>2</td>\n",
       "      <td>3</td>\n",
       "      <td>1</td>\n",
       "      <td>25</td>\n",
       "      <td>0</td>\n",
       "      <td>0</td>\n",
       "      <td>0</td>\n",
       "      <td>2.0</td>\n",
       "      <td>400.0</td>\n",
       "      <td>1</td>\n",
       "      <td>25.0</td>\n",
       "      <td>0</td>\n",
       "    </tr>\n",
       "    <tr>\n",
       "      <th>71400</th>\n",
       "      <td>31</td>\n",
       "      <td>1</td>\n",
       "      <td>8</td>\n",
       "      <td>1</td>\n",
       "      <td>60</td>\n",
       "      <td>0</td>\n",
       "      <td>24</td>\n",
       "      <td>0</td>\n",
       "      <td>1.0</td>\n",
       "      <td>15000.0</td>\n",
       "      <td>3</td>\n",
       "      <td>84.0</td>\n",
       "      <td>0</td>\n",
       "    </tr>\n",
       "    <tr>\n",
       "      <th>71401</th>\n",
       "      <td>23</td>\n",
       "      <td>2</td>\n",
       "      <td>6</td>\n",
       "      <td>1</td>\n",
       "      <td>40</td>\n",
       "      <td>0</td>\n",
       "      <td>8</td>\n",
       "      <td>0</td>\n",
       "      <td>2.0</td>\n",
       "      <td>2400.0</td>\n",
       "      <td>1</td>\n",
       "      <td>48.0</td>\n",
       "      <td>0</td>\n",
       "    </tr>\n",
       "    <tr>\n",
       "      <th>71402</th>\n",
       "      <td>27</td>\n",
       "      <td>1</td>\n",
       "      <td>6</td>\n",
       "      <td>1</td>\n",
       "      <td>30</td>\n",
       "      <td>0</td>\n",
       "      <td>5</td>\n",
       "      <td>0</td>\n",
       "      <td>2.0</td>\n",
       "      <td>1800.0</td>\n",
       "      <td>1</td>\n",
       "      <td>35.0</td>\n",
       "      <td>0</td>\n",
       "    </tr>\n",
       "    <tr>\n",
       "      <th>71403</th>\n",
       "      <td>29</td>\n",
       "      <td>2</td>\n",
       "      <td>6</td>\n",
       "      <td>1</td>\n",
       "      <td>15</td>\n",
       "      <td>0</td>\n",
       "      <td>0</td>\n",
       "      <td>0</td>\n",
       "      <td>1.0</td>\n",
       "      <td>3600.0</td>\n",
       "      <td>3</td>\n",
       "      <td>15.0</td>\n",
       "      <td>0</td>\n",
       "    </tr>\n",
       "  </tbody>\n",
       "</table>\n",
       "<p>36175 rows × 13 columns</p>\n",
       "</div>"
      ],
      "text/plain": [
       "       EDAD_V  SEXO  NIV  P5_1  P5_3_1  P5_3_2  P5_3_3  P5_3_4  P5_6_6  \\\n",
       "2          30     1    6     1      40       0      20       0     1.0   \n",
       "3          25     1    3     1      55       0       0       0     1.0   \n",
       "5          48     2    7     1      40       0       5       0     2.0   \n",
       "6          26     1    8     1      40       0       0       0     2.0   \n",
       "9          50     1    2     1      55       0       0       0     2.0   \n",
       "...       ...   ...  ...   ...     ...     ...     ...     ...     ...   \n",
       "71397      44     2    3     1      25       0       0       0     2.0   \n",
       "71400      31     1    8     1      60       0      24       0     1.0   \n",
       "71401      23     2    6     1      40       0       8       0     2.0   \n",
       "71402      27     1    6     1      30       0       5       0     2.0   \n",
       "71403      29     2    6     1      15       0       0       0     1.0   \n",
       "\n",
       "          P5_7  P5_7A  tot_horas  tot_minutos  \n",
       "2       8300.0      3       60.0            0  \n",
       "3       4000.0      2       55.0            0  \n",
       "5       6000.0      3       45.0            0  \n",
       "6       8000.0      3       40.0            0  \n",
       "9        900.0      1       55.0            0  \n",
       "...        ...    ...        ...          ...  \n",
       "71397    400.0      1       25.0            0  \n",
       "71400  15000.0      3       84.0            0  \n",
       "71401   2400.0      1       48.0            0  \n",
       "71402   1800.0      1       35.0            0  \n",
       "71403   3600.0      3       15.0            0  \n",
       "\n",
       "[36175 rows x 13 columns]"
      ]
     },
     "execution_count": 4,
     "metadata": {},
     "output_type": "execute_result"
    }
   ],
   "source": [
    "df_nuevo = df_nuevo.loc[df_nuevo['P5_7'] > 0]\n",
    "df_nuevo = df_nuevo.loc[df_nuevo['P5_7A'] > 0]\n",
    "df_nuevo = df_nuevo.loc[df_nuevo['EDAD_V'] >= 15]\n",
    "df_nuevo = df_nuevo.loc[df_nuevo['P5_1'] == 1]\n",
    "df_nuevo"
   ]
  },
  {
   "cell_type": "code",
   "execution_count": 5,
   "id": "b6a9d7e9",
   "metadata": {},
   "outputs": [],
   "source": [
    "def agregaColFrecPago(df):\n",
    "    res = []\n",
    "    for x in df:\n",
    "        if x == 1:\n",
    "            res.append(48)\n",
    "        else:\n",
    "            if x == 2:\n",
    "                res.append(21)\n",
    "            else:\n",
    "                if x == 3:\n",
    "                    res.append(10)\n",
    "                else:\n",
    "                    res.append(1)\n",
    "    \n",
    "    return res\n",
    "x = agregaColFrecPago(df_nuevo['P5_7A'])\n",
    "df_nuevo['semanal'] = ((x * df_nuevo['P5_7'])/48)\n",
    "df_nuevo['ganancia_hora'] = df_nuevo['semanal']/df_nuevo['tot_horas']\n",
    "df_nuevo = df_nuevo.loc[df_nuevo['ganancia_hora'] <= 150]\n",
    "df_nuevo = df_nuevo.loc[df_nuevo['tot_horas'] <= 70]"
   ]
  },
  {
   "cell_type": "code",
   "execution_count": 6,
   "id": "8eacc937",
   "metadata": {},
   "outputs": [],
   "source": [
    "def grupos(df,minimo,maximo,num_grupos):\n",
    "    minimo = minimo - 1\n",
    "    dif = maximo - minimo\n",
    "    tam_grupo = dif/num_grupos\n",
    "    res = []\n",
    "    for x in df:\n",
    "        y = x - minimo\n",
    "        y = int(y/tam_grupo)\n",
    "        res.append(y)\n",
    "    return res\n",
    "def imprimeGrupo(minimo,maximo,num_grupos):\n",
    "    minimo = minimo - 1\n",
    "    dif = maximo - minimo\n",
    "    tam_grupo = dif/num_grupos\n",
    "    for i in range(num_grupos):\n",
    "        st = 'grupo '\n",
    "        x = minimo + i * tam_grupo\n",
    "        y = minimo + (i + 1) * tam_grupo\n",
    "        print('grupo ' + str(i) + ': (' + str(x) + ',' + str(y) +']')"
   ]
  },
  {
   "cell_type": "markdown",
   "id": "5e7bf3a5",
   "metadata": {},
   "source": [
    "Separar la poblacion en niveles educativos (NIV) \n",
    "0 es sin educación\n",
    "1-3 básica\n",
    "4-6 media\n",
    "7-8 superior"
   ]
  },
  {
   "cell_type": "code",
   "execution_count": 7,
   "id": "f25743c5",
   "metadata": {},
   "outputs": [
    {
     "name": "stdout",
     "output_type": "stream",
     "text": [
      "grupos de horas\n",
      "grupo 0: (0.0,4.666666666666667]\n",
      "grupo 1: (4.666666666666667,9.333333333333334]\n",
      "grupo 2: (9.333333333333334,14.0]\n",
      "grupo 3: (14.0,18.666666666666668]\n",
      "grupo 4: (18.666666666666668,23.333333333333336]\n",
      "grupo 5: (23.333333333333336,28.0]\n",
      "grupo 6: (28.0,32.66666666666667]\n",
      "grupo 7: (32.66666666666667,37.333333333333336]\n",
      "grupo 8: (37.333333333333336,42.0]\n",
      "grupo 9: (42.0,46.66666666666667]\n",
      "grupo 10: (46.66666666666667,51.333333333333336]\n",
      "grupo 11: (51.333333333333336,56.0]\n",
      "grupo 12: (56.0,60.66666666666667]\n",
      "grupo 13: (60.66666666666667,65.33333333333334]\n",
      "grupo 14: (65.33333333333334,70.0]\n",
      "-------------------------------------------------------------------\n",
      "grupos de ganacia por hora\n",
      "grupo 0: (-0.9479166666666666,6.599479166666666]\n",
      "grupo 1: (6.599479166666666,14.146875]\n",
      "grupo 2: (14.146875,21.69427083333333]\n",
      "grupo 3: (21.69427083333333,29.241666666666664]\n",
      "grupo 4: (29.241666666666664,36.7890625]\n",
      "grupo 5: (36.7890625,44.33645833333333]\n",
      "grupo 6: (44.33645833333333,51.883854166666666]\n",
      "grupo 7: (51.883854166666666,59.43125]\n",
      "grupo 8: (59.43125,66.97864583333332]\n",
      "grupo 9: (66.97864583333332,74.52604166666666]\n",
      "grupo 10: (74.52604166666666,82.0734375]\n",
      "grupo 11: (82.0734375,89.62083333333332]\n",
      "grupo 12: (89.62083333333332,97.16822916666665]\n",
      "grupo 13: (97.16822916666665,104.71562499999999]\n",
      "grupo 14: (104.71562499999999,112.26302083333333]\n",
      "grupo 15: (112.26302083333333,119.81041666666665]\n",
      "grupo 16: (119.81041666666665,127.35781249999998]\n",
      "grupo 17: (127.35781249999998,134.90520833333332]\n",
      "grupo 18: (134.90520833333332,142.45260416666667]\n",
      "grupo 19: (142.45260416666667,150.0]\n"
     ]
    }
   ],
   "source": [
    "minimo = min(df_nuevo['tot_horas'])\n",
    "maximo = max(df_nuevo['tot_horas'])\n",
    "num_grupo = 15\n",
    "df_nuevo['grupo_horas'] = grupos(df_nuevo['tot_horas'],minimo,maximo,num_grupo)\n",
    "print('grupos de horas')\n",
    "imprimeGrupo(minimo,maximo,num_grupo)\n",
    "print('-------------------------------------------------------------------')\n",
    "minimo = min(df_nuevo['ganancia_hora'])\n",
    "maximo = max(df_nuevo['ganancia_hora'])\n",
    "num_grupo = 20\n",
    "df_nuevo['grupo_ganancia_hora'] = grupos(df_nuevo['ganancia_hora'],minimo,maximo,num_grupo)\n",
    "print('grupos de ganacia por hora')\n",
    "imprimeGrupo(minimo,maximo,num_grupo)\n",
    "df_nula = df_nuevo.loc[df_nuevo['NIV'] == 0]\n",
    "df_basica = df_nuevo.loc[df_nuevo['NIV'] > 0]\n",
    "df_basica = df_basica.loc[df_basica['NIV'] < 4]\n",
    "df_media = df_nuevo.loc[df_nuevo['NIV'] > 3]\n",
    "df_media = df_media.loc[df_media['NIV'] < 7]\n",
    "df_superior = df_nuevo.loc[df_nuevo['NIV'] > 6]"
   ]
  },
  {
   "cell_type": "code",
   "execution_count": 8,
   "id": "bfd15147",
   "metadata": {},
   "outputs": [
    {
     "data": {
      "image/png": "[encoded data removed]",
      "text/plain": [
       "<Figure size 1080x1080 with 1 Axes>"
      ]
     },
     "metadata": {},
     "output_type": "display_data"
    }
   ],
   "source": [
    "tot_muestra = len(df_nuevo)\n",
    "tot_nula = len(df_nula)\n",
    "tot_basica = len(df_basica)\n",
    "tot_media = len(df_media)\n",
    "tot_superior = len(df_superior)\n",
    "\n",
    "arr_pie = [tot_nula/tot_muestra,tot_basica/tot_muestra,tot_media/tot_muestra,tot_superior/tot_muestra]\n",
    "mylabels = ['Nula','Básica','Media','Superior']\n",
    "plt.figure(figsize=(15,15))\n",
    "plt.title(\"Personas trabajando en mercado formal e informal en 2019,\\n por niveles de escolaridad \")\n",
    "plt.pie(arr_pie,labels = mylabels, autopct='%1.1f%%')\n",
    "plt.show()"
   ]
  },
  {
   "cell_type": "code",
   "execution_count": 9,
   "id": "6ba271de",
   "metadata": {},
   "outputs": [
    {
     "data": {
      "text/plain": [
       "<BarContainer object of 15 artists>"
      ]
     },
     "execution_count": 9,
     "metadata": {},
     "output_type": "execute_result"
    },
    {
     "data": {
      "image/png": "[encoded data removed]",
      "text/plain": [
       "<Figure size 432x288 with 1 Axes>"
      ]
     },
     "metadata": {
      "needs_background": "light"
     },
     "output_type": "display_data"
    }
   ],
   "source": [
    "y = df_nula['grupo_horas'].value_counts()\n",
    "x = y.keys()      \n",
    "y = y.values\n",
    "plt.bar(x,y)"
   ]
  },
  {
   "cell_type": "code",
   "execution_count": 10,
   "id": "fc8693d6",
   "metadata": {},
   "outputs": [
    {
     "data": {
      "text/plain": [
       "<BarContainer object of 20 artists>"
      ]
     },
     "execution_count": 10,
     "metadata": {},
     "output_type": "execute_result"
    },
    {
     "data": {
      "image/png": "[encoded data removed]",
      "text/plain": [
       "<Figure size 432x288 with 1 Axes>"
      ]
     },
     "metadata": {
      "needs_background": "light"
     },
     "output_type": "display_data"
    }
   ],
   "source": [
    "y = df_nula['grupo_ganancia_hora'].value_counts()\n",
    "x = y.keys()      \n",
    "y = y.values\n",
    "plt.bar(x,y)"
   ]
  },
  {
   "cell_type": "code",
   "execution_count": 11,
   "id": "c14b86ff",
   "metadata": {},
   "outputs": [
    {
     "data": {
      "text/plain": [
       "<BarContainer object of 15 artists>"
      ]
     },
     "execution_count": 11,
     "metadata": {},
     "output_type": "execute_result"
    },
    {
     "data": {
      "image/png": "[encoded data removed]",
      "text/plain": [
       "<Figure size 432x288 with 1 Axes>"
      ]
     },
     "metadata": {
      "needs_background": "light"
     },
     "output_type": "display_data"
    }
   ],
   "source": [
    "y = df_basica['grupo_horas'].value_counts()\n",
    "x = y.keys()      \n",
    "y = y.values\n",
    "plt.bar(x,y)"
   ]
  },
  {
   "cell_type": "code",
   "execution_count": 12,
   "id": "e50b0164",
   "metadata": {},
   "outputs": [
    {
     "data": {
      "text/plain": [
       "<BarContainer object of 21 artists>"
      ]
     },
     "execution_count": 12,
     "metadata": {},
     "output_type": "execute_result"
    },
    {
     "data": {
      "image/png": "[encoded data removed]",
      "text/plain": [
       "<Figure size 432x288 with 1 Axes>"
      ]
     },
     "metadata": {
      "needs_background": "light"
     },
     "output_type": "display_data"
    }
   ],
   "source": [
    "y = df_basica['grupo_ganancia_hora'].value_counts()\n",
    "x = y.keys()      \n",
    "y = y.values\n",
    "plt.bar(x,y)"
   ]
  },
  {
   "cell_type": "code",
   "execution_count": 13,
   "id": "b095e4be",
   "metadata": {},
   "outputs": [
    {
     "data": {
      "text/plain": [
       "<BarContainer object of 15 artists>"
      ]
     },
     "execution_count": 13,
     "metadata": {},
     "output_type": "execute_result"
    },
    {
     "data": {
      "image/png": "[encoded data removed]",
      "text/plain": [
       "<Figure size 432x288 with 1 Axes>"
      ]
     },
     "metadata": {
      "needs_background": "light"
     },
     "output_type": "display_data"
    }
   ],
   "source": [
    "y = df_media['grupo_horas'].value_counts()\n",
    "x = y.keys()      \n",
    "y = y.values\n",
    "plt.bar(x,y)"
   ]
  },
  {
   "cell_type": "code",
   "execution_count": 14,
   "id": "7e667961",
   "metadata": {},
   "outputs": [
    {
     "data": {
      "text/plain": [
       "<BarContainer object of 21 artists>"
      ]
     },
     "execution_count": 14,
     "metadata": {},
     "output_type": "execute_result"
    },
    {
     "data": {
      "image/png": "[encoded data removed]",
      "text/plain": [
       "<Figure size 432x288 with 1 Axes>"
      ]
     },
     "metadata": {
      "needs_background": "light"
     },
     "output_type": "display_data"
    }
   ],
   "source": [
    "y = df_media['grupo_ganancia_hora'].value_counts()\n",
    "x = y.keys()      \n",
    "y = y.values\n",
    "plt.bar(x,y)"
   ]
  },
  {
   "cell_type": "code",
   "execution_count": 15,
   "id": "09b56980",
   "metadata": {},
   "outputs": [
    {
     "data": {
      "text/plain": [
       "<BarContainer object of 15 artists>"
      ]
     },
     "execution_count": 15,
     "metadata": {},
     "output_type": "execute_result"
    },
    {
     "data": {
      "image/png": "[encoded data removed]",
      "text/plain": [
       "<Figure size 432x288 with 1 Axes>"
      ]
     },
     "metadata": {
      "needs_background": "light"
     },
     "output_type": "display_data"
    }
   ],
   "source": [
    "y = df_superior['grupo_horas'].value_counts()\n",
    "x = y.keys()      \n",
    "y = y.values\n",
    "plt.bar(x,y)"
   ]
  },
  {
   "cell_type": "code",
   "execution_count": 16,
   "id": "9a67aa8e",
   "metadata": {},
   "outputs": [
    {
     "data": {
      "text/plain": [
       "<BarContainer object of 21 artists>"
      ]
     },
     "execution_count": 16,
     "metadata": {},
     "output_type": "execute_result"
    },
    {
     "data": {
      "image/png": "[encoded data removed]",
      "text/plain": [
       "<Figure size 432x288 with 1 Axes>"
      ]
     },
     "metadata": {
      "needs_background": "light"
     },
     "output_type": "display_data"
    }
   ],
   "source": [
    "y = df_superior['grupo_ganancia_hora'].value_counts()\n",
    "x = y.keys()      \n",
    "y = y.values\n",
    "plt.bar(x,y)"
   ]
  },
  {
   "cell_type": "code",
   "execution_count": 17,
   "id": "a0551f54",
   "metadata": {},
   "outputs": [],
   "source": [
    "def s2df(df):\n",
    "    \n",
    "    n = len(df)\n",
    "    media = np.mean(df)\n",
    "    s2 = y - media\n",
    "    s2 = np.dot(s2,s2)\n",
    "    s2 = s2 / (n-1)\n",
    "    \n",
    "    return s2"
   ]
  },
  {
   "cell_type": "code",
   "execution_count": 18,
   "id": "d0963a15",
   "metadata": {},
   "outputs": [],
   "source": [
    "def intervaloDeConfVarDesc(df,alfa):\n",
    "    \n",
    "    res = []\n",
    "    n = len(df)\n",
    "    grados_de_libertad = n - 1\n",
    "    media = np.mean(df)\n",
    "    s2 = s2df(df)\n",
    "    res_t = t.ppf(1-alfa/2, df=grados_de_libertad)\n",
    "    sn = s2 / n\n",
    "    sn = pow(sn,1/2)\n",
    "    res.append((media - sn * res_t))\n",
    "    res.append((media + sn * res_t))\n",
    "    \n",
    "    return res\n",
    "\n",
    "def intervaloDeConfDifMedias(x,alfa):\n",
    "    \n",
    "    res = []\n",
    "    df_1 = x[0]\n",
    "    df_2 = x[1]\n",
    "    n1 = len(df_1)\n",
    "    n2 = len(df_2)\n",
    "    grados_de_libertad = n1 + n2 - 2\n",
    "    media1 = np.mean(df_1)\n",
    "    media2 = np.mean(df_2)\n",
    "    dif = media1 - media2\n",
    "    s21 = s2df(df_1)\n",
    "    s22 = s2df(df_2)\n",
    "    s2p = ((n1 * s21) + (n2 * s22))/grados_de_libertad\n",
    "    sp = pow(s2p,1/2)\n",
    "    rn = (1/n1) + (1/n2)\n",
    "    rn = pow(rn,1/2)\n",
    "    res_t = t.ppf(1-alfa/2, df=grados_de_libertad)\n",
    "    res.append((dif - res_t * sp * rn))\n",
    "    res.append((dif + res_t * sp * rn))\n",
    "    \n",
    "    return res"
   ]
  },
  {
   "cell_type": "code",
   "execution_count": 19,
   "id": "9dc69ff7",
   "metadata": {},
   "outputs": [],
   "source": [
    "def arrInterConfianza(metodo,arr,alfa):\n",
    "    res = []\n",
    "    for x in arr:\n",
    "        \n",
    "        res.append(metodo(x,alfa))\n",
    "        \n",
    "    return res"
   ]
  },
  {
   "cell_type": "code",
   "execution_count": 20,
   "id": "9591a508",
   "metadata": {},
   "outputs": [],
   "source": [
    "alfa = .05\n",
    "arr_horas = [df_nula['tot_horas'],df_basica['tot_horas'],df_media['tot_horas'],df_superior['tot_horas']]\n",
    "arr_pago_hora = [df_nula['ganancia_hora'],df_basica['ganancia_hora'],df_media['ganancia_hora'],df_superior['ganancia_hora']]\n",
    "arr_inter_horas = arrInterConfianza(intervaloDeConfVarDesc,arr_horas,alfa)\n",
    "arr_inter_pago_hora = arrInterConfianza(intervaloDeConfVarDesc,arr_pago_hora,alfa)"
   ]
  },
  {
   "cell_type": "code",
   "execution_count": 21,
   "id": "f53b9ff9",
   "metadata": {},
   "outputs": [
    {
     "data": {
      "text/plain": [
       "[[33.977423191647034, 42.26130229854904],\n",
       " [41.62041717336501, 42.111126563045744],\n",
       " [42.3267427260146, 43.33671773509293],\n",
       " [41.67727739290205, 42.716406724380256]]"
      ]
     },
     "execution_count": 21,
     "metadata": {},
     "output_type": "execute_result"
    }
   ],
   "source": [
    "arr_inter_horas"
   ]
  },
  {
   "cell_type": "code",
   "execution_count": 22,
   "id": "99b98199",
   "metadata": {},
   "outputs": [
    {
     "data": {
      "text/plain": [
       "[[21.603576369305898, 30.05869796884545],\n",
       " [32.44350728772123, 32.94177936339068],\n",
       " [36.421321590075166, 37.441287062817864],\n",
       " [54.17701797519903, 55.19469438641564]]"
      ]
     },
     "execution_count": 22,
     "metadata": {},
     "output_type": "execute_result"
    }
   ],
   "source": [
    "arr_inter_pago_hora"
   ]
  },
  {
   "cell_type": "markdown",
   "id": "323cbe43",
   "metadata": {},
   "source": [
    "Hombres vs mujeres"
   ]
  },
  {
   "cell_type": "code",
   "execution_count": 23,
   "id": "c38a6199",
   "metadata": {},
   "outputs": [
    {
     "data": {
      "image/png": "[encoded data removed]",
      "text/plain": [
       "<Figure size 1080x1080 with 1 Axes>"
      ]
     },
     "metadata": {},
     "output_type": "display_data"
    }
   ],
   "source": [
    "df_hombres = df_nuevo.loc[df_nuevo['SEXO'] == 1]\n",
    "df_mujeres = df_nuevo.loc[df_nuevo['SEXO'] == 2]\n",
    "tot_hombres = len(df_hombres)\n",
    "tot_mujeres = len(df_mujeres)\n",
    "arr_pie = [tot_hombres/tot_muestra,tot_mujeres/tot_muestra]\n",
    "mylabels = ['Hombres','Mujeres']\n",
    "\n",
    "plt.figure(figsize=(15,15))\n",
    "plt.title(\"Hombres vs mujeres \")\n",
    "plt.pie(arr_pie,labels = mylabels, autopct='%1.1f%%')\n",
    "plt.show()"
   ]
  },
  {
   "cell_type": "code",
   "execution_count": 24,
   "id": "a3bcdd34",
   "metadata": {},
   "outputs": [
    {
     "data": {
      "text/plain": [
       "<BarContainer object of 15 artists>"
      ]
     },
     "execution_count": 24,
     "metadata": {},
     "output_type": "execute_result"
    },
    {
     "data": {
      "image/png": "[encoded data removed]",
      "text/plain": [
       "<Figure size 432x288 with 1 Axes>"
      ]
     },
     "metadata": {
      "needs_background": "light"
     },
     "output_type": "display_data"
    }
   ],
   "source": [
    "y = df_hombres['grupo_horas'].value_counts()\n",
    "x = y.keys()      \n",
    "y = y.values\n",
    "plt.bar(x,y)"
   ]
  },
  {
   "cell_type": "code",
   "execution_count": 25,
   "id": "1c67c37b",
   "metadata": {},
   "outputs": [
    {
     "data": {
      "text/plain": [
       "<BarContainer object of 21 artists>"
      ]
     },
     "execution_count": 25,
     "metadata": {},
     "output_type": "execute_result"
    },
    {
     "data": {
      "image/png": "[encoded data removed]",
      "text/plain": [
       "<Figure size 432x288 with 1 Axes>"
      ]
     },
     "metadata": {
      "needs_background": "light"
     },
     "output_type": "display_data"
    }
   ],
   "source": [
    "y = df_hombres['grupo_ganancia_hora'].value_counts()\n",
    "x = y.keys()      \n",
    "y = y.values\n",
    "plt.bar(x,y)"
   ]
  },
  {
   "cell_type": "code",
   "execution_count": 26,
   "id": "e8753fd1",
   "metadata": {},
   "outputs": [
    {
     "data": {
      "text/plain": [
       "<BarContainer object of 15 artists>"
      ]
     },
     "execution_count": 26,
     "metadata": {},
     "output_type": "execute_result"
    },
    {
     "data": {
      "image/png": "[encoded data removed]",
      "text/plain": [
       "<Figure size 432x288 with 1 Axes>"
      ]
     },
     "metadata": {
      "needs_background": "light"
     },
     "output_type": "display_data"
    }
   ],
   "source": [
    "y = df_mujeres['grupo_horas'].value_counts()\n",
    "x = y.keys()      \n",
    "y = y.values\n",
    "plt.bar(x,y)"
   ]
  },
  {
   "cell_type": "code",
   "execution_count": 27,
   "id": "479b9fec",
   "metadata": {},
   "outputs": [
    {
     "data": {
      "text/plain": [
       "<BarContainer object of 21 artists>"
      ]
     },
     "execution_count": 27,
     "metadata": {},
     "output_type": "execute_result"
    },
    {
     "data": {
      "image/png": "[encoded data removed]",
      "text/plain": [
       "<Figure size 432x288 with 1 Axes>"
      ]
     },
     "metadata": {
      "needs_background": "light"
     },
     "output_type": "display_data"
    }
   ],
   "source": [
    "y = df_mujeres['grupo_ganancia_hora'].value_counts()\n",
    "x = y.keys()      \n",
    "y = y.values\n",
    "plt.bar(x,y)"
   ]
  },
  {
   "cell_type": "code",
   "execution_count": 28,
   "id": "c9488f00",
   "metadata": {},
   "outputs": [],
   "source": [
    "alfa = .05\n",
    "arr_horas = [df_hombres['tot_horas'],df_mujeres['tot_horas']]\n",
    "arr_pago_hora = [df_hombres['ganancia_hora'],df_mujeres['ganancia_hora']]\n",
    "arr_inter_horas = arrInterConfianza(intervaloDeConfVarDesc,arr_horas,alfa)\n",
    "arr_inter_pago_hora = arrInterConfianza(intervaloDeConfVarDesc,arr_pago_hora,alfa)"
   ]
  },
  {
   "cell_type": "code",
   "execution_count": 29,
   "id": "27bda6b8",
   "metadata": {},
   "outputs": [
    {
     "data": {
      "text/plain": [
       "[[44.70340811830236, 45.67804981084906],\n",
       " [37.13199633465958, 38.46762134051135]]"
      ]
     },
     "execution_count": 29,
     "metadata": {},
     "output_type": "execute_result"
    }
   ],
   "source": [
    "arr_inter_horas"
   ]
  },
  {
   "cell_type": "code",
   "execution_count": 30,
   "id": "bdafd418",
   "metadata": {},
   "outputs": [
    {
     "data": {
      "text/plain": [
       "[[38.73038431949792, 39.70849676638145],\n",
       " [37.22033395911247, 38.555888617852766]]"
      ]
     },
     "execution_count": 30,
     "metadata": {},
     "output_type": "execute_result"
    }
   ],
   "source": [
    "arr_inter_pago_hora"
   ]
  },
  {
   "cell_type": "code",
   "execution_count": 31,
   "id": "d60d1fab",
   "metadata": {},
   "outputs": [
    {
     "data": {
      "text/plain": [
       "[6.584152913868309, 8.197687340112182]"
      ]
     },
     "execution_count": 31,
     "metadata": {},
     "output_type": "execute_result"
    }
   ],
   "source": [
    "x = [df_hombres['tot_horas'],df_mujeres['tot_horas']]\n",
    "dif_media_horas = intervaloDeConfDifMedias(x,alfa)\n",
    "dif_media_horas"
   ]
  },
  {
   "cell_type": "code",
   "execution_count": 32,
   "id": "facf29ca",
   "metadata": {},
   "outputs": [
    {
     "data": {
      "text/plain": [
       "[0.5231519310262166, 2.139506577887918]"
      ]
     },
     "execution_count": 32,
     "metadata": {},
     "output_type": "execute_result"
    }
   ],
   "source": [
    "x = [df_hombres['ganancia_hora'],df_mujeres['ganancia_hora']]\n",
    "dif_media_ganancia = intervaloDeConfDifMedias(x,alfa)\n",
    "dif_media_ganancia"
   ]
  },
  {
   "cell_type": "markdown",
   "id": "dc245638",
   "metadata": {},
   "source": [
    "Formal vs informal"
   ]
  },
  {
   "cell_type": "code",
   "execution_count": null,
   "id": "102ad230",
   "metadata": {},
   "outputs": [],
   "source": [
    "f_formal = df_nuevo.loc[df_nuevo['P5_6_6'] == 1.0]\n",
    "f_informal = df_nuevo.loc[df_nuevo['P5_6_6'] == 2.0]\n",
    "\n",
    "tot_formal = len(df_hombres)\n",
    "tot_informal = len(df_mujeres)\n",
    "arr_pie = [tot_hombres/tot_muestra,tot_mujeres/tot_muestra]\n",
    "mylabels = ['Hombres','Mujeres']\n",
    "\n",
    "plt.figure(figsize=(15,15))\n",
    "plt.title(\"Hombres vs mujeres \")\n",
    "plt.pie(arr_pie,labels = mylabels, autopct='%1.1f%%')\n",
    "plt.show()"
   ]
  }
 ],
 "metadata": {
  "kernelspec": {
   "display_name": "Python 3 (ipykernel)",
   "language": "python",
   "name": "python3"
  },
  "language_info": {
   "codemirror_mode": {
    "name": "ipython",
    "version": 3
   },
   "file_extension": ".py",
   "mimetype": "text/x-python",
   "name": "python",
   "nbconvert_exporter": "python",
   "pygments_lexer": "ipython3",
   "version": "3.8.8"
  }
 },
 "nbformat": 4,
 "nbformat_minor": 5
}
