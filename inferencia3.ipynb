{
 "cells": [
  {
   "cell_type": "code",
   "execution_count": 1,
   "id": "9b84acb8",
   "metadata": {},
   "outputs": [],
   "source": [
    "import pandas as pd\n",
    "import numpy as np\n",
    "import matplotlib.pyplot as plt\n",
    "from scipy.stats import t\n",
    "from scipy.stats import norm\n",
    "from scipy.stats import f"
   ]
  },
  {
   "cell_type": "code",
   "execution_count": 2,
   "id": "3c6c3fdf",
   "metadata": {},
   "outputs": [],
   "source": [
    "df = pd.read_csv('conjunto_de_datos_tmodulo_enut_2019.csv',encoding='latin-1')\n",
    "df_nuevo = df[['EDAD_V','SEXO','NIV','P5_1','P5_3_1','P5_3_2','P5_3_3','P5_3_4','P5_6_6','P5_7','P5_7A']]"
   ]
  },
  {
   "cell_type": "code",
   "execution_count": 3,
   "id": "d4ded502",
   "metadata": {},
   "outputs": [
    {
     "name": "stderr",
     "output_type": "stream",
     "text": [
      "C:\\Users\\Miguel\\AppData\\Local\\Temp/ipykernel_1256/1619613471.py:1: SettingWithCopyWarning: \n",
      "A value is trying to be set on a copy of a slice from a DataFrame.\n",
      "Try using .loc[row_indexer,col_indexer] = value instead\n",
      "\n",
      "See the caveats in the documentation: https://pandas.pydata.org/pandas-docs/stable/user_guide/indexing.html#returning-a-view-versus-a-copy\n",
      "  df_nuevo['P5_3_1'] = df_nuevo['P5_3_1'].replace({np.nan: '0'})\n",
      "C:\\Users\\Miguel\\AppData\\Local\\Temp/ipykernel_1256/1619613471.py:2: SettingWithCopyWarning: \n",
      "A value is trying to be set on a copy of a slice from a DataFrame.\n",
      "Try using .loc[row_indexer,col_indexer] = value instead\n",
      "\n",
      "See the caveats in the documentation: https://pandas.pydata.org/pandas-docs/stable/user_guide/indexing.html#returning-a-view-versus-a-copy\n",
      "  df_nuevo['P5_3_2'] = df_nuevo['P5_3_2'].replace({np.nan: '0'})\n",
      "C:\\Users\\Miguel\\AppData\\Local\\Temp/ipykernel_1256/1619613471.py:3: SettingWithCopyWarning: \n",
      "A value is trying to be set on a copy of a slice from a DataFrame.\n",
      "Try using .loc[row_indexer,col_indexer] = value instead\n",
      "\n",
      "See the caveats in the documentation: https://pandas.pydata.org/pandas-docs/stable/user_guide/indexing.html#returning-a-view-versus-a-copy\n",
      "  df_nuevo['P5_3_3'] = df_nuevo['P5_3_3'].replace({np.nan: '0'})\n",
      "C:\\Users\\Miguel\\AppData\\Local\\Temp/ipykernel_1256/1619613471.py:4: SettingWithCopyWarning: \n",
      "A value is trying to be set on a copy of a slice from a DataFrame.\n",
      "Try using .loc[row_indexer,col_indexer] = value instead\n",
      "\n",
      "See the caveats in the documentation: https://pandas.pydata.org/pandas-docs/stable/user_guide/indexing.html#returning-a-view-versus-a-copy\n",
      "  df_nuevo['P5_3_4'] = df_nuevo['P5_3_4'].replace({np.nan: '0'})\n",
      "C:\\Users\\Miguel\\AppData\\Local\\Temp/ipykernel_1256/1619613471.py:5: SettingWithCopyWarning: \n",
      "A value is trying to be set on a copy of a slice from a DataFrame.\n",
      "Try using .loc[row_indexer,col_indexer] = value instead\n",
      "\n",
      "See the caveats in the documentation: https://pandas.pydata.org/pandas-docs/stable/user_guide/indexing.html#returning-a-view-versus-a-copy\n",
      "  df_nuevo['P5_7'] = df_nuevo['P5_7'].replace({np.nan: '0'})\n",
      "C:\\Users\\Miguel\\AppData\\Local\\Temp/ipykernel_1256/1619613471.py:6: SettingWithCopyWarning: \n",
      "A value is trying to be set on a copy of a slice from a DataFrame.\n",
      "Try using .loc[row_indexer,col_indexer] = value instead\n",
      "\n",
      "See the caveats in the documentation: https://pandas.pydata.org/pandas-docs/stable/user_guide/indexing.html#returning-a-view-versus-a-copy\n",
      "  df_nuevo['P5_7'] = df_nuevo['P5_7'].replace({'99999': '0'})\n",
      "C:\\Users\\Miguel\\AppData\\Local\\Temp/ipykernel_1256/1619613471.py:7: SettingWithCopyWarning: \n",
      "A value is trying to be set on a copy of a slice from a DataFrame.\n",
      "Try using .loc[row_indexer,col_indexer] = value instead\n",
      "\n",
      "See the caveats in the documentation: https://pandas.pydata.org/pandas-docs/stable/user_guide/indexing.html#returning-a-view-versus-a-copy\n",
      "  df_nuevo['P5_7A'] = df_nuevo['P5_7A'].replace({np.nan: '-1'})\n",
      "C:\\Users\\Miguel\\AppData\\Local\\Temp/ipykernel_1256/1619613471.py:8: SettingWithCopyWarning: \n",
      "A value is trying to be set on a copy of a slice from a DataFrame.\n",
      "Try using .loc[row_indexer,col_indexer] = value instead\n",
      "\n",
      "See the caveats in the documentation: https://pandas.pydata.org/pandas-docs/stable/user_guide/indexing.html#returning-a-view-versus-a-copy\n",
      "  df_nuevo['P5_3_1'] = df_nuevo['P5_3_1'].astype(int)\n",
      "C:\\Users\\Miguel\\AppData\\Local\\Temp/ipykernel_1256/1619613471.py:9: SettingWithCopyWarning: \n",
      "A value is trying to be set on a copy of a slice from a DataFrame.\n",
      "Try using .loc[row_indexer,col_indexer] = value instead\n",
      "\n",
      "See the caveats in the documentation: https://pandas.pydata.org/pandas-docs/stable/user_guide/indexing.html#returning-a-view-versus-a-copy\n",
      "  df_nuevo['P5_3_2'] = df_nuevo['P5_3_2'].astype(int)\n",
      "C:\\Users\\Miguel\\AppData\\Local\\Temp/ipykernel_1256/1619613471.py:10: SettingWithCopyWarning: \n",
      "A value is trying to be set on a copy of a slice from a DataFrame.\n",
      "Try using .loc[row_indexer,col_indexer] = value instead\n",
      "\n",
      "See the caveats in the documentation: https://pandas.pydata.org/pandas-docs/stable/user_guide/indexing.html#returning-a-view-versus-a-copy\n",
      "  df_nuevo['P5_3_3'] = df_nuevo['P5_3_3'].astype(int)\n",
      "C:\\Users\\Miguel\\AppData\\Local\\Temp/ipykernel_1256/1619613471.py:11: SettingWithCopyWarning: \n",
      "A value is trying to be set on a copy of a slice from a DataFrame.\n",
      "Try using .loc[row_indexer,col_indexer] = value instead\n",
      "\n",
      "See the caveats in the documentation: https://pandas.pydata.org/pandas-docs/stable/user_guide/indexing.html#returning-a-view-versus-a-copy\n",
      "  df_nuevo['P5_3_4'] = df_nuevo['P5_3_4'].astype(int)\n",
      "C:\\Users\\Miguel\\AppData\\Local\\Temp/ipykernel_1256/1619613471.py:12: SettingWithCopyWarning: \n",
      "A value is trying to be set on a copy of a slice from a DataFrame.\n",
      "Try using .loc[row_indexer,col_indexer] = value instead\n",
      "\n",
      "See the caveats in the documentation: https://pandas.pydata.org/pandas-docs/stable/user_guide/indexing.html#returning-a-view-versus-a-copy\n",
      "  df_nuevo['P5_7'] = df_nuevo['P5_7'].astype(float)\n",
      "C:\\Users\\Miguel\\AppData\\Local\\Temp/ipykernel_1256/1619613471.py:13: SettingWithCopyWarning: \n",
      "A value is trying to be set on a copy of a slice from a DataFrame.\n",
      "Try using .loc[row_indexer,col_indexer] = value instead\n",
      "\n",
      "See the caveats in the documentation: https://pandas.pydata.org/pandas-docs/stable/user_guide/indexing.html#returning-a-view-versus-a-copy\n",
      "  df_nuevo['P5_7A'] = df_nuevo['P5_7A'].astype(int)\n",
      "C:\\Users\\Miguel\\AppData\\Local\\Temp/ipykernel_1256/1619613471.py:14: SettingWithCopyWarning: \n",
      "A value is trying to be set on a copy of a slice from a DataFrame.\n",
      "Try using .loc[row_indexer,col_indexer] = value instead\n",
      "\n",
      "See the caveats in the documentation: https://pandas.pydata.org/pandas-docs/stable/user_guide/indexing.html#returning-a-view-versus-a-copy\n",
      "  df_nuevo['tot_horas'] = df_nuevo['P5_3_1'] + df_nuevo['P5_3_3']\n",
      "C:\\Users\\Miguel\\AppData\\Local\\Temp/ipykernel_1256/1619613471.py:15: SettingWithCopyWarning: \n",
      "A value is trying to be set on a copy of a slice from a DataFrame.\n",
      "Try using .loc[row_indexer,col_indexer] = value instead\n",
      "\n",
      "See the caveats in the documentation: https://pandas.pydata.org/pandas-docs/stable/user_guide/indexing.html#returning-a-view-versus-a-copy\n",
      "  df_nuevo['tot_minutos'] = df_nuevo['P5_3_2'] + df_nuevo['P5_3_4']\n",
      "C:\\Users\\Miguel\\AppData\\Local\\Temp/ipykernel_1256/1619613471.py:16: SettingWithCopyWarning: \n",
      "A value is trying to be set on a copy of a slice from a DataFrame.\n",
      "Try using .loc[row_indexer,col_indexer] = value instead\n",
      "\n",
      "See the caveats in the documentation: https://pandas.pydata.org/pandas-docs/stable/user_guide/indexing.html#returning-a-view-versus-a-copy\n",
      "  df_nuevo['tot_horas'] = df_nuevo['tot_horas'] + (df_nuevo['tot_minutos']/60)\n"
     ]
    }
   ],
   "source": [
    "df_nuevo['P5_3_1'] = df_nuevo['P5_3_1'].replace({np.nan: '0'})\n",
    "df_nuevo['P5_3_2'] = df_nuevo['P5_3_2'].replace({np.nan: '0'})\n",
    "df_nuevo['P5_3_3'] = df_nuevo['P5_3_3'].replace({np.nan: '0'})\n",
    "df_nuevo['P5_3_4'] = df_nuevo['P5_3_4'].replace({np.nan: '0'})\n",
    "df_nuevo['P5_7'] = df_nuevo['P5_7'].replace({np.nan: '0'})\n",
    "df_nuevo['P5_7'] = df_nuevo['P5_7'].replace({'99999': '0'})\n",
    "df_nuevo['P5_7A'] = df_nuevo['P5_7A'].replace({np.nan: '-1'})\n",
    "df_nuevo['P5_3_1'] = df_nuevo['P5_3_1'].astype(int)\n",
    "df_nuevo['P5_3_2'] = df_nuevo['P5_3_2'].astype(int)\n",
    "df_nuevo['P5_3_3'] = df_nuevo['P5_3_3'].astype(int)\n",
    "df_nuevo['P5_3_4'] = df_nuevo['P5_3_4'].astype(int)\n",
    "df_nuevo['P5_7'] = df_nuevo['P5_7'].astype(float)\n",
    "df_nuevo['P5_7A'] = df_nuevo['P5_7A'].astype(int)\n",
    "df_nuevo['tot_horas'] = df_nuevo['P5_3_1'] + df_nuevo['P5_3_3']\n",
    "df_nuevo['tot_minutos'] = df_nuevo['P5_3_2'] + df_nuevo['P5_3_4']\n",
    "df_nuevo['tot_horas'] = df_nuevo['tot_horas'] + (df_nuevo['tot_minutos']/60)"
   ]
  },
  {
   "cell_type": "code",
   "execution_count": 4,
   "id": "d50a0226",
   "metadata": {},
   "outputs": [
    {
     "data": {
      "text/html": [
       "<div>\n",
       "<style scoped>\n",
       "    .dataframe tbody tr th:only-of-type {\n",
       "        vertical-align: middle;\n",
       "    }\n",
       "\n",
       "    .dataframe tbody tr th {\n",
       "        vertical-align: top;\n",
       "    }\n",
       "\n",
       "    .dataframe thead th {\n",
       "        text-align: right;\n",
       "    }\n",
       "</style>\n",
       "<table border=\"1\" class=\"dataframe\">\n",
       "  <thead>\n",
       "    <tr style=\"text-align: right;\">\n",
       "      <th></th>\n",
       "      <th>EDAD_V</th>\n",
       "      <th>SEXO</th>\n",
       "      <th>NIV</th>\n",
       "      <th>P5_1</th>\n",
       "      <th>P5_3_1</th>\n",
       "      <th>P5_3_2</th>\n",
       "      <th>P5_3_3</th>\n",
       "      <th>P5_3_4</th>\n",
       "      <th>P5_6_6</th>\n",
       "      <th>P5_7</th>\n",
       "      <th>P5_7A</th>\n",
       "      <th>tot_horas</th>\n",
       "      <th>tot_minutos</th>\n",
       "    </tr>\n",
       "  </thead>\n",
       "  <tbody>\n",
       "    <tr>\n",
       "      <th>2</th>\n",
       "      <td>30</td>\n",
       "      <td>1</td>\n",
       "      <td>6</td>\n",
       "      <td>1</td>\n",
       "      <td>40</td>\n",
       "      <td>0</td>\n",
       "      <td>20</td>\n",
       "      <td>0</td>\n",
       "      <td>1.0</td>\n",
       "      <td>8300.0</td>\n",
       "      <td>3</td>\n",
       "      <td>60.0</td>\n",
       "      <td>0</td>\n",
       "    </tr>\n",
       "    <tr>\n",
       "      <th>3</th>\n",
       "      <td>25</td>\n",
       "      <td>1</td>\n",
       "      <td>3</td>\n",
       "      <td>1</td>\n",
       "      <td>55</td>\n",
       "      <td>0</td>\n",
       "      <td>0</td>\n",
       "      <td>0</td>\n",
       "      <td>1.0</td>\n",
       "      <td>4000.0</td>\n",
       "      <td>2</td>\n",
       "      <td>55.0</td>\n",
       "      <td>0</td>\n",
       "    </tr>\n",
       "    <tr>\n",
       "      <th>5</th>\n",
       "      <td>48</td>\n",
       "      <td>2</td>\n",
       "      <td>7</td>\n",
       "      <td>1</td>\n",
       "      <td>40</td>\n",
       "      <td>0</td>\n",
       "      <td>5</td>\n",
       "      <td>0</td>\n",
       "      <td>2.0</td>\n",
       "      <td>6000.0</td>\n",
       "      <td>3</td>\n",
       "      <td>45.0</td>\n",
       "      <td>0</td>\n",
       "    </tr>\n",
       "    <tr>\n",
       "      <th>6</th>\n",
       "      <td>26</td>\n",
       "      <td>1</td>\n",
       "      <td>8</td>\n",
       "      <td>1</td>\n",
       "      <td>40</td>\n",
       "      <td>0</td>\n",
       "      <td>0</td>\n",
       "      <td>0</td>\n",
       "      <td>2.0</td>\n",
       "      <td>8000.0</td>\n",
       "      <td>3</td>\n",
       "      <td>40.0</td>\n",
       "      <td>0</td>\n",
       "    </tr>\n",
       "    <tr>\n",
       "      <th>9</th>\n",
       "      <td>50</td>\n",
       "      <td>1</td>\n",
       "      <td>2</td>\n",
       "      <td>1</td>\n",
       "      <td>55</td>\n",
       "      <td>0</td>\n",
       "      <td>0</td>\n",
       "      <td>0</td>\n",
       "      <td>2.0</td>\n",
       "      <td>900.0</td>\n",
       "      <td>1</td>\n",
       "      <td>55.0</td>\n",
       "      <td>0</td>\n",
       "    </tr>\n",
       "    <tr>\n",
       "      <th>...</th>\n",
       "      <td>...</td>\n",
       "      <td>...</td>\n",
       "      <td>...</td>\n",
       "      <td>...</td>\n",
       "      <td>...</td>\n",
       "      <td>...</td>\n",
       "      <td>...</td>\n",
       "      <td>...</td>\n",
       "      <td>...</td>\n",
       "      <td>...</td>\n",
       "      <td>...</td>\n",
       "      <td>...</td>\n",
       "      <td>...</td>\n",
       "    </tr>\n",
       "    <tr>\n",
       "      <th>71397</th>\n",
       "      <td>44</td>\n",
       "      <td>2</td>\n",
       "      <td>3</td>\n",
       "      <td>1</td>\n",
       "      <td>25</td>\n",
       "      <td>0</td>\n",
       "      <td>0</td>\n",
       "      <td>0</td>\n",
       "      <td>2.0</td>\n",
       "      <td>400.0</td>\n",
       "      <td>1</td>\n",
       "      <td>25.0</td>\n",
       "      <td>0</td>\n",
       "    </tr>\n",
       "    <tr>\n",
       "      <th>71400</th>\n",
       "      <td>31</td>\n",
       "      <td>1</td>\n",
       "      <td>8</td>\n",
       "      <td>1</td>\n",
       "      <td>60</td>\n",
       "      <td>0</td>\n",
       "      <td>24</td>\n",
       "      <td>0</td>\n",
       "      <td>1.0</td>\n",
       "      <td>15000.0</td>\n",
       "      <td>3</td>\n",
       "      <td>84.0</td>\n",
       "      <td>0</td>\n",
       "    </tr>\n",
       "    <tr>\n",
       "      <th>71401</th>\n",
       "      <td>23</td>\n",
       "      <td>2</td>\n",
       "      <td>6</td>\n",
       "      <td>1</td>\n",
       "      <td>40</td>\n",
       "      <td>0</td>\n",
       "      <td>8</td>\n",
       "      <td>0</td>\n",
       "      <td>2.0</td>\n",
       "      <td>2400.0</td>\n",
       "      <td>1</td>\n",
       "      <td>48.0</td>\n",
       "      <td>0</td>\n",
       "    </tr>\n",
       "    <tr>\n",
       "      <th>71402</th>\n",
       "      <td>27</td>\n",
       "      <td>1</td>\n",
       "      <td>6</td>\n",
       "      <td>1</td>\n",
       "      <td>30</td>\n",
       "      <td>0</td>\n",
       "      <td>5</td>\n",
       "      <td>0</td>\n",
       "      <td>2.0</td>\n",
       "      <td>1800.0</td>\n",
       "      <td>1</td>\n",
       "      <td>35.0</td>\n",
       "      <td>0</td>\n",
       "    </tr>\n",
       "    <tr>\n",
       "      <th>71403</th>\n",
       "      <td>29</td>\n",
       "      <td>2</td>\n",
       "      <td>6</td>\n",
       "      <td>1</td>\n",
       "      <td>15</td>\n",
       "      <td>0</td>\n",
       "      <td>0</td>\n",
       "      <td>0</td>\n",
       "      <td>1.0</td>\n",
       "      <td>3600.0</td>\n",
       "      <td>3</td>\n",
       "      <td>15.0</td>\n",
       "      <td>0</td>\n",
       "    </tr>\n",
       "  </tbody>\n",
       "</table>\n",
       "<p>36175 rows × 13 columns</p>\n",
       "</div>"
      ],
      "text/plain": [
       "       EDAD_V  SEXO  NIV  P5_1  P5_3_1  P5_3_2  P5_3_3  P5_3_4  P5_6_6  \\\n",
       "2          30     1    6     1      40       0      20       0     1.0   \n",
       "3          25     1    3     1      55       0       0       0     1.0   \n",
       "5          48     2    7     1      40       0       5       0     2.0   \n",
       "6          26     1    8     1      40       0       0       0     2.0   \n",
       "9          50     1    2     1      55       0       0       0     2.0   \n",
       "...       ...   ...  ...   ...     ...     ...     ...     ...     ...   \n",
       "71397      44     2    3     1      25       0       0       0     2.0   \n",
       "71400      31     1    8     1      60       0      24       0     1.0   \n",
       "71401      23     2    6     1      40       0       8       0     2.0   \n",
       "71402      27     1    6     1      30       0       5       0     2.0   \n",
       "71403      29     2    6     1      15       0       0       0     1.0   \n",
       "\n",
       "          P5_7  P5_7A  tot_horas  tot_minutos  \n",
       "2       8300.0      3       60.0            0  \n",
       "3       4000.0      2       55.0            0  \n",
       "5       6000.0      3       45.0            0  \n",
       "6       8000.0      3       40.0            0  \n",
       "9        900.0      1       55.0            0  \n",
       "...        ...    ...        ...          ...  \n",
       "71397    400.0      1       25.0            0  \n",
       "71400  15000.0      3       84.0            0  \n",
       "71401   2400.0      1       48.0            0  \n",
       "71402   1800.0      1       35.0            0  \n",
       "71403   3600.0      3       15.0            0  \n",
       "\n",
       "[36175 rows x 13 columns]"
      ]
     },
     "execution_count": 4,
     "metadata": {},
     "output_type": "execute_result"
    }
   ],
   "source": [
    "df_nuevo = df_nuevo.loc[df_nuevo['P5_7'] > 0]\n",
    "df_nuevo = df_nuevo.loc[df_nuevo['P5_7A'] > 0]\n",
    "df_nuevo = df_nuevo.loc[df_nuevo['EDAD_V'] >= 15]\n",
    "df_nuevo = df_nuevo.loc[df_nuevo['P5_1'] == 1]\n",
    "df_nuevo"
   ]
  },
  {
   "cell_type": "code",
   "execution_count": 5,
   "id": "b6a9d7e9",
   "metadata": {},
   "outputs": [
    {
     "data": {
      "text/html": [
       "<div>\n",
       "<style scoped>\n",
       "    .dataframe tbody tr th:only-of-type {\n",
       "        vertical-align: middle;\n",
       "    }\n",
       "\n",
       "    .dataframe tbody tr th {\n",
       "        vertical-align: top;\n",
       "    }\n",
       "\n",
       "    .dataframe thead th {\n",
       "        text-align: right;\n",
       "    }\n",
       "</style>\n",
       "<table border=\"1\" class=\"dataframe\">\n",
       "  <thead>\n",
       "    <tr style=\"text-align: right;\">\n",
       "      <th></th>\n",
       "      <th>EDAD_V</th>\n",
       "      <th>SEXO</th>\n",
       "      <th>NIV</th>\n",
       "      <th>P5_1</th>\n",
       "      <th>P5_3_1</th>\n",
       "      <th>P5_3_2</th>\n",
       "      <th>P5_3_3</th>\n",
       "      <th>P5_3_4</th>\n",
       "      <th>P5_6_6</th>\n",
       "      <th>P5_7</th>\n",
       "      <th>P5_7A</th>\n",
       "      <th>tot_horas</th>\n",
       "      <th>tot_minutos</th>\n",
       "      <th>semanal</th>\n",
       "      <th>ganancia_hora</th>\n",
       "    </tr>\n",
       "  </thead>\n",
       "  <tbody>\n",
       "    <tr>\n",
       "      <th>2</th>\n",
       "      <td>30</td>\n",
       "      <td>1</td>\n",
       "      <td>6</td>\n",
       "      <td>1</td>\n",
       "      <td>40</td>\n",
       "      <td>0</td>\n",
       "      <td>20</td>\n",
       "      <td>0</td>\n",
       "      <td>1.0</td>\n",
       "      <td>8300.0</td>\n",
       "      <td>3</td>\n",
       "      <td>60.0</td>\n",
       "      <td>0</td>\n",
       "      <td>2075.000000</td>\n",
       "      <td>34.583333</td>\n",
       "    </tr>\n",
       "    <tr>\n",
       "      <th>3</th>\n",
       "      <td>25</td>\n",
       "      <td>1</td>\n",
       "      <td>3</td>\n",
       "      <td>1</td>\n",
       "      <td>55</td>\n",
       "      <td>0</td>\n",
       "      <td>0</td>\n",
       "      <td>0</td>\n",
       "      <td>1.0</td>\n",
       "      <td>4000.0</td>\n",
       "      <td>2</td>\n",
       "      <td>55.0</td>\n",
       "      <td>0</td>\n",
       "      <td>2166.666667</td>\n",
       "      <td>39.393939</td>\n",
       "    </tr>\n",
       "    <tr>\n",
       "      <th>5</th>\n",
       "      <td>48</td>\n",
       "      <td>2</td>\n",
       "      <td>7</td>\n",
       "      <td>1</td>\n",
       "      <td>40</td>\n",
       "      <td>0</td>\n",
       "      <td>5</td>\n",
       "      <td>0</td>\n",
       "      <td>2.0</td>\n",
       "      <td>6000.0</td>\n",
       "      <td>3</td>\n",
       "      <td>45.0</td>\n",
       "      <td>0</td>\n",
       "      <td>1500.000000</td>\n",
       "      <td>33.333333</td>\n",
       "    </tr>\n",
       "    <tr>\n",
       "      <th>6</th>\n",
       "      <td>26</td>\n",
       "      <td>1</td>\n",
       "      <td>8</td>\n",
       "      <td>1</td>\n",
       "      <td>40</td>\n",
       "      <td>0</td>\n",
       "      <td>0</td>\n",
       "      <td>0</td>\n",
       "      <td>2.0</td>\n",
       "      <td>8000.0</td>\n",
       "      <td>3</td>\n",
       "      <td>40.0</td>\n",
       "      <td>0</td>\n",
       "      <td>2000.000000</td>\n",
       "      <td>50.000000</td>\n",
       "    </tr>\n",
       "    <tr>\n",
       "      <th>9</th>\n",
       "      <td>50</td>\n",
       "      <td>1</td>\n",
       "      <td>2</td>\n",
       "      <td>1</td>\n",
       "      <td>55</td>\n",
       "      <td>0</td>\n",
       "      <td>0</td>\n",
       "      <td>0</td>\n",
       "      <td>2.0</td>\n",
       "      <td>900.0</td>\n",
       "      <td>1</td>\n",
       "      <td>55.0</td>\n",
       "      <td>0</td>\n",
       "      <td>975.000000</td>\n",
       "      <td>17.727273</td>\n",
       "    </tr>\n",
       "    <tr>\n",
       "      <th>...</th>\n",
       "      <td>...</td>\n",
       "      <td>...</td>\n",
       "      <td>...</td>\n",
       "      <td>...</td>\n",
       "      <td>...</td>\n",
       "      <td>...</td>\n",
       "      <td>...</td>\n",
       "      <td>...</td>\n",
       "      <td>...</td>\n",
       "      <td>...</td>\n",
       "      <td>...</td>\n",
       "      <td>...</td>\n",
       "      <td>...</td>\n",
       "      <td>...</td>\n",
       "      <td>...</td>\n",
       "    </tr>\n",
       "    <tr>\n",
       "      <th>71397</th>\n",
       "      <td>44</td>\n",
       "      <td>2</td>\n",
       "      <td>3</td>\n",
       "      <td>1</td>\n",
       "      <td>25</td>\n",
       "      <td>0</td>\n",
       "      <td>0</td>\n",
       "      <td>0</td>\n",
       "      <td>2.0</td>\n",
       "      <td>400.0</td>\n",
       "      <td>1</td>\n",
       "      <td>25.0</td>\n",
       "      <td>0</td>\n",
       "      <td>433.333333</td>\n",
       "      <td>17.333333</td>\n",
       "    </tr>\n",
       "    <tr>\n",
       "      <th>71400</th>\n",
       "      <td>31</td>\n",
       "      <td>1</td>\n",
       "      <td>8</td>\n",
       "      <td>1</td>\n",
       "      <td>60</td>\n",
       "      <td>0</td>\n",
       "      <td>24</td>\n",
       "      <td>0</td>\n",
       "      <td>1.0</td>\n",
       "      <td>15000.0</td>\n",
       "      <td>3</td>\n",
       "      <td>84.0</td>\n",
       "      <td>0</td>\n",
       "      <td>3750.000000</td>\n",
       "      <td>44.642857</td>\n",
       "    </tr>\n",
       "    <tr>\n",
       "      <th>71401</th>\n",
       "      <td>23</td>\n",
       "      <td>2</td>\n",
       "      <td>6</td>\n",
       "      <td>1</td>\n",
       "      <td>40</td>\n",
       "      <td>0</td>\n",
       "      <td>8</td>\n",
       "      <td>0</td>\n",
       "      <td>2.0</td>\n",
       "      <td>2400.0</td>\n",
       "      <td>1</td>\n",
       "      <td>48.0</td>\n",
       "      <td>0</td>\n",
       "      <td>2600.000000</td>\n",
       "      <td>54.166667</td>\n",
       "    </tr>\n",
       "    <tr>\n",
       "      <th>71402</th>\n",
       "      <td>27</td>\n",
       "      <td>1</td>\n",
       "      <td>6</td>\n",
       "      <td>1</td>\n",
       "      <td>30</td>\n",
       "      <td>0</td>\n",
       "      <td>5</td>\n",
       "      <td>0</td>\n",
       "      <td>2.0</td>\n",
       "      <td>1800.0</td>\n",
       "      <td>1</td>\n",
       "      <td>35.0</td>\n",
       "      <td>0</td>\n",
       "      <td>1950.000000</td>\n",
       "      <td>55.714286</td>\n",
       "    </tr>\n",
       "    <tr>\n",
       "      <th>71403</th>\n",
       "      <td>29</td>\n",
       "      <td>2</td>\n",
       "      <td>6</td>\n",
       "      <td>1</td>\n",
       "      <td>15</td>\n",
       "      <td>0</td>\n",
       "      <td>0</td>\n",
       "      <td>0</td>\n",
       "      <td>1.0</td>\n",
       "      <td>3600.0</td>\n",
       "      <td>3</td>\n",
       "      <td>15.0</td>\n",
       "      <td>0</td>\n",
       "      <td>900.000000</td>\n",
       "      <td>60.000000</td>\n",
       "    </tr>\n",
       "  </tbody>\n",
       "</table>\n",
       "<p>35467 rows × 15 columns</p>\n",
       "</div>"
      ],
      "text/plain": [
       "       EDAD_V  SEXO  NIV  P5_1  P5_3_1  P5_3_2  P5_3_3  P5_3_4  P5_6_6  \\\n",
       "2          30     1    6     1      40       0      20       0     1.0   \n",
       "3          25     1    3     1      55       0       0       0     1.0   \n",
       "5          48     2    7     1      40       0       5       0     2.0   \n",
       "6          26     1    8     1      40       0       0       0     2.0   \n",
       "9          50     1    2     1      55       0       0       0     2.0   \n",
       "...       ...   ...  ...   ...     ...     ...     ...     ...     ...   \n",
       "71397      44     2    3     1      25       0       0       0     2.0   \n",
       "71400      31     1    8     1      60       0      24       0     1.0   \n",
       "71401      23     2    6     1      40       0       8       0     2.0   \n",
       "71402      27     1    6     1      30       0       5       0     2.0   \n",
       "71403      29     2    6     1      15       0       0       0     1.0   \n",
       "\n",
       "          P5_7  P5_7A  tot_horas  tot_minutos      semanal  ganancia_hora  \n",
       "2       8300.0      3       60.0            0  2075.000000      34.583333  \n",
       "3       4000.0      2       55.0            0  2166.666667      39.393939  \n",
       "5       6000.0      3       45.0            0  1500.000000      33.333333  \n",
       "6       8000.0      3       40.0            0  2000.000000      50.000000  \n",
       "9        900.0      1       55.0            0   975.000000      17.727273  \n",
       "...        ...    ...        ...          ...          ...            ...  \n",
       "71397    400.0      1       25.0            0   433.333333      17.333333  \n",
       "71400  15000.0      3       84.0            0  3750.000000      44.642857  \n",
       "71401   2400.0      1       48.0            0  2600.000000      54.166667  \n",
       "71402   1800.0      1       35.0            0  1950.000000      55.714286  \n",
       "71403   3600.0      3       15.0            0   900.000000      60.000000  \n",
       "\n",
       "[35467 rows x 15 columns]"
      ]
     },
     "execution_count": 5,
     "metadata": {},
     "output_type": "execute_result"
    }
   ],
   "source": [
    "def agregaColFrecPago(df):\n",
    "    res = []\n",
    "    for x in df:\n",
    "        if x == 1:\n",
    "            res.append(52)\n",
    "        else:\n",
    "            if x == 2:\n",
    "                res.append(26)\n",
    "            else:\n",
    "                if x == 3:\n",
    "                    res.append(12)\n",
    "                else:\n",
    "                    res.append(1)\n",
    "    \n",
    "    return res\n",
    "x = agregaColFrecPago(df_nuevo['P5_7A'])\n",
    "df_nuevo['semanal'] = ((x * df_nuevo['P5_7'])/48)\n",
    "df_nuevo['ganancia_hora'] = df_nuevo['semanal']/df_nuevo['tot_horas']\n",
    "df_limitado = df_nuevo.loc[df_nuevo['ganancia_hora'] <= 500]\n",
    "df_limitado = df_limitado.loc[df_limitado['tot_horas'] <= 90]\n",
    "df_limitado"
   ]
  },
  {
   "cell_type": "markdown",
   "id": "a1037af5",
   "metadata": {},
   "source": [
    "## Metodos para agrupamiento de datos"
   ]
  },
  {
   "cell_type": "code",
   "execution_count": 6,
   "id": "2b5d3d9e",
   "metadata": {},
   "outputs": [],
   "source": [
    "def grupos(df,minimo,maximo,num_grupos):\n",
    "    minimo = minimo - 1\n",
    "    maximo = maximo + 1\n",
    "    dif = maximo - minimo\n",
    "    tam_grupo = dif/num_grupos\n",
    "    res = []\n",
    "    for x in df:\n",
    "        y = x - minimo\n",
    "        y = int(y/tam_grupo)\n",
    "        if y % tam_grupo == 0:\n",
    "            if y != 0:\n",
    "                y = y - 1\n",
    "        res.append(y)\n",
    "    return res\n",
    "\n",
    "def imprimeGrupo(minimo,maximo,num_grupos):\n",
    "    minimo = minimo - 1\n",
    "    maximo = maximo + 1\n",
    "    dif = maximo - minimo\n",
    "    tam_grupo = dif/num_grupos\n",
    "    for i in range(num_grupos):\n",
    "        st = 'grupo '\n",
    "        x = minimo + i * tam_grupo\n",
    "        y = minimo + (i + 1) * tam_grupo\n",
    "        print('grupo ' + str(i) + ': (' + str(x) + ',' + str(y) +']')"
   ]
  },
  {
   "cell_type": "markdown",
   "id": "fea326cc",
   "metadata": {},
   "source": [
    "## Metodos para varianza y cosas extra"
   ]
  },
  {
   "cell_type": "code",
   "execution_count": 7,
   "id": "7149de19",
   "metadata": {},
   "outputs": [],
   "source": [
    "def s2df(df):\n",
    "    \n",
    "    n = len(df)\n",
    "    media = np.mean(df)\n",
    "    s2 = df - media\n",
    "    s2 = np.dot(s2,s2)\n",
    "    s2 = s2 / (n-1)\n",
    "    \n",
    "    return s2\n",
    "\n",
    "def arrInterConfianza(metodo,arr,alfa):\n",
    "    res = []\n",
    "    for x in arr:\n",
    "        \n",
    "        res.append(metodo(x,alfa))\n",
    "        \n",
    "    return res\n",
    "\n",
    "def arrEstimador(metodo,vec,col):\n",
    "    res = []\n",
    "    for x in vec:\n",
    "        res.append(metodo(x[col]))\n",
    "        \n",
    "    return res\n",
    "\n",
    "def pow_n(a):\n",
    "    res = pow(a,1/2)\n",
    "    \n",
    "    return res"
   ]
  },
  {
   "cell_type": "markdown",
   "id": "ea9d6e1f",
   "metadata": {},
   "source": [
    "## Metodos para intervalos de confianza"
   ]
  },
  {
   "cell_type": "code",
   "execution_count": 8,
   "id": "df4336b2",
   "metadata": {},
   "outputs": [],
   "source": [
    "def intervaloDeConfVarDesc(df,alfa):\n",
    "    \n",
    "    res = []\n",
    "    n = len(df)\n",
    "    grados_de_libertad = n - 1\n",
    "    media = np.mean(df)\n",
    "    s2 = s2df(df)\n",
    "    res_t = t.ppf(1-alfa/2, df=grados_de_libertad)\n",
    "    sn = s2 / n\n",
    "    sn = pow(sn,1/2)\n",
    "    res.append((media - sn * res_t))\n",
    "    res.append((media + sn * res_t))\n",
    "    \n",
    "    return res\n",
    "\n",
    "def intervaloDeConfDifMedias(x,alfa):\n",
    "    \n",
    "    res = []\n",
    "    df_1 = x[0]\n",
    "    df_2 = x[1]\n",
    "    n1 = len(df_1)\n",
    "    n2 = len(df_2)\n",
    "    grados_de_libertad = n1 + n2 - 2\n",
    "    media1 = np.mean(df_1)\n",
    "    media2 = np.mean(df_2)\n",
    "    dif = media1 - media2\n",
    "    s21 = s2df(df_1)\n",
    "    s22 = s2df(df_2)\n",
    "    s1 = pow(s21,1/2)\n",
    "    s2 = pow(s22,1/2)\n",
    "    s2p = (((n1-1) * s21) + ((n2-1) * s22))/grados_de_libertad\n",
    "    sp = pow(s2p,1/2)\n",
    "    rn = (1/n1) + (1/n2)\n",
    "    rn = pow(rn,1/2)\n",
    "    res_t = t.ppf(1-alfa/2, df=grados_de_libertad)\n",
    "    res.append((dif - res_t * sp * rn))\n",
    "    res.append((dif + res_t * sp * rn))\n",
    "    \n",
    "    return res\n",
    "\n",
    "def intervaloDeConfCocienteDeVar(vec,alfa):\n",
    "    \n",
    "    res = []\n",
    "    \n",
    "    df_1 = vec[0]\n",
    "    df_2 = vec[1]\n",
    "    \n",
    "    n1 = len(df_1)\n",
    "    n2 = len(df_2)\n",
    "    \n",
    "    s21 = s2df(df_1)\n",
    "    s22 = s2df(df_2)\n",
    "    \n",
    "    f_res_sup = f.ppf(1-(alfa/2),n1-1,n2-1)\n",
    "    \n",
    "    f_res_inf = f.ppf(1-(alfa/2),n2-1,n1-1)\n",
    "    f_res_inf = 1/f_res_inf\n",
    "    \n",
    "    cociente = s22/s21\n",
    "    \n",
    "    res.append(f_res_inf * cociente)\n",
    "    res.append(f_res_sup * cociente)\n",
    "    \n",
    "    return res"
   ]
  },
  {
   "cell_type": "markdown",
   "id": "ba4bb3a3",
   "metadata": {},
   "source": [
    "## Metodos para pruebas de hipotesis"
   ]
  },
  {
   "cell_type": "code",
   "execution_count": 9,
   "id": "8eacc937",
   "metadata": {},
   "outputs": [],
   "source": [
    "def pruebaDeHipotesisDifMediaInferior(h0,vec,alfa):\n",
    "    \n",
    "    df_0 = vec[0]\n",
    "    df_1 = vec[1]\n",
    "    \n",
    "    media_0 = np.mean(df_0)\n",
    "    media_1 = np.mean(df_1)\n",
    "    \n",
    "    n0 = len(df_0)\n",
    "    n1 = len(df_1)\n",
    "    \n",
    "    s2_0 = s2df(df_0)\n",
    "    s2_1 = s2df(df_1)\n",
    "    \n",
    "    dif = media_0 - media_1\n",
    "    grados_de_libertad = n0 - n1 - 2\n",
    "    \n",
    "    sp2 = ((n0-1) * s2_0 + (n1-1) * s2_1)/grados_de_libertad\n",
    "    sp = pow(sp2,1/2)\n",
    "    \n",
    "    nr2 = (1/n0) + (1/n1)\n",
    "    nr = pow(nr2,1/2)\n",
    "    \n",
    "    t_res = t.ppf(alfa, df=grados_de_libertad)\n",
    "    \n",
    "    c = (t_res * nr * sp) + h0\n",
    "    \n",
    "    res_t = t.ppf(1-alfa/2, df=grados_de_libertad)\n",
    "    \n",
    "    return c,dif,c>dif\n",
    "\n",
    "def pruebaDeHipotesisSuperior(h0,vec,alfa):\n",
    "    \n",
    "    media = np.mean(vec) \n",
    "    n = len(vec)    \n",
    "    s2 = s2df(vec)    \n",
    "    grados_de_libertad = n - 1\n",
    "    s2n = s2/n\n",
    "    sn = pow(s2n,1/2)\n",
    "    \n",
    "    t_res = t.ppf(1-alfa, df=grados_de_libertad)\n",
    "    \n",
    "    c = (t_res * sn) + h0\n",
    "    \n",
    "    return c,media,c<media\n",
    "\n",
    "\n",
    "def pruebaDeHipotesisDifMediaSuperior(h0,vec,alfa):\n",
    "    \n",
    "    df_0 = vec[0]\n",
    "    df_1 = vec[1]\n",
    "    \n",
    "    media_0 = np.mean(df_0)\n",
    "    media_1 = np.mean(df_1)\n",
    "    \n",
    "    n0 = len(df_0)\n",
    "    n1 = len(df_1)\n",
    "    \n",
    "    s2_0 = s2df(df_0)\n",
    "    s2_1 = s2df(df_1)\n",
    "    \n",
    "    dif = media_0 - media_1\n",
    "    grados_de_libertad = n0 - n1 - 2\n",
    "    \n",
    "    sp2 = ((n0-1) * s2_0 + (n1-1) * s2_1)/grados_de_libertad\n",
    "    sp = pow(sp2,1/2)\n",
    "    \n",
    "    nr2 = (1/n0) + (1/n1)\n",
    "    nr = pow(nr2,1/2)\n",
    "    \n",
    "    t_res = t.ppf(1-alfa, df=grados_de_libertad)\n",
    "    \n",
    "    c = (t_res * nr * sp) + h0\n",
    "    \n",
    "    return c,dif,c<dif\n",
    "\n",
    "def beta(vec,punto_critico,ha):\n",
    "    df_0 = vec[0]\n",
    "    df_1 = vec[1]  \n",
    "    \n",
    "    n0 = len(df_0)\n",
    "    n1 = len(df_1)\n",
    "    \n",
    "    s2_0 = s2df(df_0)\n",
    "    s2_1 = s2df(df_1)\n",
    "    \n",
    "    grados_de_libertad = n0 - n1 - 2\n",
    "    \n",
    "    arriba = punto_critico - ha\n",
    "    \n",
    "    sp2 = ((n0-1) * s2_0 + (n1-1) * s2_1)/grados_de_libertad\n",
    "    sp = pow(sp2,1/2)\n",
    "    \n",
    "    nr2 = (1/n0) + (1/n1)\n",
    "    nr = pow(nr2,1/2)\n",
    "    \n",
    "    res = arriba/(sp*nr)\n",
    "    \n",
    "    t_res = t.cdf(res, df=grados_de_libertad)\n",
    "    \n",
    "    return t_res\n",
    "\n",
    "def aceptar_o_rechazar_h0(b, alfa):\n",
    "    \n",
    "    if b :\n",
    "        print('Hay evidencia suficiente para rechazar h0, con una confiabilidad del ' + str(1-alfa))\n",
    "        \n",
    "    else:\n",
    "        print('No hay evidencia suficiente para rechazar h0, con una confiabilidad del ' + str(1-alfa))"
   ]
  },
  {
   "cell_type": "markdown",
   "id": "d16f5bf8",
   "metadata": {},
   "source": [
    "### Agregar grupos de horas e ingreso por hora"
   ]
  },
  {
   "cell_type": "code",
   "execution_count": 10,
   "id": "9b2ecefe",
   "metadata": {},
   "outputs": [
    {
     "name": "stdout",
     "output_type": "stream",
     "text": [
      "grupos de horas\n",
      "grupo 0: (0.0,6.066666666666666]\n",
      "grupo 1: (6.066666666666666,12.133333333333333]\n",
      "grupo 2: (12.133333333333333,18.2]\n",
      "grupo 3: (18.2,24.266666666666666]\n",
      "grupo 4: (24.266666666666666,30.333333333333332]\n",
      "grupo 5: (30.333333333333332,36.4]\n",
      "grupo 6: (36.4,42.46666666666667]\n",
      "grupo 7: (42.46666666666667,48.53333333333333]\n",
      "grupo 8: (48.53333333333333,54.599999999999994]\n",
      "grupo 9: (54.599999999999994,60.666666666666664]\n",
      "grupo 10: (60.666666666666664,66.73333333333333]\n",
      "grupo 11: (66.73333333333333,72.8]\n",
      "grupo 12: (72.8,78.86666666666666]\n",
      "grupo 13: (78.86666666666666,84.93333333333334]\n",
      "grupo 14: (84.93333333333334,91.0]\n",
      "-------------------------------------------------------------------\n",
      "grupos de ganacia por hora\n",
      "grupo 0: (-0.9375,11.6109375]\n",
      "grupo 1: (11.6109375,24.159375]\n",
      "grupo 2: (24.159375,36.7078125]\n",
      "grupo 3: (36.7078125,49.25625]\n",
      "grupo 4: (49.25625,61.8046875]\n",
      "grupo 5: (61.8046875,74.353125]\n",
      "grupo 6: (74.353125,86.9015625]\n",
      "grupo 7: (86.9015625,99.45]\n",
      "grupo 8: (99.45,111.99843750000001]\n",
      "grupo 9: (111.99843750000001,124.546875]\n",
      "grupo 10: (124.546875,137.0953125]\n",
      "grupo 11: (137.0953125,149.64375]\n",
      "grupo 12: (149.64375,162.19218750000002]\n",
      "grupo 13: (162.19218750000002,174.740625]\n",
      "grupo 14: (174.740625,187.2890625]\n",
      "grupo 15: (187.2890625,199.8375]\n",
      "grupo 16: (199.8375,212.3859375]\n",
      "grupo 17: (212.3859375,224.93437500000002]\n",
      "grupo 18: (224.93437500000002,237.4828125]\n",
      "grupo 19: (237.4828125,250.03125]\n",
      "grupo 20: (250.03125,262.57968750000003]\n",
      "grupo 21: (262.57968750000003,275.128125]\n",
      "grupo 22: (275.128125,287.6765625]\n",
      "grupo 23: (287.6765625,300.225]\n",
      "grupo 24: (300.225,312.7734375]\n",
      "grupo 25: (312.7734375,325.32187500000003]\n",
      "grupo 26: (325.32187500000003,337.8703125]\n",
      "grupo 27: (337.8703125,350.41875]\n",
      "grupo 28: (350.41875,362.9671875]\n",
      "grupo 29: (362.9671875,375.515625]\n",
      "grupo 30: (375.515625,388.06406250000003]\n",
      "grupo 31: (388.06406250000003,400.6125]\n",
      "grupo 32: (400.6125,413.1609375]\n",
      "grupo 33: (413.1609375,425.709375]\n",
      "grupo 34: (425.709375,438.2578125]\n",
      "grupo 35: (438.2578125,450.80625000000003]\n",
      "grupo 36: (450.80625000000003,463.3546875]\n",
      "grupo 37: (463.3546875,475.903125]\n",
      "grupo 38: (475.903125,488.4515625]\n",
      "grupo 39: (488.4515625,501.0]\n"
     ]
    }
   ],
   "source": [
    "minimo = min(df_limitado['tot_horas'])\n",
    "maximo = max(df_limitado['tot_horas'])\n",
    "num_grupo = 15\n",
    "df_limitado['grupo_horas'] = grupos(df_limitado['tot_horas'],minimo,maximo,num_grupo)\n",
    "print('grupos de horas')\n",
    "imprimeGrupo(minimo,maximo,num_grupo)\n",
    "print('-------------------------------------------------------------------')\n",
    "minimo = min(df_limitado['ganancia_hora'])\n",
    "maximo = max(df_limitado['ganancia_hora'])\n",
    "num_grupo = 40\n",
    "df_limitado['grupo_ganancia_hora'] = grupos(df_limitado['ganancia_hora'],minimo,maximo,num_grupo)\n",
    "#df_nuevo['grupo_ganancia_hora'] = grupos(df_nuevo['ganancia_hora'],minimo,maximo,num_grupo)\n",
    "print('grupos de ganacia por hora')\n",
    "imprimeGrupo(minimo,maximo,num_grupo)"
   ]
  },
  {
   "cell_type": "markdown",
   "id": "feeb492e",
   "metadata": {},
   "source": [
    "# DF a utilizar para las graficas"
   ]
  },
  {
   "cell_type": "markdown",
   "id": "5e7bf3a5",
   "metadata": {},
   "source": [
    "Separar la poblacion en niveles educativos (NIV) \\\n",
    "0 es sin educación \\\n",
    "1-3 básica \\\n",
    "4-6 media \\\n",
    "7-8 superior "
   ]
  },
  {
   "cell_type": "code",
   "execution_count": 11,
   "id": "f25743c5",
   "metadata": {},
   "outputs": [
    {
     "data": {
      "text/html": [
       "<div>\n",
       "<style scoped>\n",
       "    .dataframe tbody tr th:only-of-type {\n",
       "        vertical-align: middle;\n",
       "    }\n",
       "\n",
       "    .dataframe tbody tr th {\n",
       "        vertical-align: top;\n",
       "    }\n",
       "\n",
       "    .dataframe thead th {\n",
       "        text-align: right;\n",
       "    }\n",
       "</style>\n",
       "<table border=\"1\" class=\"dataframe\">\n",
       "  <thead>\n",
       "    <tr style=\"text-align: right;\">\n",
       "      <th></th>\n",
       "      <th>EDAD_V</th>\n",
       "      <th>SEXO</th>\n",
       "      <th>NIV</th>\n",
       "      <th>P5_1</th>\n",
       "      <th>P5_3_1</th>\n",
       "      <th>P5_3_2</th>\n",
       "      <th>P5_3_3</th>\n",
       "      <th>P5_3_4</th>\n",
       "      <th>P5_6_6</th>\n",
       "      <th>P5_7</th>\n",
       "      <th>P5_7A</th>\n",
       "      <th>tot_horas</th>\n",
       "      <th>tot_minutos</th>\n",
       "      <th>semanal</th>\n",
       "      <th>ganancia_hora</th>\n",
       "      <th>grupo_horas</th>\n",
       "      <th>grupo_ganancia_hora</th>\n",
       "    </tr>\n",
       "  </thead>\n",
       "  <tbody>\n",
       "    <tr>\n",
       "      <th>2</th>\n",
       "      <td>30</td>\n",
       "      <td>1</td>\n",
       "      <td>6</td>\n",
       "      <td>1</td>\n",
       "      <td>40</td>\n",
       "      <td>0</td>\n",
       "      <td>20</td>\n",
       "      <td>0</td>\n",
       "      <td>1.0</td>\n",
       "      <td>8300.0</td>\n",
       "      <td>3</td>\n",
       "      <td>60.0</td>\n",
       "      <td>0</td>\n",
       "      <td>2075.000000</td>\n",
       "      <td>34.583333</td>\n",
       "      <td>9</td>\n",
       "      <td>2</td>\n",
       "    </tr>\n",
       "    <tr>\n",
       "      <th>3</th>\n",
       "      <td>25</td>\n",
       "      <td>1</td>\n",
       "      <td>3</td>\n",
       "      <td>1</td>\n",
       "      <td>55</td>\n",
       "      <td>0</td>\n",
       "      <td>0</td>\n",
       "      <td>0</td>\n",
       "      <td>1.0</td>\n",
       "      <td>4000.0</td>\n",
       "      <td>2</td>\n",
       "      <td>55.0</td>\n",
       "      <td>0</td>\n",
       "      <td>2166.666667</td>\n",
       "      <td>39.393939</td>\n",
       "      <td>9</td>\n",
       "      <td>3</td>\n",
       "    </tr>\n",
       "    <tr>\n",
       "      <th>5</th>\n",
       "      <td>48</td>\n",
       "      <td>2</td>\n",
       "      <td>7</td>\n",
       "      <td>1</td>\n",
       "      <td>40</td>\n",
       "      <td>0</td>\n",
       "      <td>5</td>\n",
       "      <td>0</td>\n",
       "      <td>2.0</td>\n",
       "      <td>6000.0</td>\n",
       "      <td>3</td>\n",
       "      <td>45.0</td>\n",
       "      <td>0</td>\n",
       "      <td>1500.000000</td>\n",
       "      <td>33.333333</td>\n",
       "      <td>7</td>\n",
       "      <td>2</td>\n",
       "    </tr>\n",
       "    <tr>\n",
       "      <th>6</th>\n",
       "      <td>26</td>\n",
       "      <td>1</td>\n",
       "      <td>8</td>\n",
       "      <td>1</td>\n",
       "      <td>40</td>\n",
       "      <td>0</td>\n",
       "      <td>0</td>\n",
       "      <td>0</td>\n",
       "      <td>2.0</td>\n",
       "      <td>8000.0</td>\n",
       "      <td>3</td>\n",
       "      <td>40.0</td>\n",
       "      <td>0</td>\n",
       "      <td>2000.000000</td>\n",
       "      <td>50.000000</td>\n",
       "      <td>6</td>\n",
       "      <td>4</td>\n",
       "    </tr>\n",
       "    <tr>\n",
       "      <th>9</th>\n",
       "      <td>50</td>\n",
       "      <td>1</td>\n",
       "      <td>2</td>\n",
       "      <td>1</td>\n",
       "      <td>55</td>\n",
       "      <td>0</td>\n",
       "      <td>0</td>\n",
       "      <td>0</td>\n",
       "      <td>2.0</td>\n",
       "      <td>900.0</td>\n",
       "      <td>1</td>\n",
       "      <td>55.0</td>\n",
       "      <td>0</td>\n",
       "      <td>975.000000</td>\n",
       "      <td>17.727273</td>\n",
       "      <td>9</td>\n",
       "      <td>1</td>\n",
       "    </tr>\n",
       "    <tr>\n",
       "      <th>...</th>\n",
       "      <td>...</td>\n",
       "      <td>...</td>\n",
       "      <td>...</td>\n",
       "      <td>...</td>\n",
       "      <td>...</td>\n",
       "      <td>...</td>\n",
       "      <td>...</td>\n",
       "      <td>...</td>\n",
       "      <td>...</td>\n",
       "      <td>...</td>\n",
       "      <td>...</td>\n",
       "      <td>...</td>\n",
       "      <td>...</td>\n",
       "      <td>...</td>\n",
       "      <td>...</td>\n",
       "      <td>...</td>\n",
       "      <td>...</td>\n",
       "    </tr>\n",
       "    <tr>\n",
       "      <th>71397</th>\n",
       "      <td>44</td>\n",
       "      <td>2</td>\n",
       "      <td>3</td>\n",
       "      <td>1</td>\n",
       "      <td>25</td>\n",
       "      <td>0</td>\n",
       "      <td>0</td>\n",
       "      <td>0</td>\n",
       "      <td>2.0</td>\n",
       "      <td>400.0</td>\n",
       "      <td>1</td>\n",
       "      <td>25.0</td>\n",
       "      <td>0</td>\n",
       "      <td>433.333333</td>\n",
       "      <td>17.333333</td>\n",
       "      <td>4</td>\n",
       "      <td>1</td>\n",
       "    </tr>\n",
       "    <tr>\n",
       "      <th>71400</th>\n",
       "      <td>31</td>\n",
       "      <td>1</td>\n",
       "      <td>8</td>\n",
       "      <td>1</td>\n",
       "      <td>60</td>\n",
       "      <td>0</td>\n",
       "      <td>24</td>\n",
       "      <td>0</td>\n",
       "      <td>1.0</td>\n",
       "      <td>15000.0</td>\n",
       "      <td>3</td>\n",
       "      <td>84.0</td>\n",
       "      <td>0</td>\n",
       "      <td>3750.000000</td>\n",
       "      <td>44.642857</td>\n",
       "      <td>13</td>\n",
       "      <td>3</td>\n",
       "    </tr>\n",
       "    <tr>\n",
       "      <th>71401</th>\n",
       "      <td>23</td>\n",
       "      <td>2</td>\n",
       "      <td>6</td>\n",
       "      <td>1</td>\n",
       "      <td>40</td>\n",
       "      <td>0</td>\n",
       "      <td>8</td>\n",
       "      <td>0</td>\n",
       "      <td>2.0</td>\n",
       "      <td>2400.0</td>\n",
       "      <td>1</td>\n",
       "      <td>48.0</td>\n",
       "      <td>0</td>\n",
       "      <td>2600.000000</td>\n",
       "      <td>54.166667</td>\n",
       "      <td>7</td>\n",
       "      <td>4</td>\n",
       "    </tr>\n",
       "    <tr>\n",
       "      <th>71402</th>\n",
       "      <td>27</td>\n",
       "      <td>1</td>\n",
       "      <td>6</td>\n",
       "      <td>1</td>\n",
       "      <td>30</td>\n",
       "      <td>0</td>\n",
       "      <td>5</td>\n",
       "      <td>0</td>\n",
       "      <td>2.0</td>\n",
       "      <td>1800.0</td>\n",
       "      <td>1</td>\n",
       "      <td>35.0</td>\n",
       "      <td>0</td>\n",
       "      <td>1950.000000</td>\n",
       "      <td>55.714286</td>\n",
       "      <td>5</td>\n",
       "      <td>4</td>\n",
       "    </tr>\n",
       "    <tr>\n",
       "      <th>71403</th>\n",
       "      <td>29</td>\n",
       "      <td>2</td>\n",
       "      <td>6</td>\n",
       "      <td>1</td>\n",
       "      <td>15</td>\n",
       "      <td>0</td>\n",
       "      <td>0</td>\n",
       "      <td>0</td>\n",
       "      <td>1.0</td>\n",
       "      <td>3600.0</td>\n",
       "      <td>3</td>\n",
       "      <td>15.0</td>\n",
       "      <td>0</td>\n",
       "      <td>900.000000</td>\n",
       "      <td>60.000000</td>\n",
       "      <td>2</td>\n",
       "      <td>4</td>\n",
       "    </tr>\n",
       "  </tbody>\n",
       "</table>\n",
       "<p>35467 rows × 17 columns</p>\n",
       "</div>"
      ],
      "text/plain": [
       "       EDAD_V  SEXO  NIV  P5_1  P5_3_1  P5_3_2  P5_3_3  P5_3_4  P5_6_6  \\\n",
       "2          30     1    6     1      40       0      20       0     1.0   \n",
       "3          25     1    3     1      55       0       0       0     1.0   \n",
       "5          48     2    7     1      40       0       5       0     2.0   \n",
       "6          26     1    8     1      40       0       0       0     2.0   \n",
       "9          50     1    2     1      55       0       0       0     2.0   \n",
       "...       ...   ...  ...   ...     ...     ...     ...     ...     ...   \n",
       "71397      44     2    3     1      25       0       0       0     2.0   \n",
       "71400      31     1    8     1      60       0      24       0     1.0   \n",
       "71401      23     2    6     1      40       0       8       0     2.0   \n",
       "71402      27     1    6     1      30       0       5       0     2.0   \n",
       "71403      29     2    6     1      15       0       0       0     1.0   \n",
       "\n",
       "          P5_7  P5_7A  tot_horas  tot_minutos      semanal  ganancia_hora  \\\n",
       "2       8300.0      3       60.0            0  2075.000000      34.583333   \n",
       "3       4000.0      2       55.0            0  2166.666667      39.393939   \n",
       "5       6000.0      3       45.0            0  1500.000000      33.333333   \n",
       "6       8000.0      3       40.0            0  2000.000000      50.000000   \n",
       "9        900.0      1       55.0            0   975.000000      17.727273   \n",
       "...        ...    ...        ...          ...          ...            ...   \n",
       "71397    400.0      1       25.0            0   433.333333      17.333333   \n",
       "71400  15000.0      3       84.0            0  3750.000000      44.642857   \n",
       "71401   2400.0      1       48.0            0  2600.000000      54.166667   \n",
       "71402   1800.0      1       35.0            0  1950.000000      55.714286   \n",
       "71403   3600.0      3       15.0            0   900.000000      60.000000   \n",
       "\n",
       "       grupo_horas  grupo_ganancia_hora  \n",
       "2                9                    2  \n",
       "3                9                    3  \n",
       "5                7                    2  \n",
       "6                6                    4  \n",
       "9                9                    1  \n",
       "...            ...                  ...  \n",
       "71397            4                    1  \n",
       "71400           13                    3  \n",
       "71401            7                    4  \n",
       "71402            5                    4  \n",
       "71403            2                    4  \n",
       "\n",
       "[35467 rows x 17 columns]"
      ]
     },
     "execution_count": 11,
     "metadata": {},
     "output_type": "execute_result"
    }
   ],
   "source": [
    "df_nula = df_limitado.loc[df_limitado['NIV'] == 0]\n",
    "#df_nula = df_nuevo.loc[df_nuevo['NIV'] == 0]\n",
    "df_basica = df_limitado.loc[df_limitado['NIV'] > 0]\n",
    "#df_basica = df_nuevo.loc[df_nuevo['NIV'] > 0]\n",
    "df_basica = df_basica.loc[df_basica['NIV'] < 4]\n",
    "df_media = df_limitado.loc[df_limitado['NIV'] > 3]\n",
    "df_media = df_media.loc[df_media['NIV'] < 8]\n",
    "df_superior = df_limitado.loc[df_limitado['NIV'] > 7]\n",
    "df_limitado"
   ]
  },
  {
   "cell_type": "markdown",
   "id": "180139e0",
   "metadata": {},
   "source": [
    "### Licenciatura vs maestria doctorado"
   ]
  },
  {
   "cell_type": "code",
   "execution_count": 12,
   "id": "fd9cb404",
   "metadata": {},
   "outputs": [],
   "source": [
    "df_licenciatura = df_superior.loc[df_superior['NIV'] == 8]\n",
    "df_maestria_doctorado = df_superior.loc[df_superior['NIV'] == 9]"
   ]
  },
  {
   "cell_type": "markdown",
   "id": "41d60f14",
   "metadata": {},
   "source": [
    "### Hombres vs mujeres"
   ]
  },
  {
   "cell_type": "code",
   "execution_count": 13,
   "id": "6c48449c",
   "metadata": {},
   "outputs": [],
   "source": [
    "df_hombres = df_limitado.loc[df_limitado['SEXO'] == 1]\n",
    "df_mujeres = df_limitado.loc[df_limitado['SEXO'] == 2]"
   ]
  },
  {
   "cell_type": "markdown",
   "id": "d52e36db",
   "metadata": {},
   "source": [
    "### Formal vs informal"
   ]
  },
  {
   "cell_type": "code",
   "execution_count": 14,
   "id": "5352566e",
   "metadata": {},
   "outputs": [],
   "source": [
    "df_formal = df_limitado.loc[df_limitado['P5_6_6'] == 1]\n",
    "df_informal = df_limitado.loc[df_limitado['P5_6_6'] == 2]"
   ]
  },
  {
   "cell_type": "markdown",
   "id": "018efbae",
   "metadata": {},
   "source": [
    "## Nivel educativo"
   ]
  },
  {
   "cell_type": "code",
   "execution_count": 15,
   "id": "bfd15147",
   "metadata": {},
   "outputs": [
    {
     "data": {
      "image/png": "[encoded data removed]",
      "text/plain": [
       "<Figure size 1080x1080 with 1 Axes>"
      ]
     },
     "metadata": {},
     "output_type": "display_data"
    }
   ],
   "source": [
    "tot_muestra = len(df_limitado)\n",
    "tot_nula = len(df_nula)\n",
    "tot_basica = len(df_basica)\n",
    "tot_media = len(df_media)\n",
    "tot_superior = len(df_superior)\n",
    "\n",
    "arr_pie = [tot_nula/tot_muestra,tot_basica/tot_muestra,tot_media/tot_muestra,tot_superior/tot_muestra]\n",
    "mylabels = ['Nula','Básica','Media','Superior']\n",
    "plt.figure(figsize=(15,15))\n",
    "plt.title(\"Personas trabajando en mercado formal e informal en 2019,\\n por niveles de escolaridad \")\n",
    "plt.pie(arr_pie,labels = mylabels, autopct='%1.1f%%')\n",
    "plt.show()"
   ]
  },
  {
   "cell_type": "code",
   "execution_count": 16,
   "id": "6ba271de",
   "metadata": {},
   "outputs": [
    {
     "data": {
      "text/plain": [
       "<BarContainer object of 15 artists>"
      ]
     },
     "execution_count": 16,
     "metadata": {},
     "output_type": "execute_result"
    },
    {
     "data": {
      "image/png": "[encoded data removed]",
      "text/plain": [
       "<Figure size 720x720 with 1 Axes>"
      ]
     },
     "metadata": {
      "needs_background": "light"
     },
     "output_type": "display_data"
    }
   ],
   "source": [
    "y = df_nula['grupo_horas'].value_counts()\n",
    "x = y.keys()      \n",
    "y = y.values\n",
    "plt.figure(figsize=(10,10))\n",
    "plt.bar(x,y)"
   ]
  },
  {
   "cell_type": "code",
   "execution_count": 17,
   "id": "82a2d364",
   "metadata": {},
   "outputs": [
    {
     "data": {
      "text/plain": [
       "<BarContainer object of 410 artists>"
      ]
     },
     "execution_count": 17,
     "metadata": {},
     "output_type": "execute_result"
    },
    {
     "data": {
      "image/png": "[encoded data removed]",
      "text/plain": [
       "<Figure size 432x288 with 1 Axes>"
      ]
     },
     "metadata": {
      "needs_background": "light"
     },
     "output_type": "display_data"
    }
   ],
   "source": [
    "y = df_nula['ganancia_hora'].value_counts()\n",
    "x = y.keys()      \n",
    "y = y.values\n",
    "plt.bar(x,y)"
   ]
  },
  {
   "cell_type": "code",
   "execution_count": 18,
   "id": "fc8693d6",
   "metadata": {},
   "outputs": [
    {
     "data": {
      "text/plain": [
       "<BarContainer object of 20 artists>"
      ]
     },
     "execution_count": 18,
     "metadata": {},
     "output_type": "execute_result"
    },
    {
     "data": {
      "image/png": "[encoded data removed]",
      "text/plain": [
       "<Figure size 432x288 with 1 Axes>"
      ]
     },
     "metadata": {
      "needs_background": "light"
     },
     "output_type": "display_data"
    }
   ],
   "source": [
    "y = df_nula['grupo_ganancia_hora'].value_counts()\n",
    "x = y.keys()      \n",
    "y = y.values\n",
    "plt.bar(x,y)"
   ]
  },
  {
   "cell_type": "code",
   "execution_count": 19,
   "id": "c14b86ff",
   "metadata": {},
   "outputs": [
    {
     "data": {
      "text/plain": [
       "<BarContainer object of 15 artists>"
      ]
     },
     "execution_count": 19,
     "metadata": {},
     "output_type": "execute_result"
    },
    {
     "data": {
      "image/png": "[encoded data removed]",
      "text/plain": [
       "<Figure size 432x288 with 1 Axes>"
      ]
     },
     "metadata": {
      "needs_background": "light"
     },
     "output_type": "display_data"
    }
   ],
   "source": [
    "y = df_basica['grupo_horas'].value_counts()\n",
    "x = y.keys()      \n",
    "y = y.values\n",
    "plt.bar(x,y)"
   ]
  },
  {
   "cell_type": "code",
   "execution_count": 20,
   "id": "e50b0164",
   "metadata": {},
   "outputs": [
    {
     "data": {
      "text/plain": [
       "<BarContainer object of 37 artists>"
      ]
     },
     "execution_count": 20,
     "metadata": {},
     "output_type": "execute_result"
    },
    {
     "data": {
      "image/png": "[encoded data removed]",
      "text/plain": [
       "<Figure size 432x288 with 1 Axes>"
      ]
     },
     "metadata": {
      "needs_background": "light"
     },
     "output_type": "display_data"
    }
   ],
   "source": [
    "y = df_basica['grupo_ganancia_hora'].value_counts()\n",
    "x = y.keys()      \n",
    "y = y.values\n",
    "plt.bar(x,y)"
   ]
  },
  {
   "cell_type": "code",
   "execution_count": 21,
   "id": "7d8a0882",
   "metadata": {},
   "outputs": [
    {
     "data": {
      "text/plain": [
       "<BarContainer object of 52 artists>"
      ]
     },
     "execution_count": 21,
     "metadata": {},
     "output_type": "execute_result"
    },
    {
     "data": {
      "image/png": "[encoded data removed]",
      "text/plain": [
       "<Figure size 432x288 with 1 Axes>"
      ]
     },
     "metadata": {
      "needs_background": "light"
     },
     "output_type": "display_data"
    }
   ],
   "source": [
    "df_nuevo['grupo_ganancia_hora'] = grupos(df_nuevo['ganancia_hora'],minimo,maximo,num_grupo)\n",
    "df_basica = df_nuevo.loc[df_nuevo['NIV'] > 0]\n",
    "df_basica = df_basica.loc[df_basica['NIV'] < 4]\n",
    "y = df_basica['grupo_ganancia_hora'].value_counts()\n",
    "x = y.keys()      \n",
    "y = y.values\n",
    "plt.bar(x,y)"
   ]
  },
  {
   "cell_type": "code",
   "execution_count": 22,
   "id": "731543fa",
   "metadata": {},
   "outputs": [
    {
     "data": {
      "text/plain": [
       "<BarContainer object of 2219 artists>"
      ]
     },
     "execution_count": 22,
     "metadata": {},
     "output_type": "execute_result"
    },
    {
     "data": {
      "image/png": "[encoded data removed]",
      "text/plain": [
       "<Figure size 432x288 with 1 Axes>"
      ]
     },
     "metadata": {
      "needs_background": "light"
     },
     "output_type": "display_data"
    }
   ],
   "source": [
    "y = df_basica['ganancia_hora'].value_counts()\n",
    "x = y.keys()      \n",
    "y = y.values\n",
    "plt.bar(x,y)"
   ]
  },
  {
   "cell_type": "code",
   "execution_count": 23,
   "id": "b095e4be",
   "metadata": {},
   "outputs": [
    {
     "data": {
      "text/plain": [
       "<BarContainer object of 15 artists>"
      ]
     },
     "execution_count": 23,
     "metadata": {},
     "output_type": "execute_result"
    },
    {
     "data": {
      "image/png": "[encoded data removed]",
      "text/plain": [
       "<Figure size 432x288 with 1 Axes>"
      ]
     },
     "metadata": {
      "needs_background": "light"
     },
     "output_type": "display_data"
    }
   ],
   "source": [
    "y = df_media['grupo_horas'].value_counts()\n",
    "x = y.keys()      \n",
    "y = y.values\n",
    "plt.bar(x,y)"
   ]
  },
  {
   "cell_type": "code",
   "execution_count": 24,
   "id": "7e667961",
   "metadata": {},
   "outputs": [
    {
     "data": {
      "text/plain": [
       "<BarContainer object of 39 artists>"
      ]
     },
     "execution_count": 24,
     "metadata": {},
     "output_type": "execute_result"
    },
    {
     "data": {
      "image/png": "[encoded data removed]",
      "text/plain": [
       "<Figure size 432x288 with 1 Axes>"
      ]
     },
     "metadata": {
      "needs_background": "light"
     },
     "output_type": "display_data"
    }
   ],
   "source": [
    "y = df_media['grupo_ganancia_hora'].value_counts()\n",
    "x = y.keys()      \n",
    "y = y.values\n",
    "plt.bar(x,y)"
   ]
  },
  {
   "cell_type": "code",
   "execution_count": 25,
   "id": "09b56980",
   "metadata": {},
   "outputs": [
    {
     "data": {
      "text/plain": [
       "<BarContainer object of 15 artists>"
      ]
     },
     "execution_count": 25,
     "metadata": {},
     "output_type": "execute_result"
    },
    {
     "data": {
      "image/png": "[encoded data removed]",
      "text/plain": [
       "<Figure size 432x288 with 1 Axes>"
      ]
     },
     "metadata": {
      "needs_background": "light"
     },
     "output_type": "display_data"
    }
   ],
   "source": [
    "y = df_superior['grupo_horas'].value_counts()\n",
    "x = y.keys()      \n",
    "y = y.values\n",
    "plt.bar(x,y)"
   ]
  },
  {
   "cell_type": "code",
   "execution_count": 26,
   "id": "9a67aa8e",
   "metadata": {},
   "outputs": [
    {
     "data": {
      "text/plain": [
       "<BarContainer object of 40 artists>"
      ]
     },
     "execution_count": 26,
     "metadata": {},
     "output_type": "execute_result"
    },
    {
     "data": {
      "image/png": "[encoded data removed]",
      "text/plain": [
       "<Figure size 432x288 with 1 Axes>"
      ]
     },
     "metadata": {
      "needs_background": "light"
     },
     "output_type": "display_data"
    }
   ],
   "source": [
    "y = df_superior['grupo_ganancia_hora'].value_counts()\n",
    "x = y.keys()      \n",
    "y = y.values\n",
    "plt.bar(x,y)"
   ]
  },
  {
   "cell_type": "markdown",
   "id": "9c71147d",
   "metadata": {},
   "source": [
    "## Licenciatura vs maestria y doctorado"
   ]
  },
  {
   "cell_type": "code",
   "execution_count": 27,
   "id": "6b1134c1",
   "metadata": {},
   "outputs": [
    {
     "data": {
      "image/png": "[encoded data removed]",
      "text/plain": [
       "<Figure size 1080x1080 with 1 Axes>"
      ]
     },
     "metadata": {},
     "output_type": "display_data"
    }
   ],
   "source": [
    "tot_licenciatura = len(df_licenciatura)\n",
    "tot_mestria_doctorado = len(df_maestria_doctorado)\n",
    "arr_pie = [tot_licenciatura/tot_superior,tot_mestria_doctorado/tot_superior]\n",
    "mylabels = ['Licenciatura','Mestria y doctorado']\n",
    "\n",
    "plt.figure(figsize=(15,15))\n",
    "plt.title(\"Licenciatura vs maestria y doctorado \")\n",
    "plt.pie(arr_pie,labels = mylabels, autopct='%1.1f%%')\n",
    "plt.show()"
   ]
  },
  {
   "cell_type": "code",
   "execution_count": 28,
   "id": "bf9e2947",
   "metadata": {},
   "outputs": [
    {
     "data": {
      "text/plain": [
       "<BarContainer object of 15 artists>"
      ]
     },
     "execution_count": 28,
     "metadata": {},
     "output_type": "execute_result"
    },
    {
     "data": {
      "image/png": "[encoded data removed]",
      "text/plain": [
       "<Figure size 432x288 with 1 Axes>"
      ]
     },
     "metadata": {
      "needs_background": "light"
     },
     "output_type": "display_data"
    }
   ],
   "source": [
    "y = df_licenciatura['grupo_horas'].value_counts()\n",
    "x = y.keys()      \n",
    "y = y.values\n",
    "plt.bar(x,y)"
   ]
  },
  {
   "cell_type": "code",
   "execution_count": 29,
   "id": "03920958",
   "metadata": {},
   "outputs": [
    {
     "data": {
      "text/plain": [
       "<BarContainer object of 40 artists>"
      ]
     },
     "execution_count": 29,
     "metadata": {},
     "output_type": "execute_result"
    },
    {
     "data": {
      "image/png": "[encoded data removed]",
      "text/plain": [
       "<Figure size 432x288 with 1 Axes>"
      ]
     },
     "metadata": {
      "needs_background": "light"
     },
     "output_type": "display_data"
    }
   ],
   "source": [
    "y = df_licenciatura['grupo_ganancia_hora'].value_counts()\n",
    "x = y.keys()      \n",
    "y = y.values\n",
    "plt.bar(x,y)"
   ]
  },
  {
   "cell_type": "code",
   "execution_count": 30,
   "id": "76b57ba7",
   "metadata": {},
   "outputs": [
    {
     "data": {
      "text/plain": [
       "<BarContainer object of 15 artists>"
      ]
     },
     "execution_count": 30,
     "metadata": {},
     "output_type": "execute_result"
    },
    {
     "data": {
      "image/png": "[encoded data removed]",
      "text/plain": [
       "<Figure size 432x288 with 1 Axes>"
      ]
     },
     "metadata": {
      "needs_background": "light"
     },
     "output_type": "display_data"
    }
   ],
   "source": [
    "y = df_maestria_doctorado['grupo_horas'].value_counts()\n",
    "x = y.keys()      \n",
    "y = y.values\n",
    "plt.bar(x,y)"
   ]
  },
  {
   "cell_type": "code",
   "execution_count": 31,
   "id": "5a7e2f91",
   "metadata": {},
   "outputs": [
    {
     "data": {
      "text/plain": [
       "<BarContainer object of 36 artists>"
      ]
     },
     "execution_count": 31,
     "metadata": {},
     "output_type": "execute_result"
    },
    {
     "data": {
      "image/png": "[encoded data removed]",
      "text/plain": [
       "<Figure size 432x288 with 1 Axes>"
      ]
     },
     "metadata": {
      "needs_background": "light"
     },
     "output_type": "display_data"
    }
   ],
   "source": [
    "y = df_maestria_doctorado['grupo_ganancia_hora'].value_counts()\n",
    "x = y.keys()      \n",
    "y = y.values\n",
    "plt.bar(x,y)"
   ]
  },
  {
   "cell_type": "markdown",
   "id": "323cbe43",
   "metadata": {},
   "source": [
    "## Hombres vs mujeres"
   ]
  },
  {
   "cell_type": "code",
   "execution_count": 32,
   "id": "c38a6199",
   "metadata": {},
   "outputs": [
    {
     "data": {
      "image/png": "[encoded data removed]",
      "text/plain": [
       "<Figure size 1080x1080 with 1 Axes>"
      ]
     },
     "metadata": {},
     "output_type": "display_data"
    }
   ],
   "source": [
    "tot_hombres = len(df_hombres)\n",
    "tot_mujeres = len(df_mujeres)\n",
    "arr_pie = [tot_hombres/tot_muestra,tot_mujeres/tot_muestra]\n",
    "mylabels = ['Hombres','Mujeres']\n",
    "\n",
    "plt.figure(figsize=(15,15))\n",
    "plt.title(\"Hombres vs mujeres \")\n",
    "plt.pie(arr_pie,labels = mylabels, autopct='%1.1f%%')\n",
    "plt.show()"
   ]
  },
  {
   "cell_type": "code",
   "execution_count": 33,
   "id": "b4aedc5b",
   "metadata": {},
   "outputs": [
    {
     "name": "stdout",
     "output_type": "stream",
     "text": [
      "20962\n",
      "14505\n"
     ]
    }
   ],
   "source": [
    "print(tot_hombres)\n",
    "print(tot_mujeres)"
   ]
  },
  {
   "cell_type": "code",
   "execution_count": 34,
   "id": "a3bcdd34",
   "metadata": {},
   "outputs": [
    {
     "data": {
      "text/plain": [
       "<BarContainer object of 15 artists>"
      ]
     },
     "execution_count": 34,
     "metadata": {},
     "output_type": "execute_result"
    },
    {
     "data": {
      "image/png": "[encoded data removed]",
      "text/plain": [
       "<Figure size 432x288 with 1 Axes>"
      ]
     },
     "metadata": {
      "needs_background": "light"
     },
     "output_type": "display_data"
    }
   ],
   "source": [
    "y = df_hombres['grupo_horas'].value_counts()\n",
    "x = y.keys()      \n",
    "y = y.values\n",
    "plt.bar(x,y)"
   ]
  },
  {
   "cell_type": "code",
   "execution_count": 35,
   "id": "1c67c37b",
   "metadata": {},
   "outputs": [
    {
     "data": {
      "text/plain": [
       "<BarContainer object of 40 artists>"
      ]
     },
     "execution_count": 35,
     "metadata": {},
     "output_type": "execute_result"
    },
    {
     "data": {
      "image/png": "[encoded data removed]",
      "text/plain": [
       "<Figure size 432x288 with 1 Axes>"
      ]
     },
     "metadata": {
      "needs_background": "light"
     },
     "output_type": "display_data"
    }
   ],
   "source": [
    "y = df_hombres['grupo_ganancia_hora'].value_counts()\n",
    "x = y.keys()      \n",
    "y = y.values\n",
    "plt.bar(x,y)"
   ]
  },
  {
   "cell_type": "code",
   "execution_count": 36,
   "id": "e8753fd1",
   "metadata": {},
   "outputs": [
    {
     "data": {
      "text/plain": [
       "<BarContainer object of 15 artists>"
      ]
     },
     "execution_count": 36,
     "metadata": {},
     "output_type": "execute_result"
    },
    {
     "data": {
      "image/png": "[encoded data removed]",
      "text/plain": [
       "<Figure size 432x288 with 1 Axes>"
      ]
     },
     "metadata": {
      "needs_background": "light"
     },
     "output_type": "display_data"
    }
   ],
   "source": [
    "y = df_mujeres['grupo_horas'].value_counts()\n",
    "x = y.keys()      \n",
    "y = y.values\n",
    "plt.bar(x,y)"
   ]
  },
  {
   "cell_type": "code",
   "execution_count": 37,
   "id": "479b9fec",
   "metadata": {},
   "outputs": [
    {
     "data": {
      "text/plain": [
       "<BarContainer object of 39 artists>"
      ]
     },
     "execution_count": 37,
     "metadata": {},
     "output_type": "execute_result"
    },
    {
     "data": {
      "image/png": "[encoded data removed]",
      "text/plain": [
       "<Figure size 432x288 with 1 Axes>"
      ]
     },
     "metadata": {
      "needs_background": "light"
     },
     "output_type": "display_data"
    }
   ],
   "source": [
    "y = df_mujeres['grupo_ganancia_hora'].value_counts()\n",
    "x = y.keys()      \n",
    "y = y.values\n",
    "plt.bar(x,y)"
   ]
  },
  {
   "cell_type": "markdown",
   "id": "dc245638",
   "metadata": {},
   "source": [
    "## Formal vs informal"
   ]
  },
  {
   "cell_type": "code",
   "execution_count": 38,
   "id": "102ad230",
   "metadata": {},
   "outputs": [
    {
     "data": {
      "image/png": "[encoded data removed]",
      "text/plain": [
       "<Figure size 1080x1080 with 1 Axes>"
      ]
     },
     "metadata": {},
     "output_type": "display_data"
    }
   ],
   "source": [
    "tot_formal = len(df_formal)\n",
    "tot_informal = len(df_informal)\n",
    "tot_formal_informal = tot_formal + tot_informal\n",
    "arr_pie = [tot_formal/tot_formal_informal,tot_informal/tot_formal_informal]\n",
    "mylabels = ['Formal','Informal']\n",
    "\n",
    "plt.figure(figsize=(15,15))\n",
    "plt.title(\"Informal vs formal \")\n",
    "plt.pie(arr_pie,labels = mylabels, autopct='%1.1f%%')\n",
    "plt.show()"
   ]
  },
  {
   "cell_type": "code",
   "execution_count": 39,
   "id": "3e1d8219",
   "metadata": {},
   "outputs": [
    {
     "data": {
      "text/plain": [
       "<BarContainer object of 15 artists>"
      ]
     },
     "execution_count": 39,
     "metadata": {},
     "output_type": "execute_result"
    },
    {
     "data": {
      "image/png": "[encoded data removed]",
      "text/plain": [
       "<Figure size 432x288 with 1 Axes>"
      ]
     },
     "metadata": {
      "needs_background": "light"
     },
     "output_type": "display_data"
    }
   ],
   "source": [
    "y = df_formal['grupo_horas'].value_counts()\n",
    "x = y.keys()      \n",
    "y = y.values\n",
    "plt.bar(x,y)"
   ]
  },
  {
   "cell_type": "code",
   "execution_count": 40,
   "id": "b4525e61",
   "metadata": {},
   "outputs": [
    {
     "data": {
      "text/plain": [
       "<BarContainer object of 39 artists>"
      ]
     },
     "execution_count": 40,
     "metadata": {},
     "output_type": "execute_result"
    },
    {
     "data": {
      "image/png": "[encoded data removed]",
      "text/plain": [
       "<Figure size 432x288 with 1 Axes>"
      ]
     },
     "metadata": {
      "needs_background": "light"
     },
     "output_type": "display_data"
    }
   ],
   "source": [
    "y = df_formal['grupo_ganancia_hora'].value_counts()\n",
    "x = y.keys()      \n",
    "y = y.values\n",
    "plt.bar(x,y)"
   ]
  },
  {
   "cell_type": "code",
   "execution_count": 41,
   "id": "b74b9b86",
   "metadata": {},
   "outputs": [
    {
     "data": {
      "text/plain": [
       "<BarContainer object of 15 artists>"
      ]
     },
     "execution_count": 41,
     "metadata": {},
     "output_type": "execute_result"
    },
    {
     "data": {
      "image/png": "[encoded data removed]",
      "text/plain": [
       "<Figure size 432x288 with 1 Axes>"
      ]
     },
     "metadata": {
      "needs_background": "light"
     },
     "output_type": "display_data"
    }
   ],
   "source": [
    "y = df_informal['grupo_horas'].value_counts()\n",
    "x = y.keys()      \n",
    "y = y.values\n",
    "plt.bar(x,y)"
   ]
  },
  {
   "cell_type": "code",
   "execution_count": 42,
   "id": "b9917810",
   "metadata": {},
   "outputs": [
    {
     "data": {
      "text/plain": [
       "<BarContainer object of 36 artists>"
      ]
     },
     "execution_count": 42,
     "metadata": {},
     "output_type": "execute_result"
    },
    {
     "data": {
      "image/png": "[encoded data removed]",
      "text/plain": [
       "<Figure size 432x288 with 1 Axes>"
      ]
     },
     "metadata": {
      "needs_background": "light"
     },
     "output_type": "display_data"
    }
   ],
   "source": [
    "y = df_informal['grupo_ganancia_hora'].value_counts()\n",
    "x = y.keys()      \n",
    "y = y.values\n",
    "plt.bar(x,y)"
   ]
  },
  {
   "cell_type": "markdown",
   "id": "5131f25d",
   "metadata": {},
   "source": [
    "# Intervalos de confianza"
   ]
  },
  {
   "cell_type": "markdown",
   "id": "b84634e7",
   "metadata": {},
   "source": [
    "## Nivel educativo"
   ]
  },
  {
   "cell_type": "code",
   "execution_count": 43,
   "id": "601bc89c",
   "metadata": {},
   "outputs": [
    {
     "name": "stdout",
     "output_type": "stream",
     "text": [
      "Intervalo de confinza para horas trabajadas con alfa del 0.05\n",
      "Intervalo de confinza para horas trabajadas con educacion nula : [40.59472478438176, 43.257222034231724]\n",
      "Intervalo de confinza para horas trabajadas con educacion básica : [45.09101414914455, 45.68460685005298]\n",
      "Intervalo de confinza para horas trabajadas con educacion media : [45.657908872356295, 46.434950280591515]\n",
      "Intervalo de confinza para horas trabajadas con educacion superior : [43.13106092736935, 43.88867360485072]\n",
      "-------------------------------------------------------------------------------------\n",
      "Intervalo de confinza para el ingreso por hora con alfa del 0.05\n",
      "Intervalo de confinza para el ingreso por hora con educacion nula : [27.354377642910006, 31.404589830649737]\n",
      "Intervalo de confinza para el ingreso por hora con educacion básica : [37.75177208621263, 39.22968501653195]\n",
      "Intervalo de confinza para el ingreso por hora con educacion media : [45.5389845160865, 47.797089153829404]\n",
      "Intervalo de confinza para el ingreso por hora con educacion superior : [79.1411434531984, 86.17919943034363]\n"
     ]
    }
   ],
   "source": [
    "df_nula = df_nuevo.loc[df_nuevo['NIV'] == 0]\n",
    "df_basica = df_nuevo.loc[df_nuevo['NIV'] > 0]\n",
    "df_basica = df_basica.loc[df_basica['NIV'] < 4]\n",
    "df_media = df_nuevo.loc[df_nuevo['NIV'] > 3]\n",
    "df_media = df_media.loc[df_media['NIV'] < 8]\n",
    "df_superior = df_nuevo.loc[df_nuevo['NIV'] > 7]\n",
    "\n",
    "alfa = .05\n",
    "arr_horas = [df_nula['tot_horas'],df_basica['tot_horas'],df_media['tot_horas'],df_superior['tot_horas']]\n",
    "arr_pago_hora = [df_nula['ganancia_hora'],df_basica['ganancia_hora'],df_media['ganancia_hora'],df_superior['ganancia_hora']]\n",
    "arr_inter_horas = arrInterConfianza(intervaloDeConfVarDesc,arr_horas,alfa)\n",
    "arr_inter_pago_hora = arrInterConfianza(intervaloDeConfVarDesc,arr_pago_hora,alfa)\n",
    "\n",
    "print('Intervalo de confinza para horas trabajadas con alfa del ' + str(alfa))\n",
    "print('Intervalo de confinza para horas trabajadas con educacion nula : ' + str(arr_inter_horas[0]))\n",
    "print('Intervalo de confinza para horas trabajadas con educacion básica : ' + str(arr_inter_horas[1]))\n",
    "print('Intervalo de confinza para horas trabajadas con educacion media : ' + str(arr_inter_horas[2]))\n",
    "print('Intervalo de confinza para horas trabajadas con educacion superior : ' + str(arr_inter_horas[3]))\n",
    "print('-------------------------------------------------------------------------------------')\n",
    "print('Intervalo de confinza para el ingreso por hora con alfa del ' + str(alfa))\n",
    "print('Intervalo de confinza para el ingreso por hora con educacion nula : ' + str(arr_inter_pago_hora[0]))\n",
    "print('Intervalo de confinza para el ingreso por hora con educacion básica : ' + str(arr_inter_pago_hora[1]))\n",
    "print('Intervalo de confinza para el ingreso por hora con educacion media : ' + str(arr_inter_pago_hora[2]))\n",
    "print('Intervalo de confinza para el ingreso por hora con educacion superior : ' + str(arr_inter_pago_hora[3]))"
   ]
  },
  {
   "cell_type": "code",
   "execution_count": 44,
   "id": "961c265e",
   "metadata": {},
   "outputs": [
    {
     "name": "stdout",
     "output_type": "stream",
     "text": [
      "Intervalo de confinza para horas trabajadas con alfa del 0.1\n",
      "Intervalo de confinza para horas trabajadas con educacion nula : [40.80905616426046, 43.04289065435302]\n",
      "Intervalo de confinza para horas trabajadas con educacion básica : [45.13873511111906, 45.63688588807847]\n",
      "Intervalo de confinza para horas trabajadas con educacion media : [45.72038249642844, 46.37247665651937]\n",
      "Intervalo de confinza para horas trabajadas con educacion superior : [43.19197456439088, 43.82775996782919]\n",
      "-------------------------------------------------------------------------------------\n",
      "Intervalo de confinza para el ingreso por hora con alfa del 0.1\n",
      "Intervalo de confinza para el ingreso por hora con educacion nula : [27.680420258371377, 31.078547215188365]\n",
      "Intervalo de confinza para el ingreso por hora con educacion básica : [37.870586597646955, 39.11087050509763]\n",
      "Intervalo de confinza para el ingreso por hora con educacion media : [45.720534660980725, 47.61553900893518]\n",
      "Intervalo de confinza para el ingreso por hora con educacion superior : [79.707017810732, 85.61332507281003]\n"
     ]
    }
   ],
   "source": [
    "alfa = .1\n",
    "arr_inter_horas = arrInterConfianza(intervaloDeConfVarDesc,arr_horas,alfa)\n",
    "arr_inter_pago_hora = arrInterConfianza(intervaloDeConfVarDesc,arr_pago_hora,alfa)\n",
    "\n",
    "print('Intervalo de confinza para horas trabajadas con alfa del ' + str(alfa))\n",
    "print('Intervalo de confinza para horas trabajadas con educacion nula : ' + str(arr_inter_horas[0]))\n",
    "print('Intervalo de confinza para horas trabajadas con educacion básica : ' + str(arr_inter_horas[1]))\n",
    "print('Intervalo de confinza para horas trabajadas con educacion media : ' + str(arr_inter_horas[2]))\n",
    "print('Intervalo de confinza para horas trabajadas con educacion superior : ' + str(arr_inter_horas[3]))\n",
    "print('-------------------------------------------------------------------------------------')\n",
    "print('Intervalo de confinza para el ingreso por hora con alfa del ' + str(alfa))\n",
    "print('Intervalo de confinza para el ingreso por hora con educacion nula : ' + str(arr_inter_pago_hora[0]))\n",
    "print('Intervalo de confinza para el ingreso por hora con educacion básica : ' + str(arr_inter_pago_hora[1]))\n",
    "print('Intervalo de confinza para el ingreso por hora con educacion media : ' + str(arr_inter_pago_hora[2]))\n",
    "print('Intervalo de confinza para el ingreso por hora con educacion superior : ' + str(arr_inter_pago_hora[3]))"
   ]
  },
  {
   "cell_type": "markdown",
   "id": "dc53aba1",
   "metadata": {},
   "source": [
    "## Licenciatura vs maestria o doctorado"
   ]
  },
  {
   "cell_type": "code",
   "execution_count": 45,
   "id": "7e38f1c2",
   "metadata": {},
   "outputs": [
    {
     "name": "stdout",
     "output_type": "stream",
     "text": [
      "736\n",
      "Intervalo de confinza para horas trabajadas con alfa del 0.05\n",
      "Intervalo de confinza para horas trabajadas con licenciatura : [42.97511538781393, 43.78016904969495]\n",
      "Intervalo de confinza para horas trabajadas con maestria o doctorado : [43.686060065491084, 45.8664308765379]\n",
      "Intervalo de confinza para diferencia de horas promedio trabajadas : [-2.6930255107175247, -0.10418099380258039]\n",
      "-------------------------------------------------------------------------------------\n",
      "Intervalo de confinza para el ingreso por hora con alfa del 0.05\n",
      "Intervalo de confinza para el ingreso por hora con licenciatura : [27.680420258371377, 31.078547215188365]\n",
      "Intervalo de confinza para el ingreso por hora con maestria o doctorado : [37.870586597646955, 39.11087050509763]\n",
      "Intervalo de confinza para diferencia de ingreso por hora promedio : [-53.78683688240884, -29.801913958705192]\n"
     ]
    }
   ],
   "source": [
    "df_licenciatura = df_superior.loc[df_superior['NIV'] == 8]\n",
    "df_maestria_doctorado = df_superior.loc[df_superior['NIV'] == 9]\n",
    "print(len(df_maestria_doctorado))\n",
    "alfa = .05\n",
    "arr_horas = [df_licenciatura['tot_horas'],df_maestria_doctorado['tot_horas']]\n",
    "arr_pago_hora = [df_licenciatura['ganancia_hora'],df_maestria_doctorado['ganancia_hora']]\n",
    "arr_inter_horas = arrInterConfianza(intervaloDeConfVarDesc,arr_horas,alfa)\n",
    "arr_inter_pago = arrInterConfianza(intervaloDeConfVarDesc,arr_pago_hora,alfa)\n",
    "\n",
    "x = [df_licenciatura['tot_horas'],df_maestria_doctorado['tot_horas']]\n",
    "dif_media_horas = intervaloDeConfDifMedias(x,alfa)\n",
    "\n",
    "x = [df_licenciatura['ganancia_hora'],df_maestria_doctorado['ganancia_hora']]\n",
    "dif_media_ganancia = intervaloDeConfDifMedias(x,alfa)\n",
    "\n",
    "print('Intervalo de confinza para horas trabajadas con alfa del ' + str(alfa))\n",
    "print('Intervalo de confinza para horas trabajadas con licenciatura : ' + str(arr_inter_horas[0]))\n",
    "print('Intervalo de confinza para horas trabajadas con maestria o doctorado : ' + str(arr_inter_horas[1]))\n",
    "print('Intervalo de confinza para diferencia de horas promedio trabajadas : ' + str(dif_media_horas))\n",
    "print('-------------------------------------------------------------------------------------')\n",
    "print('Intervalo de confinza para el ingreso por hora con alfa del ' + str(alfa))\n",
    "print('Intervalo de confinza para el ingreso por hora con licenciatura : ' + str(arr_inter_pago_hora[0]))\n",
    "print('Intervalo de confinza para el ingreso por hora con maestria o doctorado : ' + str(arr_inter_pago_hora[1]))\n",
    "print('Intervalo de confinza para diferencia de ingreso por hora promedio : ' + str(dif_media_ganancia))"
   ]
  },
  {
   "cell_type": "code",
   "execution_count": 46,
   "id": "a41008ce",
   "metadata": {},
   "outputs": [
    {
     "name": "stdout",
     "output_type": "stream",
     "text": [
      "Intervalo de confinza para horas trabajadas con alfa del 0.1\n",
      "Intervalo de confinza para horas trabajadas con licenciatura : [43.03984466603586, 43.715439771473015]\n",
      "Intervalo de confinza para horas trabajadas con maestria y doctorado : [43.86168692306858, 45.6908040189604]\n",
      "Intervalo de confinza para diferencia de horas promedio trabajadas : [-2.484877015114986, -0.31232948940511873]\n",
      "-------------------------------------------------------------------------------------\n",
      "Intervalo de confinza para el ingreso por hora con alfa del 0.1\n",
      "Intervalo de confinza para el ingreso por hora con licenciatura : [27.680420258371377, 31.078547215188365]\n",
      "Intervalo de confinza para el ingreso por hora con maestria y doctorado : [37.870586597646955, 39.11087050509763]\n",
      "Intervalo de confinza para diferencia de ingreso por hora promedio : [-51.85839908280661, -31.73035175830742]\n"
     ]
    }
   ],
   "source": [
    "alfa = .1\n",
    "arr_horas = [df_licenciatura['tot_horas'],df_maestria_doctorado['tot_horas']]\n",
    "arr_pago_hora = [df_licenciatura['ganancia_hora'],df_maestria_doctorado['ganancia_hora']]\n",
    "arr_inter_horas = arrInterConfianza(intervaloDeConfVarDesc,arr_horas,alfa)\n",
    "arr_inter_pago = arrInterConfianza(intervaloDeConfVarDesc,arr_pago_hora,alfa)\n",
    "\n",
    "x = [df_licenciatura['tot_horas'],df_maestria_doctorado['tot_horas']]\n",
    "dif_media_horas = intervaloDeConfDifMedias(x,alfa)\n",
    "x = [df_licenciatura['ganancia_hora'],df_maestria_doctorado['ganancia_hora']]\n",
    "dif_media_ganancia = intervaloDeConfDifMedias(x,alfa)\n",
    "\n",
    "print('Intervalo de confinza para horas trabajadas con alfa del ' + str(alfa))\n",
    "print('Intervalo de confinza para horas trabajadas con licenciatura : ' + str(arr_inter_horas[0]))\n",
    "print('Intervalo de confinza para horas trabajadas con maestria y doctorado : ' + str(arr_inter_horas[1]))\n",
    "print('Intervalo de confinza para diferencia de horas promedio trabajadas : ' + str(dif_media_horas))\n",
    "print('-------------------------------------------------------------------------------------')\n",
    "print('Intervalo de confinza para el ingreso por hora con alfa del ' + str(alfa))\n",
    "print('Intervalo de confinza para el ingreso por hora con licenciatura : ' + str(arr_inter_pago_hora[0]))\n",
    "print('Intervalo de confinza para el ingreso por hora con maestria y doctorado : ' + str(arr_inter_pago_hora[1]))\n",
    "print('Intervalo de confinza para diferencia de ingreso por hora promedio : ' + str(dif_media_ganancia))"
   ]
  },
  {
   "cell_type": "markdown",
   "id": "7f0df8d4",
   "metadata": {},
   "source": [
    "### Cociente de varianzas"
   ]
  },
  {
   "cell_type": "code",
   "execution_count": 47,
   "id": "af81a5c6",
   "metadata": {},
   "outputs": [
    {
     "name": "stdout",
     "output_type": "stream",
     "text": [
      "intervalo de confianza para cociente de varianzas del total de horas trabajadas en la semana[0.6874179645574369, 0.85231433669871]\n",
      "------------------------------------------------------------------------------------------------------------\n",
      "intervalo de confianza para cociente de varianzas entre total ingreso por hora[0.3902648032846033, 0.4838807015503544]\n"
     ]
    }
   ],
   "source": [
    "alfa = .05\n",
    "x = [df_licenciatura['tot_horas'],df_maestria_doctorado['tot_horas']]\n",
    "cociente_var = intervaloDeConfCocienteDeVar(x,alfa)\n",
    "print('intervalo de confianza para cociente de varianzas del total de horas trabajadas en la semana' + str(cociente_var))\n",
    "\n",
    "print('------------------------------------------------------------------------------------------------------------')\n",
    "\n",
    "x = [df_licenciatura['ganancia_hora'],df_maestria_doctorado['ganancia_hora']]\n",
    "cociente_var = intervaloDeConfCocienteDeVar(x,alfa)\n",
    "print('intervalo de confianza para cociente de varianzas entre total ingreso por hora' + str(cociente_var))"
   ]
  },
  {
   "cell_type": "markdown",
   "id": "aa19961f",
   "metadata": {},
   "source": [
    "## Hombre vs mujeres"
   ]
  },
  {
   "cell_type": "code",
   "execution_count": 48,
   "id": "8eeee3a5",
   "metadata": {},
   "outputs": [
    {
     "name": "stdout",
     "output_type": "stream",
     "text": [
      "Intervalo de confinza para horas trabajadas con alfa del 0.05\n",
      "Intervalo de confinza para horas trabajadas de los hombres : [48.65127484318559, 49.153767108457615]\n",
      "Intervalo de confinza para horas trabajadas de las mujeres  : [39.116859790923534, 39.73045438062437]\n",
      "Intervalo de confinza para diferencia de horas promedio trabajadas : [9.083017005684301, 9.874710774410996]\n",
      "-------------------------------------------------------------------------------------\n",
      "Intervalo de confinza para el ingreso por hora con alfa del 0.05\n",
      "Intervalo de confinza para el ingreso por hora de los hombres : [48.984590876634584, 51.69204534641649]\n",
      "Intervalo de confinza para el ingreso por hora de las mujeres : [48.13658547705553, 50.24698346207053]\n",
      "Intervalo de confinza para diferencia de ingreso por hora promedio : [-0.7090337252620389, 3.002101009187051]\n"
     ]
    }
   ],
   "source": [
    "df_hombres = df_nuevo.loc[df_nuevo['SEXO'] == 1]\n",
    "df_mujeres = df_nuevo.loc[df_nuevo['SEXO'] == 2]\n",
    "\n",
    "alfa = .05\n",
    "\n",
    "\n",
    "arr_horas = [df_hombres['tot_horas'],df_mujeres['tot_horas']]\n",
    "arr_pago_hora = [df_hombres['ganancia_hora'],df_mujeres['ganancia_hora']]\n",
    "arr_inter_horas = arrInterConfianza(intervaloDeConfVarDesc,arr_horas,alfa)\n",
    "arr_inter_pago_hora = arrInterConfianza(intervaloDeConfVarDesc,arr_pago_hora,alfa)\n",
    "\n",
    "x = [df_hombres['tot_horas'],df_mujeres['tot_horas']]\n",
    "dif_media_horas = intervaloDeConfDifMedias(x,alfa)\n",
    "\n",
    "x = [df_hombres['ganancia_hora'],df_mujeres['ganancia_hora']]\n",
    "dif_media_ganancia = intervaloDeConfDifMedias(x,alfa)\n",
    "\n",
    "print('Intervalo de confinza para horas trabajadas con alfa del ' + str(alfa))\n",
    "print('Intervalo de confinza para horas trabajadas de los hombres : ' + str(arr_inter_horas[0]))\n",
    "print('Intervalo de confinza para horas trabajadas de las mujeres  : ' + str(arr_inter_horas[1]))\n",
    "print('Intervalo de confinza para diferencia de horas promedio trabajadas : ' + str(dif_media_horas))\n",
    "print('-------------------------------------------------------------------------------------')\n",
    "print('Intervalo de confinza para el ingreso por hora con alfa del ' + str(alfa))\n",
    "print('Intervalo de confinza para el ingreso por hora de los hombres : ' + str(arr_inter_pago_hora[0]))\n",
    "print('Intervalo de confinza para el ingreso por hora de las mujeres : ' + str(arr_inter_pago_hora[1]))\n",
    "print('Intervalo de confinza para diferencia de ingreso por hora promedio : ' + str(dif_media_ganancia))"
   ]
  },
  {
   "cell_type": "code",
   "execution_count": 49,
   "id": "bfad6383",
   "metadata": {},
   "outputs": [
    {
     "name": "stdout",
     "output_type": "stream",
     "text": [
      "Intervalo de confinza para horas trabajadas con alfa del 0.1\n",
      "Intervalo de confinza para horas trabajadas de los hombres : [48.69167136070997, 49.113370590933236]\n",
      "Intervalo de confinza para horas trabajadas de las mujeres  : [39.166189660211195, 39.68112451133671]\n",
      "Intervalo de confinza para diferencia de horas promedio trabajadas : [9.146661320565133, 9.811066459530164]\n",
      "-------------------------------------------------------------------------------------\n",
      "Intervalo de confinza para el ingreso por hora con alfa del 0.1\n",
      "Intervalo de confinza para el ingreso por hora de los hombres : [49.20224941487255, 51.47438680817853]\n",
      "Intervalo de confinza para el ingreso por hora de las mujeres : [48.30625069003679, 50.077318249089274]\n",
      "Intervalo de confinza para diferencia de ingreso por hora promedio : [-0.41069535639455435, 2.7037626403195665]\n"
     ]
    }
   ],
   "source": [
    "alfa = .1\n",
    "\n",
    "arr_inter_horas = arrInterConfianza(intervaloDeConfVarDesc,arr_horas,alfa)\n",
    "arr_inter_pago_hora = arrInterConfianza(intervaloDeConfVarDesc,arr_pago_hora,alfa)\n",
    "\n",
    "x = [df_hombres['tot_horas'],df_mujeres['tot_horas']]\n",
    "dif_media_horas = intervaloDeConfDifMedias(x,alfa)\n",
    "\n",
    "x = [df_hombres['ganancia_hora'],df_mujeres['ganancia_hora']]\n",
    "dif_media_ganancia = intervaloDeConfDifMedias(x,alfa)\n",
    "\n",
    "print('Intervalo de confinza para horas trabajadas con alfa del ' + str(alfa))\n",
    "print('Intervalo de confinza para horas trabajadas de los hombres : ' + str(arr_inter_horas[0]))\n",
    "print('Intervalo de confinza para horas trabajadas de las mujeres  : ' + str(arr_inter_horas[1]))\n",
    "print('Intervalo de confinza para diferencia de horas promedio trabajadas : ' + str(dif_media_horas))\n",
    "print('-------------------------------------------------------------------------------------')\n",
    "print('Intervalo de confinza para el ingreso por hora con alfa del ' + str(alfa))\n",
    "print('Intervalo de confinza para el ingreso por hora de los hombres : ' + str(arr_inter_pago_hora[0]))\n",
    "print('Intervalo de confinza para el ingreso por hora de las mujeres : ' + str(arr_inter_pago_hora[1]))\n",
    "print('Intervalo de confinza para diferencia de ingreso por hora promedio : ' + str(dif_media_ganancia))"
   ]
  },
  {
   "cell_type": "markdown",
   "id": "95d7406f",
   "metadata": {},
   "source": [
    "### Cociente de varianzas"
   ]
  },
  {
   "cell_type": "code",
   "execution_count": 50,
   "id": "7ad1ba65",
   "metadata": {},
   "outputs": [
    {
     "name": "stdout",
     "output_type": "stream",
     "text": [
      "intervalo de confianza para cociente de varianzas del total de horas trabajadas en la semana[0.9934986334393816, 1.0442432327438502]\n",
      "-----------------------------------------------------------------------------------------------------\n",
      "intervalo de confianza para cociente de varianzas entre total ingreso por hora[0.4048269311419479, 0.4255041416755337]\n"
     ]
    }
   ],
   "source": [
    "alfa = .1\n",
    "\n",
    "x = [df_hombres['tot_horas'],df_mujeres['tot_horas']]\n",
    "cociente_var = intervaloDeConfCocienteDeVar(x,alfa)\n",
    "print('intervalo de confianza para cociente de varianzas del total de horas trabajadas en la semana' + str(cociente_var))\n",
    "\n",
    "print('-----------------------------------------------------------------------------------------------------')\n",
    "\n",
    "x = [df_hombres['ganancia_hora'],df_mujeres['ganancia_hora']]\n",
    "cociente_var = intervaloDeConfCocienteDeVar(x,alfa)\n",
    "print('intervalo de confianza para cociente de varianzas entre total ingreso por hora' + str(cociente_var))"
   ]
  },
  {
   "cell_type": "markdown",
   "id": "56b6b132",
   "metadata": {},
   "source": [
    "## Formal vs informal"
   ]
  },
  {
   "cell_type": "code",
   "execution_count": 51,
   "id": "dbe72c5d",
   "metadata": {},
   "outputs": [
    {
     "name": "stdout",
     "output_type": "stream",
     "text": [
      "Intervalo de confinza para horas trabajadas con alfa del 0.05\n",
      "Intervalo de confinza para horas trabajadas de las personas en el sector formal : [48.99971274424146, 49.48095634966524]\n",
      "Intervalo de confinza para horas trabajadas de las personas en el sector informal  : [42.488172340509614, 43.19777798628777]\n",
      "Intervalo de confinza para diferencia de horas promedio trabajadas : [5.977422935998887, 6.817295831110429]\n",
      "-------------------------------------------------------------------------------------\n",
      "Intervalo de confinza para el ingreso por hora con alfa del 0.05\n",
      "Intervalo de confinza para el ingreso por hora de las personas en el sector formal : [53.96421317374256, 57.623335232818555]\n",
      "Intervalo de confinza para el ingreso por hora de las personas en el sector informal : [36.54288391566672, 38.00781961095953]\n",
      "Intervalo de confinza para diferencia de ingreso por hora promedio : [16.446883929761334, 20.589960950173527]\n"
     ]
    }
   ],
   "source": [
    "df_formal = df_nuevo.loc[df_nuevo['P5_6_6'] == 1]\n",
    "df_informal = df_nuevo.loc[df_nuevo['P5_6_6'] == 2]\n",
    "\n",
    "alfa = .05\n",
    "arr_horas = [df_formal['tot_horas'],df_informal['tot_horas']]\n",
    "arr_pago_hora = [df_formal['ganancia_hora'],df_informal['ganancia_hora']]\n",
    "arr_inter_horas = arrInterConfianza(intervaloDeConfVarDesc,arr_horas,alfa)\n",
    "arr_inter_pago_hora = arrInterConfianza(intervaloDeConfVarDesc,arr_pago_hora,alfa)\n",
    "\n",
    "x = [df_formal['tot_horas'],df_informal['tot_horas']]\n",
    "dif_media_horas = intervaloDeConfDifMedias(x,alfa)\n",
    "\n",
    "x = [df_formal['ganancia_hora'],df_informal['ganancia_hora']]\n",
    "dif_media_ganancia = intervaloDeConfDifMedias(x,alfa)\n",
    "\n",
    "print('Intervalo de confinza para horas trabajadas con alfa del ' + str(alfa))\n",
    "print('Intervalo de confinza para horas trabajadas de las personas en el sector formal : ' + str(arr_inter_horas[0]))\n",
    "print('Intervalo de confinza para horas trabajadas de las personas en el sector informal  : ' + str(arr_inter_horas[1]))\n",
    "print('Intervalo de confinza para diferencia de horas promedio trabajadas : ' + str(dif_media_horas))\n",
    "print('-------------------------------------------------------------------------------------')\n",
    "print('Intervalo de confinza para el ingreso por hora con alfa del ' + str(alfa))\n",
    "print('Intervalo de confinza para el ingreso por hora de las personas en el sector formal : ' + str(arr_inter_pago_hora[0]))\n",
    "print('Intervalo de confinza para el ingreso por hora de las personas en el sector informal : ' + str(arr_inter_pago_hora[1]))\n",
    "print('Intervalo de confinza para diferencia de ingreso por hora promedio : ' + str(dif_media_ganancia))"
   ]
  },
  {
   "cell_type": "code",
   "execution_count": 52,
   "id": "16a6673c",
   "metadata": {},
   "outputs": [
    {
     "name": "stdout",
     "output_type": "stream",
     "text": [
      "Intervalo de confinza para horas trabajadas con alfa del 0.1\n",
      "Intervalo de confinza para horas trabajadas de las personas en el sector formal : [49.03840230430956, 49.44226678959714]\n",
      "Intervalo de confinza para horas trabajadas de las personas en el sector informal  : [42.54522188098008, 43.1407284458173]\n",
      "Intervalo de confinza para diferencia de horas promedio trabajadas : [6.044941272672403, 6.749777494436913]\n",
      "-------------------------------------------------------------------------------------\n",
      "Intervalo de confinza para el ingreso por hora con alfa del 0.1\n",
      "Intervalo de confinza para el ingreso por hora de las personas en el sector formal : [54.25838814273039, 57.32916026383072]\n",
      "Intervalo de confinza para el ingreso por hora de las personas en el sector informal : [36.660659061245774, 37.89004446538048]\n",
      "Intervalo de confinza para diferencia de ingreso por hora promedio : [16.779950600631036, 20.256894279303825]\n"
     ]
    }
   ],
   "source": [
    "alfa = .1\n",
    "\n",
    "arr_inter_horas = arrInterConfianza(intervaloDeConfVarDesc,arr_horas,alfa)\n",
    "arr_inter_pago_hora = arrInterConfianza(intervaloDeConfVarDesc,arr_pago_hora,alfa)\n",
    "\n",
    "x = [df_formal['tot_horas'],df_informal['tot_horas']]\n",
    "dif_media_horas = intervaloDeConfDifMedias(x,alfa)\n",
    "\n",
    "x = [df_formal['ganancia_hora'],df_informal['ganancia_hora']]\n",
    "dif_media_ganancia = intervaloDeConfDifMedias(x,alfa)\n",
    "\n",
    "print('Intervalo de confinza para horas trabajadas con alfa del ' + str(alfa))\n",
    "print('Intervalo de confinza para horas trabajadas de las personas en el sector formal : ' + str(arr_inter_horas[0]))\n",
    "print('Intervalo de confinza para horas trabajadas de las personas en el sector informal  : ' + str(arr_inter_horas[1]))\n",
    "print('Intervalo de confinza para diferencia de horas promedio trabajadas : ' + str(dif_media_horas))\n",
    "print('-------------------------------------------------------------------------------------')\n",
    "print('Intervalo de confinza para el ingreso por hora con alfa del ' + str(alfa))\n",
    "print('Intervalo de confinza para el ingreso por hora de las personas en el sector formal : ' + str(arr_inter_pago_hora[0]))\n",
    "print('Intervalo de confinza para el ingreso por hora de las personas en el sector informal : ' + str(arr_inter_pago_hora[1]))\n",
    "print('Intervalo de confinza para diferencia de ingreso por hora promedio : ' + str(dif_media_ganancia))"
   ]
  },
  {
   "cell_type": "markdown",
   "id": "39fa84b7",
   "metadata": {},
   "source": [
    "### Cociente de varianzas"
   ]
  },
  {
   "cell_type": "code",
   "execution_count": 53,
   "id": "5a1500ff",
   "metadata": {},
   "outputs": [
    {
     "name": "stdout",
     "output_type": "stream",
     "text": [
      "intervalo de confianza para cociente de varianzas del total de horas trabajadas en la semana[1.8513313146405452, 1.9588158570902545]\n",
      "------------------------------------------------------------------------------------------------------------------\n",
      "intervalo de confianza para cociente de varianzas entre total ingreso por hora[0.13647820306213804, 0.14440185081469636]\n"
     ]
    }
   ],
   "source": [
    "alfa = .1\n",
    "\n",
    "x = [df_formal['tot_horas'],df_informal['tot_horas']]\n",
    "cociente_var = intervaloDeConfCocienteDeVar(x,alfa)\n",
    "print('intervalo de confianza para cociente de varianzas del total de horas trabajadas en la semana' + str(cociente_var))\n",
    "\n",
    "print('------------------------------------------------------------------------------------------------------------------')\n",
    "\n",
    "x = [df_formal['ganancia_hora'],df_informal['ganancia_hora']]\n",
    "cociente_var = intervaloDeConfCocienteDeVar(x,alfa)\n",
    "print('intervalo de confianza para cociente de varianzas entre total ingreso por hora' + str(cociente_var))"
   ]
  },
  {
   "cell_type": "markdown",
   "id": "7d8ad049",
   "metadata": {},
   "source": [
    "# Graficas desv_estd - media"
   ]
  },
  {
   "cell_type": "markdown",
   "id": "ba75390d",
   "metadata": {},
   "source": [
    "## Horas trabajadas promedio"
   ]
  },
  {
   "cell_type": "code",
   "execution_count": 54,
   "id": "41b732c4",
   "metadata": {},
   "outputs": [
    {
     "data": {
      "image/png": "[encoded data removed]",
      "text/plain": [
       "<Figure size 792x792 with 1 Axes>"
      ]
     },
     "metadata": {
      "needs_background": "light"
     },
     "output_type": "display_data"
    }
   ],
   "source": [
    "vec = [df_nula,df_basica,df_media,df_superior,df_licenciatura,df_maestria_doctorado,df_hombres,df_mujeres,df_formal,df_informal]\n",
    "\n",
    "x_s2_horas = arrEstimador(s2df,vec,'tot_horas')\n",
    "x_s_horas = map(pow_n,x_s2_horas)\n",
    "x_s_horas = list(x_s_horas)\n",
    "x_media_horas = arrEstimador(np.mean,vec,'tot_horas')\n",
    "\n",
    "legends = ['Nula','Basica','Media','Superior','Licenciatura','Maestria doctorado','Hombres','Mujeres','Formal','Informal']\n",
    "plt.figure(figsize=(11,11))\n",
    "for i in range(len(x_s2_horas)):\n",
    "    plt.scatter(x_media_horas[i],x_s_horas[i])\n",
    "    plt.annotate(legends[i], ( x_media_horas[i],x_s_horas[i]))\n",
    "plt.legend(legends, fontsize=\"15\")\n",
    "plt.grid(True)"
   ]
  },
  {
   "cell_type": "markdown",
   "id": "ae5afa15",
   "metadata": {},
   "source": [
    "## Ingreso por hora promedio"
   ]
  },
  {
   "cell_type": "code",
   "execution_count": 55,
   "id": "2346b65f",
   "metadata": {},
   "outputs": [
    {
     "data": {
      "image/png": "[encoded data removed]",
      "text/plain": [
       "<Figure size 864x864 with 1 Axes>"
      ]
     },
     "metadata": {
      "needs_background": "light"
     },
     "output_type": "display_data"
    }
   ],
   "source": [
    "x_s2_ganancia = arrEstimador(s2df,vec,'ganancia_hora')\n",
    "x_s_ganancia = map(pow_n,x_s2_ganancia)\n",
    "x_s_ganancia = list(x_s_ganancia)\n",
    "x_media_ganancia = arrEstimador(np.mean,vec,'ganancia_hora')\n",
    "\n",
    "legends = ['Nula','Basica','Media','Superior','Licenciatura','Maestria doctorado','Hombres','Mujeres','Formal','Informal']\n",
    "plt.figure(figsize=(12,12))\n",
    "for i in range(len(x_s2_horas)):\n",
    "    plt.scatter(x_media_ganancia[i],x_s_ganancia[i],label = legends[i])\n",
    "    plt.annotate(legends[i], ( x_media_ganancia[i],x_s_ganancia[i]))\n",
    "plt.legend(legends, fontsize=\"15\")\n",
    "plt.grid(True)"
   ]
  },
  {
   "cell_type": "markdown",
   "id": "d23ae3c2",
   "metadata": {},
   "source": [
    "# Pruebas de hipotesis"
   ]
  },
  {
   "cell_type": "code",
   "execution_count": 56,
   "id": "84f81e54",
   "metadata": {},
   "outputs": [
    {
     "name": "stdout",
     "output_type": "stream",
     "text": [
      "45.05542547800046\n",
      "49.8729855080349\n"
     ]
    }
   ],
   "source": [
    "media_pob_tot_horas = np.mean(df_nuevo['tot_horas'])\n",
    "media_pob_ganancia_hora = np.mean(df_nuevo['ganancia_hora'])\n",
    "print(media_pob_tot_horas)\n",
    "print(media_pob_ganancia_hora)"
   ]
  },
  {
   "cell_type": "markdown",
   "id": "67a45b60",
   "metadata": {},
   "source": [
    "# Nivel educativo"
   ]
  },
  {
   "cell_type": "markdown",
   "id": "b2016c8f",
   "metadata": {},
   "source": [
    "### Probar si las personas por nivel educativo trabajan más que el promedio muestral"
   ]
  },
  {
   "cell_type": "code",
   "execution_count": 57,
   "id": "c1652743",
   "metadata": {},
   "outputs": [
    {
     "name": "stdout",
     "output_type": "stream",
     "text": [
      "valor del punto crítico: 47.15722931669567\n",
      "medias: 41.92597340930674\n",
      "No hay evidencia suficiente para rechazar h0, con una confiabilidad del 0.999\n"
     ]
    }
   ],
   "source": [
    "alfa = 0.001\n",
    "h0 = media_pob_tot_horas\n",
    "\n",
    "res = pruebaDeHipotesisSuperior(h0,df_nula['tot_horas'],alfa)\n",
    "\n",
    "print('valor del punto crítico: ' + str(res[0]))\n",
    "print('medias: ' + str(res[1]))\n",
    "aceptar_o_rechazar_h0(res[2],alfa)"
   ]
  },
  {
   "cell_type": "code",
   "execution_count": 58,
   "id": "315ee948",
   "metadata": {},
   "outputs": [
    {
     "name": "stdout",
     "output_type": "stream",
     "text": [
      "valor del punto crítico: 45.52341518041489\n",
      "medias: 45.387810499598764\n",
      "No hay evidencia suficiente para rechazar h0, con una confiabilidad del 0.999\n"
     ]
    }
   ],
   "source": [
    "alfa = 0.001\n",
    "h0 = media_pob_tot_horas\n",
    "\n",
    "res = pruebaDeHipotesisSuperior(h0,df_basica['tot_horas'],alfa)\n",
    "\n",
    "print('valor del punto crítico: ' + str(res[0]))\n",
    "print('medias: ' + str(res[1]))\n",
    "aceptar_o_rechazar_h0(res[2],alfa)"
   ]
  },
  {
   "cell_type": "code",
   "execution_count": 59,
   "id": "e4cc0d9d",
   "metadata": {},
   "outputs": [
    {
     "name": "stdout",
     "output_type": "stream",
     "text": [
      "valor del punto crítico: 45.66808984721889\n",
      "medias: 46.046429576473905\n",
      "Hay evidencia suficiente para rechazar h0, con una confiabilidad del 0.999\n"
     ]
    }
   ],
   "source": [
    "alfa = 0.001\n",
    "h0 = media_pob_tot_horas\n",
    "\n",
    "res = pruebaDeHipotesisSuperior(h0,df_media['tot_horas'],alfa)\n",
    "\n",
    "print('valor del punto crítico: ' + str(res[0]))\n",
    "print('medias: ' + str(res[1]))\n",
    "aceptar_o_rechazar_h0(res[2],alfa)"
   ]
  },
  {
   "cell_type": "code",
   "execution_count": 60,
   "id": "f6c897a9",
   "metadata": {},
   "outputs": [
    {
     "name": "stdout",
     "output_type": "stream",
     "text": [
      "valor del punto crítico: 45.65279066415545\n",
      "medias: 43.509867266110035\n",
      "No hay evidencia suficiente para rechazar h0, con una confiabilidad del 0.999\n"
     ]
    }
   ],
   "source": [
    "alfa = 0.001\n",
    "h0 = media_pob_tot_horas\n",
    "\n",
    "res = pruebaDeHipotesisSuperior(h0,df_superior['tot_horas'],alfa)\n",
    "\n",
    "print('valor del punto crítico: ' + str(res[0]))\n",
    "print('medias: ' + str(res[1]))\n",
    "aceptar_o_rechazar_h0(res[2],alfa)"
   ]
  },
  {
   "cell_type": "markdown",
   "id": "631b9d1d",
   "metadata": {},
   "source": [
    "### Probar si las personas por nivel educativo ganan más por hora que el promedio muestral"
   ]
  },
  {
   "cell_type": "code",
   "execution_count": 61,
   "id": "443a1407",
   "metadata": {},
   "outputs": [
    {
     "name": "stdout",
     "output_type": "stream",
     "text": [
      "valor del punto crítico: 51.97478934673011\n",
      "medias: 41.92597340930674\n",
      "No hay evidencia suficiente para rechazar h0, con una confiabilidad del 0.999\n"
     ]
    }
   ],
   "source": [
    "alfa = 0.001\n",
    "h0 = media_pob_ganancia_hora\n",
    "\n",
    "res = pruebaDeHipotesisSuperior(h0,df_nula['tot_horas'],alfa)\n",
    "\n",
    "print('valor del punto crítico: ' + str(res[0]))\n",
    "print('medias: ' + str(res[1]))\n",
    "aceptar_o_rechazar_h0(res[2],alfa)"
   ]
  },
  {
   "cell_type": "code",
   "execution_count": 62,
   "id": "92c63bd9",
   "metadata": {},
   "outputs": [
    {
     "name": "stdout",
     "output_type": "stream",
     "text": [
      "valor del punto crítico: 50.34097521044933\n",
      "medias: 45.387810499598764\n",
      "No hay evidencia suficiente para rechazar h0, con una confiabilidad del 0.999\n"
     ]
    }
   ],
   "source": [
    "alfa = 0.001\n",
    "h0 = media_pob_ganancia_hora\n",
    "\n",
    "res = pruebaDeHipotesisSuperior(h0,df_basica['tot_horas'],alfa)\n",
    "\n",
    "print('valor del punto crítico: ' + str(res[0]))\n",
    "print('medias: ' + str(res[1]))\n",
    "aceptar_o_rechazar_h0(res[2],alfa)"
   ]
  },
  {
   "cell_type": "code",
   "execution_count": 63,
   "id": "2807d98d",
   "metadata": {},
   "outputs": [
    {
     "name": "stdout",
     "output_type": "stream",
     "text": [
      "valor del punto crítico: 50.48564987725333\n",
      "medias: 46.046429576473905\n",
      "No hay evidencia suficiente para rechazar h0, con una confiabilidad del 0.999\n"
     ]
    }
   ],
   "source": [
    "alfa = 0.001\n",
    "h0 = media_pob_ganancia_hora\n",
    "\n",
    "res = pruebaDeHipotesisSuperior(h0,df_media['tot_horas'],alfa)\n",
    "\n",
    "print('valor del punto crítico: ' + str(res[0]))\n",
    "print('medias: ' + str(res[1]))\n",
    "aceptar_o_rechazar_h0(res[2],alfa)"
   ]
  },
  {
   "cell_type": "code",
   "execution_count": 64,
   "id": "3c8ad52e",
   "metadata": {},
   "outputs": [
    {
     "name": "stdout",
     "output_type": "stream",
     "text": [
      "valor del punto crítico: 50.47035069418989\n",
      "medias: 43.509867266110035\n",
      "No hay evidencia suficiente para rechazar h0, con una confiabilidad del 0.999\n"
     ]
    }
   ],
   "source": [
    "alfa = 0.001\n",
    "h0 = media_pob_ganancia_hora\n",
    "\n",
    "res = pruebaDeHipotesisSuperior(h0,df_superior['tot_horas'],alfa)\n",
    "\n",
    "print('valor del punto crítico: ' + str(res[0]))\n",
    "print('medias: ' + str(res[1]))\n",
    "aceptar_o_rechazar_h0(res[2],alfa)"
   ]
  },
  {
   "cell_type": "markdown",
   "id": "d81f5463",
   "metadata": {},
   "source": [
    "# Licenciatura vs maestria doctorado"
   ]
  },
  {
   "cell_type": "markdown",
   "id": "bed4e3f8",
   "metadata": {},
   "source": [
    "### Probar si las personas con licenciatura trabajan más que el promedio muestral"
   ]
  },
  {
   "cell_type": "code",
   "execution_count": 65,
   "id": "dfe530e9",
   "metadata": {},
   "outputs": [
    {
     "name": "stdout",
     "output_type": "stream",
     "text": [
      "valor del punto crítico: 45.690209260643975\n",
      "medias: 43.37764221875444\n",
      "No hay evidencia suficiente para rechazar h0, con una confiabilidad del 0.999\n"
     ]
    }
   ],
   "source": [
    "alfa = 0.001\n",
    "h0 = media_pob_tot_horas\n",
    "\n",
    "res = pruebaDeHipotesisSuperior(h0,df_licenciatura['tot_horas'],alfa)\n",
    "\n",
    "print('valor del punto crítico: ' + str(res[0]))\n",
    "print('medias: ' + str(res[1]))\n",
    "aceptar_o_rechazar_h0(res[2],alfa)"
   ]
  },
  {
   "cell_type": "markdown",
   "id": "b3cd4223",
   "metadata": {},
   "source": [
    "### Probar si las personas con maestria o doctorado trabajan más que el promedio muestral"
   ]
  },
  {
   "cell_type": "code",
   "execution_count": 66,
   "id": "2490b9b7",
   "metadata": {},
   "outputs": [
    {
     "name": "stdout",
     "output_type": "stream",
     "text": [
      "valor del punto crítico: 46.777644385786594\n",
      "medias: 44.77624547101449\n",
      "No hay evidencia suficiente para rechazar h0, con una confiabilidad del 0.999\n"
     ]
    }
   ],
   "source": [
    "alfa = 0.001\n",
    "h0 = media_pob_tot_horas\n",
    "\n",
    "res = pruebaDeHipotesisSuperior(h0,df_maestria_doctorado['tot_horas'],alfa)\n",
    "\n",
    "print('valor del punto crítico: ' + str(res[0]))\n",
    "print('medias: ' + str(res[1]))\n",
    "aceptar_o_rechazar_h0(res[2],alfa)"
   ]
  },
  {
   "cell_type": "markdown",
   "id": "a5b5bba4",
   "metadata": {},
   "source": [
    "### Probar si las personas con licenciatura ganan más por hora que el promedio muestral"
   ]
  },
  {
   "cell_type": "code",
   "execution_count": 67,
   "id": "8c8443f1",
   "metadata": {},
   "outputs": [
    {
     "name": "stdout",
     "output_type": "stream",
     "text": [
      "valor del punto crítico: 50.50776929067842\n",
      "medias: 43.37764221875444\n",
      "No hay evidencia suficiente para rechazar h0, con una confiabilidad del 0.999\n"
     ]
    }
   ],
   "source": [
    "alfa = 0.001\n",
    "h0 = media_pob_ganancia_hora\n",
    "\n",
    "res = pruebaDeHipotesisSuperior(h0,df_licenciatura['tot_horas'],alfa)\n",
    "\n",
    "print('valor del punto crítico: ' + str(res[0]))\n",
    "print('medias: ' + str(res[1]))\n",
    "aceptar_o_rechazar_h0(res[2],alfa)"
   ]
  },
  {
   "cell_type": "markdown",
   "id": "65ac1826",
   "metadata": {},
   "source": [
    "### Probar si las personas con maestria o doctorado ganan más por hora que el promedio muestral"
   ]
  },
  {
   "cell_type": "code",
   "execution_count": 68,
   "id": "8cb262e0",
   "metadata": {},
   "outputs": [
    {
     "name": "stdout",
     "output_type": "stream",
     "text": [
      "valor del punto crítico: 51.59520441582104\n",
      "medias: 44.77624547101449\n",
      "No hay evidencia suficiente para rechazar h0, con una confiabilidad del 0.999\n"
     ]
    }
   ],
   "source": [
    "alfa = 0.001\n",
    "h0 = media_pob_ganancia_hora\n",
    "\n",
    "res = pruebaDeHipotesisSuperior(h0,df_maestria_doctorado['tot_horas'],alfa)\n",
    "\n",
    "print('valor del punto crítico: ' + str(res[0]))\n",
    "print('medias: ' + str(res[1]))\n",
    "aceptar_o_rechazar_h0(res[2],alfa)"
   ]
  },
  {
   "cell_type": "markdown",
   "id": "19775358",
   "metadata": {},
   "source": [
    "### Probar si el salario por hora de las personas con licenciatura es igual al de las personas con maestria o doctorado"
   ]
  },
  {
   "cell_type": "code",
   "execution_count": 69,
   "id": "2cd58f62",
   "metadata": {},
   "outputs": [
    {
     "name": "stdout",
     "output_type": "stream",
     "text": [
      "valor del punto crítico: -21.003408279628715\n",
      "diferencia de medias: -41.79437542055702\n",
      "Hay evidencia suficiente para rechazar h0, con una confiabilidad del 0.999\n"
     ]
    }
   ],
   "source": [
    "alfa = 0.001\n",
    "h0 = 0\n",
    "\n",
    "arr_pago_hora = [df_licenciatura['ganancia_hora'],df_maestria_doctorado['ganancia_hora']]\n",
    "res = pruebaDeHipotesisDifMediaInferior(h0,arr_pago_hora,alfa)\n",
    "\n",
    "print('valor del punto crítico: ' + str(res[0]))\n",
    "print('diferencia de medias: ' + str(res[1]))\n",
    "aceptar_o_rechazar_h0(res[2],alfa)"
   ]
  },
  {
   "cell_type": "markdown",
   "id": "0ce29f70",
   "metadata": {},
   "source": [
    "## Hombres vs mujeres"
   ]
  },
  {
   "cell_type": "markdown",
   "id": "43a3e2b8",
   "metadata": {},
   "source": [
    "### Probar si los hombres trabajan más horas que el promedio muestral"
   ]
  },
  {
   "cell_type": "code",
   "execution_count": 70,
   "id": "1cc31594",
   "metadata": {},
   "outputs": [
    {
     "name": "stdout",
     "output_type": "stream",
     "text": [
      "valor del punto crítico: 45.45158606010556\n",
      "medias: 48.9025209758216\n",
      "Hay evidencia suficiente para rechazar h0, con una confiabilidad del 0.999\n"
     ]
    }
   ],
   "source": [
    "alfa = 0.001\n",
    "h0 = media_pob_tot_horas\n",
    "\n",
    "res = pruebaDeHipotesisSuperior(h0,df_hombres['tot_horas'],alfa)\n",
    "\n",
    "print('valor del punto crítico: ' + str(res[0]))\n",
    "print('medias: ' + str(res[1]))\n",
    "aceptar_o_rechazar_h0(res[2],alfa)"
   ]
  },
  {
   "cell_type": "markdown",
   "id": "b5a2761c",
   "metadata": {},
   "source": [
    "### Probar si las mujeres trabajan más horas que el promedio muestral"
   ]
  },
  {
   "cell_type": "code",
   "execution_count": 71,
   "id": "cba11d1a",
   "metadata": {},
   "outputs": [
    {
     "name": "stdout",
     "output_type": "stream",
     "text": [
      "valor del punto crítico: 45.53919308196303\n",
      "medias: 39.423657085773954\n",
      "No hay evidencia suficiente para rechazar h0, con una confiabilidad del 0.999\n"
     ]
    }
   ],
   "source": [
    "alfa = 0.001\n",
    "h0 = media_pob_tot_horas\n",
    "\n",
    "res = pruebaDeHipotesisSuperior(h0,df_mujeres['tot_horas'],alfa)\n",
    "\n",
    "print('valor del punto crítico: ' + str(res[0]))\n",
    "print('medias: ' + str(res[1]))\n",
    "aceptar_o_rechazar_h0(res[2],alfa)"
   ]
  },
  {
   "cell_type": "markdown",
   "id": "0502a4c1",
   "metadata": {},
   "source": [
    "### Probar si los hombres ganan más por hora que el promedio muestral"
   ]
  },
  {
   "cell_type": "code",
   "execution_count": 72,
   "id": "42cf0354",
   "metadata": {},
   "outputs": [
    {
     "name": "stdout",
     "output_type": "stream",
     "text": [
      "valor del punto crítico: 50.269146090140005\n",
      "medias: 48.9025209758216\n",
      "No hay evidencia suficiente para rechazar h0, con una confiabilidad del 0.999\n"
     ]
    }
   ],
   "source": [
    "alfa = 0.001\n",
    "h0 = media_pob_ganancia_hora\n",
    "\n",
    "res = pruebaDeHipotesisSuperior(h0,df_hombres['tot_horas'],alfa)\n",
    "\n",
    "print('valor del punto crítico: ' + str(res[0]))\n",
    "print('medias: ' + str(res[1]))\n",
    "aceptar_o_rechazar_h0(res[2],alfa)"
   ]
  },
  {
   "cell_type": "markdown",
   "id": "b3ed0d15",
   "metadata": {},
   "source": [
    "### Probar si las mujeres ganan más por hora que el promedio muestral"
   ]
  },
  {
   "cell_type": "code",
   "execution_count": 73,
   "id": "d749b15d",
   "metadata": {},
   "outputs": [
    {
     "name": "stdout",
     "output_type": "stream",
     "text": [
      "valor del punto crítico: 50.35675311199747\n",
      "medias: 39.423657085773954\n",
      "No hay evidencia suficiente para rechazar h0, con una confiabilidad del 0.999\n"
     ]
    }
   ],
   "source": [
    "alfa = 0.001\n",
    "h0 = media_pob_ganancia_hora\n",
    "\n",
    "res = pruebaDeHipotesisSuperior(h0,df_mujeres['tot_horas'],alfa)\n",
    "\n",
    "print('valor del punto crítico: ' + str(res[0]))\n",
    "print('medias: ' + str(res[1]))\n",
    "aceptar_o_rechazar_h0(res[2],alfa)"
   ]
  },
  {
   "cell_type": "markdown",
   "id": "04cd0b14",
   "metadata": {},
   "source": [
    "Probar si el salario promedio de los hombres por hora es igual que el salario promedio por hora de las mujeres \\\n",
    "h0: media_ingreso_hora_hombres = media_ingreso_hora_mujeres \\\n",
    "ha: media_ingreso_hora_hombres > media_ingreso_hora_mujeres"
   ]
  },
  {
   "cell_type": "code",
   "execution_count": 74,
   "id": "ffde0931",
   "metadata": {},
   "outputs": [
    {
     "name": "stdout",
     "output_type": "stream",
     "text": [
      "valor del punto crítico: 6.745654205196789\n",
      "diferencia de medias: 1.146533641962506\n",
      "No hay evidencia suficiente para rechazar h0, con una confiabilidad del 0.999\n"
     ]
    }
   ],
   "source": [
    "alfa = 0.001\n",
    "h0 = 0\n",
    "\n",
    "arr_pago_hora = [df_hombres['ganancia_hora'],df_mujeres['ganancia_hora']]\n",
    "res = pruebaDeHipotesisDifMediaSuperior(h0,arr_pago_hora,alfa)\n",
    "\n",
    "print('valor del punto crítico: ' + str(res[0]))\n",
    "print('diferencia de medias: ' + str(res[1]))\n",
    "aceptar_o_rechazar_h0(res[2],alfa)"
   ]
  },
  {
   "cell_type": "markdown",
   "id": "b1efc011",
   "metadata": {},
   "source": [
    "Probar si las horas trabajadas en promedio de los hombres es igual a las hora trabajadas de las mujeres \\\n",
    "h0: media_horas_hombres = media_horas_mujeres \\\n",
    "ha: media_horas_hombres > media_horas_mujeres"
   ]
  },
  {
   "cell_type": "code",
   "execution_count": 75,
   "id": "fbc79aa3",
   "metadata": {},
   "outputs": [
    {
     "name": "stdout",
     "output_type": "stream",
     "text": [
      "valor del punto crítico: 1.4390456780416823\n",
      "diferencia de medias: 9.478863890047649\n",
      "Hay evidencia suficiente para rechazar h0, con una confiabilidad del 0.999\n"
     ]
    }
   ],
   "source": [
    "alfa = 0.001\n",
    "h0 = 0\n",
    "\n",
    "arr_horas = [df_hombres['tot_horas'],df_mujeres['tot_horas']]\n",
    "res = pruebaDeHipotesisDifMediaSuperior(h0,arr_horas,alfa)\n",
    "\n",
    "print('valor del punto crítico: ' + str(res[0]))\n",
    "print('diferencia de medias: ' + str(res[1]))\n",
    "aceptar_o_rechazar_h0(res[2],alfa)"
   ]
  },
  {
   "cell_type": "markdown",
   "id": "94fcb7ed",
   "metadata": {},
   "source": [
    "Probar si las horas trabajadas en promedio de los hombres es 9 horas mayor que  de las mujeres \\\n",
    "h0: media_horas_hombres - media_horas_mujeres = 9 \\\n",
    "ha: media_horas_hombres - media_horas_mujeres < 9"
   ]
  },
  {
   "cell_type": "code",
   "execution_count": 76,
   "id": "c5284bfd",
   "metadata": {},
   "outputs": [
    {
     "name": "stdout",
     "output_type": "stream",
     "text": [
      "valor del punto crítico: 10.439045678041682\n",
      "diferencia de medias: 9.478863890047649\n",
      "No hay evidencia suficiente para rechazar h0, con una confiabilidad del 0.999\n"
     ]
    }
   ],
   "source": [
    "alfa = 0.001\n",
    "h0 = 9\n",
    "\n",
    "arr_horas = [df_hombres['tot_horas'],df_mujeres['tot_horas']]\n",
    "res = pruebaDeHipotesisDifMediaSuperior(h0,arr_horas,alfa)\n",
    "\n",
    "print('valor del punto crítico: ' + str(res[0]))\n",
    "print('diferencia de medias: ' + str(res[1]))\n",
    "aceptar_o_rechazar_h0(res[2],alfa)"
   ]
  },
  {
   "cell_type": "markdown",
   "id": "bed6c3ba",
   "metadata": {},
   "source": [
    "### Beta vs Potencia de la prueba"
   ]
  },
  {
   "cell_type": "code",
   "execution_count": 77,
   "id": "e6d6bc36",
   "metadata": {},
   "outputs": [
    {
     "data": {
      "image/png": "[encoded data removed]",
      "text/plain": [
       "<Figure size 432x288 with 1 Axes>"
      ]
     },
     "metadata": {
      "needs_background": "light"
     },
     "output_type": "display_data"
    }
   ],
   "source": [
    "ha = [9.2,9.4,9.6,9.8,10,10.20,10.40,10.60,10.80,11,11.2,11.4,11.6]\n",
    "b = []\n",
    "p = []\n",
    "for x in ha:\n",
    "    r = beta(arr_horas,res[0],x)\n",
    "    b.append(r)\n",
    "    p.append(1-r)\n",
    "plt.plot(ha,b,label = \"beta\")\n",
    "plt.plot(ha,p,label = \"potencia\")\n",
    "plt.legend()\n",
    "plt.show()"
   ]
  },
  {
   "cell_type": "markdown",
   "id": "d6b390f2",
   "metadata": {},
   "source": [
    "## Formal vs informal"
   ]
  },
  {
   "cell_type": "code",
   "execution_count": 78,
   "id": "2fa68ee7",
   "metadata": {},
   "outputs": [
    {
     "name": "stdout",
     "output_type": "stream",
     "text": [
      "valor del punto crítico: 45.434845805686734\n",
      "medias: 49.24033454695335\n",
      "Hay evidencia suficiente para rechazar h0, con una confiabilidad del 0.999\n"
     ]
    }
   ],
   "source": [
    "alfa = 0.001\n",
    "h0 = media_pob_tot_horas\n",
    "\n",
    "res = pruebaDeHipotesisSuperior(h0,df_formal['tot_horas'],alfa)\n",
    "\n",
    "print('valor del punto crítico: ' + str(res[0]))\n",
    "print('medias: ' + str(res[1]))\n",
    "aceptar_o_rechazar_h0(res[2],alfa)"
   ]
  },
  {
   "cell_type": "code",
   "execution_count": 79,
   "id": "e6c9b1b7",
   "metadata": {},
   "outputs": [
    {
     "name": "stdout",
     "output_type": "stream",
     "text": [
      "valor del punto crítico: 45.614897948189316\n",
      "medias: 42.84297516339869\n",
      "No hay evidencia suficiente para rechazar h0, con una confiabilidad del 0.999\n"
     ]
    }
   ],
   "source": [
    "alfa = 0.001\n",
    "h0 = media_pob_tot_horas\n",
    "\n",
    "res = pruebaDeHipotesisSuperior(h0,df_informal['tot_horas'],alfa)\n",
    "\n",
    "print('valor del punto crítico: ' + str(res[0]))\n",
    "print('medias: ' + str(res[1]))\n",
    "aceptar_o_rechazar_h0(res[2],alfa)"
   ]
  },
  {
   "cell_type": "code",
   "execution_count": 80,
   "id": "5871a3a6",
   "metadata": {},
   "outputs": [
    {
     "data": {
      "text/html": [
       "<div>\n",
       "<style scoped>\n",
       "    .dataframe tbody tr th:only-of-type {\n",
       "        vertical-align: middle;\n",
       "    }\n",
       "\n",
       "    .dataframe tbody tr th {\n",
       "        vertical-align: top;\n",
       "    }\n",
       "\n",
       "    .dataframe thead th {\n",
       "        text-align: right;\n",
       "    }\n",
       "</style>\n",
       "<table border=\"1\" class=\"dataframe\">\n",
       "  <thead>\n",
       "    <tr style=\"text-align: right;\">\n",
       "      <th></th>\n",
       "      <th>EDAD_V</th>\n",
       "      <th>SEXO</th>\n",
       "      <th>NIV</th>\n",
       "      <th>P5_1</th>\n",
       "      <th>P5_3_1</th>\n",
       "      <th>P5_3_2</th>\n",
       "      <th>P5_3_3</th>\n",
       "      <th>P5_3_4</th>\n",
       "      <th>P5_6_6</th>\n",
       "      <th>P5_7</th>\n",
       "      <th>P5_7A</th>\n",
       "      <th>tot_horas</th>\n",
       "      <th>tot_minutos</th>\n",
       "      <th>semanal</th>\n",
       "      <th>ganancia_hora</th>\n",
       "      <th>grupo_ganancia_hora</th>\n",
       "    </tr>\n",
       "  </thead>\n",
       "  <tbody>\n",
       "    <tr>\n",
       "      <th>2</th>\n",
       "      <td>30</td>\n",
       "      <td>1</td>\n",
       "      <td>6</td>\n",
       "      <td>1</td>\n",
       "      <td>40</td>\n",
       "      <td>0</td>\n",
       "      <td>20</td>\n",
       "      <td>0</td>\n",
       "      <td>1.0</td>\n",
       "      <td>8300.0</td>\n",
       "      <td>3</td>\n",
       "      <td>60.0</td>\n",
       "      <td>0</td>\n",
       "      <td>2075.000000</td>\n",
       "      <td>34.583333</td>\n",
       "      <td>2</td>\n",
       "    </tr>\n",
       "    <tr>\n",
       "      <th>3</th>\n",
       "      <td>25</td>\n",
       "      <td>1</td>\n",
       "      <td>3</td>\n",
       "      <td>1</td>\n",
       "      <td>55</td>\n",
       "      <td>0</td>\n",
       "      <td>0</td>\n",
       "      <td>0</td>\n",
       "      <td>1.0</td>\n",
       "      <td>4000.0</td>\n",
       "      <td>2</td>\n",
       "      <td>55.0</td>\n",
       "      <td>0</td>\n",
       "      <td>2166.666667</td>\n",
       "      <td>39.393939</td>\n",
       "      <td>3</td>\n",
       "    </tr>\n",
       "    <tr>\n",
       "      <th>6</th>\n",
       "      <td>26</td>\n",
       "      <td>1</td>\n",
       "      <td>8</td>\n",
       "      <td>1</td>\n",
       "      <td>40</td>\n",
       "      <td>0</td>\n",
       "      <td>0</td>\n",
       "      <td>0</td>\n",
       "      <td>2.0</td>\n",
       "      <td>8000.0</td>\n",
       "      <td>3</td>\n",
       "      <td>40.0</td>\n",
       "      <td>0</td>\n",
       "      <td>2000.000000</td>\n",
       "      <td>50.000000</td>\n",
       "      <td>4</td>\n",
       "    </tr>\n",
       "    <tr>\n",
       "      <th>9</th>\n",
       "      <td>50</td>\n",
       "      <td>1</td>\n",
       "      <td>2</td>\n",
       "      <td>1</td>\n",
       "      <td>55</td>\n",
       "      <td>0</td>\n",
       "      <td>0</td>\n",
       "      <td>0</td>\n",
       "      <td>2.0</td>\n",
       "      <td>900.0</td>\n",
       "      <td>1</td>\n",
       "      <td>55.0</td>\n",
       "      <td>0</td>\n",
       "      <td>975.000000</td>\n",
       "      <td>17.727273</td>\n",
       "      <td>1</td>\n",
       "    </tr>\n",
       "    <tr>\n",
       "      <th>11</th>\n",
       "      <td>38</td>\n",
       "      <td>1</td>\n",
       "      <td>8</td>\n",
       "      <td>1</td>\n",
       "      <td>60</td>\n",
       "      <td>0</td>\n",
       "      <td>12</td>\n",
       "      <td>0</td>\n",
       "      <td>1.0</td>\n",
       "      <td>16708.0</td>\n",
       "      <td>2</td>\n",
       "      <td>72.0</td>\n",
       "      <td>0</td>\n",
       "      <td>9050.166667</td>\n",
       "      <td>125.696759</td>\n",
       "      <td>10</td>\n",
       "    </tr>\n",
       "    <tr>\n",
       "      <th>...</th>\n",
       "      <td>...</td>\n",
       "      <td>...</td>\n",
       "      <td>...</td>\n",
       "      <td>...</td>\n",
       "      <td>...</td>\n",
       "      <td>...</td>\n",
       "      <td>...</td>\n",
       "      <td>...</td>\n",
       "      <td>...</td>\n",
       "      <td>...</td>\n",
       "      <td>...</td>\n",
       "      <td>...</td>\n",
       "      <td>...</td>\n",
       "      <td>...</td>\n",
       "      <td>...</td>\n",
       "      <td>...</td>\n",
       "    </tr>\n",
       "    <tr>\n",
       "      <th>71385</th>\n",
       "      <td>17</td>\n",
       "      <td>1</td>\n",
       "      <td>6</td>\n",
       "      <td>1</td>\n",
       "      <td>30</td>\n",
       "      <td>0</td>\n",
       "      <td>8</td>\n",
       "      <td>0</td>\n",
       "      <td>2.0</td>\n",
       "      <td>1000.0</td>\n",
       "      <td>1</td>\n",
       "      <td>38.0</td>\n",
       "      <td>0</td>\n",
       "      <td>1083.333333</td>\n",
       "      <td>28.508772</td>\n",
       "      <td>2</td>\n",
       "    </tr>\n",
       "    <tr>\n",
       "      <th>71386</th>\n",
       "      <td>46</td>\n",
       "      <td>1</td>\n",
       "      <td>6</td>\n",
       "      <td>1</td>\n",
       "      <td>40</td>\n",
       "      <td>0</td>\n",
       "      <td>8</td>\n",
       "      <td>0</td>\n",
       "      <td>2.0</td>\n",
       "      <td>2100.0</td>\n",
       "      <td>1</td>\n",
       "      <td>48.0</td>\n",
       "      <td>0</td>\n",
       "      <td>2275.000000</td>\n",
       "      <td>47.395833</td>\n",
       "      <td>3</td>\n",
       "    </tr>\n",
       "    <tr>\n",
       "      <th>71388</th>\n",
       "      <td>34</td>\n",
       "      <td>1</td>\n",
       "      <td>3</td>\n",
       "      <td>1</td>\n",
       "      <td>40</td>\n",
       "      <td>0</td>\n",
       "      <td>4</td>\n",
       "      <td>0</td>\n",
       "      <td>1.0</td>\n",
       "      <td>4000.0</td>\n",
       "      <td>2</td>\n",
       "      <td>44.0</td>\n",
       "      <td>0</td>\n",
       "      <td>2166.666667</td>\n",
       "      <td>49.242424</td>\n",
       "      <td>3</td>\n",
       "    </tr>\n",
       "    <tr>\n",
       "      <th>71400</th>\n",
       "      <td>31</td>\n",
       "      <td>1</td>\n",
       "      <td>8</td>\n",
       "      <td>1</td>\n",
       "      <td>60</td>\n",
       "      <td>0</td>\n",
       "      <td>24</td>\n",
       "      <td>0</td>\n",
       "      <td>1.0</td>\n",
       "      <td>15000.0</td>\n",
       "      <td>3</td>\n",
       "      <td>84.0</td>\n",
       "      <td>0</td>\n",
       "      <td>3750.000000</td>\n",
       "      <td>44.642857</td>\n",
       "      <td>3</td>\n",
       "    </tr>\n",
       "    <tr>\n",
       "      <th>71402</th>\n",
       "      <td>27</td>\n",
       "      <td>1</td>\n",
       "      <td>6</td>\n",
       "      <td>1</td>\n",
       "      <td>30</td>\n",
       "      <td>0</td>\n",
       "      <td>5</td>\n",
       "      <td>0</td>\n",
       "      <td>2.0</td>\n",
       "      <td>1800.0</td>\n",
       "      <td>1</td>\n",
       "      <td>35.0</td>\n",
       "      <td>0</td>\n",
       "      <td>1950.000000</td>\n",
       "      <td>55.714286</td>\n",
       "      <td>4</td>\n",
       "    </tr>\n",
       "  </tbody>\n",
       "</table>\n",
       "<p>21493 rows × 16 columns</p>\n",
       "</div>"
      ],
      "text/plain": [
       "       EDAD_V  SEXO  NIV  P5_1  P5_3_1  P5_3_2  P5_3_3  P5_3_4  P5_6_6  \\\n",
       "2          30     1    6     1      40       0      20       0     1.0   \n",
       "3          25     1    3     1      55       0       0       0     1.0   \n",
       "6          26     1    8     1      40       0       0       0     2.0   \n",
       "9          50     1    2     1      55       0       0       0     2.0   \n",
       "11         38     1    8     1      60       0      12       0     1.0   \n",
       "...       ...   ...  ...   ...     ...     ...     ...     ...     ...   \n",
       "71385      17     1    6     1      30       0       8       0     2.0   \n",
       "71386      46     1    6     1      40       0       8       0     2.0   \n",
       "71388      34     1    3     1      40       0       4       0     1.0   \n",
       "71400      31     1    8     1      60       0      24       0     1.0   \n",
       "71402      27     1    6     1      30       0       5       0     2.0   \n",
       "\n",
       "          P5_7  P5_7A  tot_horas  tot_minutos      semanal  ganancia_hora  \\\n",
       "2       8300.0      3       60.0            0  2075.000000      34.583333   \n",
       "3       4000.0      2       55.0            0  2166.666667      39.393939   \n",
       "6       8000.0      3       40.0            0  2000.000000      50.000000   \n",
       "9        900.0      1       55.0            0   975.000000      17.727273   \n",
       "11     16708.0      2       72.0            0  9050.166667     125.696759   \n",
       "...        ...    ...        ...          ...          ...            ...   \n",
       "71385   1000.0      1       38.0            0  1083.333333      28.508772   \n",
       "71386   2100.0      1       48.0            0  2275.000000      47.395833   \n",
       "71388   4000.0      2       44.0            0  2166.666667      49.242424   \n",
       "71400  15000.0      3       84.0            0  3750.000000      44.642857   \n",
       "71402   1800.0      1       35.0            0  1950.000000      55.714286   \n",
       "\n",
       "       grupo_ganancia_hora  \n",
       "2                        2  \n",
       "3                        3  \n",
       "6                        4  \n",
       "9                        1  \n",
       "11                      10  \n",
       "...                    ...  \n",
       "71385                    2  \n",
       "71386                    3  \n",
       "71388                    3  \n",
       "71400                    3  \n",
       "71402                    4  \n",
       "\n",
       "[21493 rows x 16 columns]"
      ]
     },
     "execution_count": 80,
     "metadata": {},
     "output_type": "execute_result"
    }
   ],
   "source": [
    "df_hombres"
   ]
  },
  {
   "cell_type": "code",
   "execution_count": 81,
   "id": "0ebf8a40",
   "metadata": {},
   "outputs": [],
   "source": [
    "lib = df_hombres['ganancia_hora'].value_counts()\n",
    "\n",
    "x = lib.keys()      \n",
    "y = lib.values"
   ]
  },
  {
   "cell_type": "code",
   "execution_count": 82,
   "id": "a9cc3140",
   "metadata": {},
   "outputs": [
    {
     "data": {
      "text/plain": [
       "Float64Index([27.083333333333332, 54.166666666666664,             40.625,\n",
       "              33.854166666666664,               32.5,  36.11111111111111,\n",
       "              45.138888888888886, 22.569444444444443, 23.214285714285715,\n",
       "              36.111111111111114,\n",
       "              ...\n",
       "               52.45614035087719, 168.10344827586206, 15.151515151515152,\n",
       "              50.614754098360656, 14.736842105263158, 27.815315315315317,\n",
       "               37.31481481481482, 48.214285714285715, 16.646341463414632,\n",
       "               55.42635658914729],\n",
       "             dtype='float64', length=2952)"
      ]
     },
     "execution_count": 82,
     "metadata": {},
     "output_type": "execute_result"
    }
   ],
   "source": [
    "x"
   ]
  },
  {
   "cell_type": "code",
   "execution_count": 83,
   "id": "9bb799a2",
   "metadata": {},
   "outputs": [
    {
     "data": {
      "text/plain": [
       "array([746, 449, 405, ...,   1,   1,   1], dtype=int64)"
      ]
     },
     "execution_count": 83,
     "metadata": {},
     "output_type": "execute_result"
    }
   ],
   "source": [
    "y"
   ]
  },
  {
   "cell_type": "code",
   "execution_count": 84,
   "id": "28da6d3c",
   "metadata": {},
   "outputs": [
    {
     "data": {
      "text/plain": [
       "2952"
      ]
     },
     "execution_count": 84,
     "metadata": {},
     "output_type": "execute_result"
    }
   ],
   "source": [
    "len(y)"
   ]
  },
  {
   "cell_type": "code",
   "execution_count": 85,
   "id": "4808c371",
   "metadata": {},
   "outputs": [
    {
     "data": {
      "text/plain": [
       "27.083333333333332"
      ]
     },
     "execution_count": 85,
     "metadata": {},
     "output_type": "execute_result"
    }
   ],
   "source": [
    "x[0]"
   ]
  },
  {
   "cell_type": "code",
   "execution_count": 86,
   "id": "a4c1d0d1",
   "metadata": {},
   "outputs": [
    {
     "data": {
      "text/plain": [
       "27.083333    746\n",
       "54.166667    449\n",
       "40.625000    405\n",
       "33.854167    386\n",
       "32.500000    344\n",
       "            ... \n",
       "27.815315      1\n",
       "37.314815      1\n",
       "48.214286      1\n",
       "16.646341      1\n",
       "55.426357      1\n",
       "Name: ganancia_hora, Length: 2952, dtype: int64"
      ]
     },
     "execution_count": 86,
     "metadata": {},
     "output_type": "execute_result"
    }
   ],
   "source": [
    "lib"
   ]
  },
  {
   "cell_type": "code",
   "execution_count": null,
   "id": "d8857023",
   "metadata": {},
   "outputs": [],
   "source": []
  },
  {
   "cell_type": "code",
   "execution_count": null,
   "id": "3d1b529c",
   "metadata": {},
   "outputs": [],
   "source": []
  },
  {
   "cell_type": "code",
   "execution_count": null,
   "id": "3a0cf96a",
   "metadata": {},
   "outputs": [],
   "source": []
  },
  {
   "cell_type": "code",
   "execution_count": null,
   "id": "22d621b8",
   "metadata": {},
   "outputs": [],
   "source": []
  },
  {
   "cell_type": "code",
   "execution_count": 87,
   "id": "31885eb2",
   "metadata": {},
   "outputs": [],
   "source": [
    "lib = lib.sort_index(ascending=True)"
   ]
  },
  {
   "cell_type": "code",
   "execution_count": 88,
   "id": "fc8f5483",
   "metadata": {},
   "outputs": [],
   "source": [
    "x = lib.keys()      \n",
    "y = lib.values"
   ]
  },
  {
   "cell_type": "code",
   "execution_count": 89,
   "id": "be76afdf",
   "metadata": {},
   "outputs": [
    {
     "data": {
      "text/plain": [
       "Float64Index([ 0.1590909090909091,              0.1625,  0.4006410256410256,\n",
       "              0.43402777777777773,   0.496031746031746,  0.5341880341880342,\n",
       "                            0.625,  0.8680555555555555,  0.8680555555555556,\n",
       "               0.8928571428571429,\n",
       "              ...\n",
       "                           1200.0,             1218.75,              1225.0,\n",
       "                1231.060606060606,              1300.0,              1625.0,\n",
       "               1733.3333333333333,  2166.6666666666665,  2800.0000000000005,\n",
       "                          11375.0],\n",
       "             dtype='float64', length=2952)"
      ]
     },
     "execution_count": 89,
     "metadata": {},
     "output_type": "execute_result"
    }
   ],
   "source": [
    "x"
   ]
  },
  {
   "cell_type": "code",
   "execution_count": 90,
   "id": "ce2063ee",
   "metadata": {},
   "outputs": [
    {
     "data": {
      "text/plain": [
       "array([1, 1, 1, ..., 1, 1, 1], dtype=int64)"
      ]
     },
     "execution_count": 90,
     "metadata": {},
     "output_type": "execute_result"
    }
   ],
   "source": [
    "y"
   ]
  },
  {
   "cell_type": "code",
   "execution_count": 91,
   "id": "b3f59036",
   "metadata": {},
   "outputs": [
    {
     "data": {
      "text/plain": [
       "[<matplotlib.lines.Line2D at 0x215c7c98700>]"
      ]
     },
     "execution_count": 91,
     "metadata": {},
     "output_type": "execute_result"
    },
    {
     "data": {
      "image/png": "[encoded data removed]",
      "text/plain": [
       "<Figure size 432x288 with 1 Axes>"
      ]
     },
     "metadata": {
      "needs_background": "light"
     },
     "output_type": "display_data"
    }
   ],
   "source": [
    "lib = df_hombres['tot_horas'].value_counts()\n",
    "tot = len(df_hombres)\n",
    "lib = lib.sort_index(ascending=True)\n",
    "x = lib.keys()      \n",
    "y = lib.values\n",
    "res = []\n",
    "cont = 0;\n",
    "for val in y:\n",
    "    cont = cont + val\n",
    "    res.append(((cont)/tot)*100)\n",
    "    \n",
    "#plt.scatter(x,res)\n",
    "plt.plot(x,res)"
   ]
  },
  {
   "cell_type": "code",
   "execution_count": 92,
   "id": "19bb6511",
   "metadata": {},
   "outputs": [
    {
     "data": {
      "text/plain": [
       "<matplotlib.collections.PathCollection at 0x215c7cf6e50>"
      ]
     },
     "execution_count": 92,
     "metadata": {},
     "output_type": "execute_result"
    },
    {
     "data": {
      "image/png": "[encoded data removed]",
      "text/plain": [
       "<Figure size 432x288 with 1 Axes>"
      ]
     },
     "metadata": {
      "needs_background": "light"
     },
     "output_type": "display_data"
    }
   ],
   "source": [
    "lib = df_mujeres['tot_horas'].value_counts()\n",
    "tot = len(df_mujeres)\n",
    "lib = lib.sort_index(ascending=True)\n",
    "x = lib.keys()      \n",
    "y = lib.values\n",
    "res = []\n",
    "cont = 0;\n",
    "for val in y:\n",
    "    cont = cont + val\n",
    "    res.append(((cont)/tot)*100)\n",
    "    \n",
    "plt.scatter(x,res)"
   ]
  },
  {
   "cell_type": "code",
   "execution_count": 93,
   "id": "639697c5",
   "metadata": {},
   "outputs": [
    {
     "data": {
      "text/plain": [
       "<matplotlib.collections.PathCollection at 0x215c7d7b490>"
      ]
     },
     "execution_count": 93,
     "metadata": {},
     "output_type": "execute_result"
    },
    {
     "data": {
      "image/png": "[encoded data removed]",
      "text/plain": [
       "<Figure size 432x288 with 1 Axes>"
      ]
     },
     "metadata": {
      "needs_background": "light"
     },
     "output_type": "display_data"
    }
   ],
   "source": [
    "lib = df_hombres['ganancia_hora'].value_counts()\n",
    "tot = len(df_hombres)\n",
    "lib = lib.sort_index(ascending=True)\n",
    "x = lib.keys()      \n",
    "y = lib.values\n",
    "res = []\n",
    "cont = 0;\n",
    "for val in y:\n",
    "    cont = cont + val\n",
    "    res.append(((cont)/tot)*100)\n",
    "    \n",
    "plt.scatter(x,res)"
   ]
  },
  {
   "cell_type": "code",
   "execution_count": 94,
   "id": "b8b6b229",
   "metadata": {},
   "outputs": [
    {
     "data": {
      "text/plain": [
       "100.0"
      ]
     },
     "execution_count": 94,
     "metadata": {},
     "output_type": "execute_result"
    }
   ],
   "source": [
    "res[2951]"
   ]
  },
  {
   "cell_type": "code",
   "execution_count": 95,
   "id": "be8ba3c1",
   "metadata": {},
   "outputs": [
    {
     "data": {
      "text/plain": [
       "2952"
      ]
     },
     "execution_count": 95,
     "metadata": {},
     "output_type": "execute_result"
    }
   ],
   "source": [
    "len(res)"
   ]
  },
  {
   "cell_type": "code",
   "execution_count": 96,
   "id": "5575fb2b",
   "metadata": {},
   "outputs": [
    {
     "data": {
      "text/plain": [
       "<matplotlib.collections.PathCollection at 0x215c7fe01c0>"
      ]
     },
     "execution_count": 96,
     "metadata": {},
     "output_type": "execute_result"
    },
    {
     "data": {
      "image/png": "[encoded data removed]",
      "text/plain": [
       "<Figure size 432x288 with 1 Axes>"
      ]
     },
     "metadata": {
      "needs_background": "light"
     },
     "output_type": "display_data"
    }
   ],
   "source": [
    "lib = df_superior['tot_horas'].value_counts()\n",
    "tot = len(df_superior)\n",
    "lib = lib.sort_index(ascending=True)\n",
    "x = lib.keys()      \n",
    "y = lib.values\n",
    "res = []\n",
    "cont = 0;\n",
    "for val in y:\n",
    "    cont = cont + val\n",
    "    res.append(((cont-(1/2))/tot)*100)\n",
    "    \n",
    "plt.scatter(x,res)"
   ]
  },
  {
   "cell_type": "code",
   "execution_count": null,
   "id": "88c961fe",
   "metadata": {},
   "outputs": [],
   "source": []
  }
 ],
 "metadata": {
  "kernelspec": {
   "display_name": "Python 3 (ipykernel)",
   "language": "python",
   "name": "python3"
  },
  "language_info": {
   "codemirror_mode": {
    "name": "ipython",
    "version": 3
   },
   "file_extension": ".py",
   "mimetype": "text/x-python",
   "name": "python",
   "nbconvert_exporter": "python",
   "pygments_lexer": "ipython3",
   "version": "3.8.8"
  }
 },
 "nbformat": 4,
 "nbformat_minor": 5
}
