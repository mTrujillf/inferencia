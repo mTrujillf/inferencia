{
 "cells": [
  {
   "cell_type": "code",
   "execution_count": 1,
   "id": "a35e88b3",
   "metadata": {},
   "outputs": [],
   "source": [
    "import numpy as np\n",
    "from scipy.stats import norm\n",
    "import matplotlib.pyplot as plt"
   ]
  },
  {
   "cell_type": "code",
   "execution_count": 2,
   "id": "2b36f2f6",
   "metadata": {},
   "outputs": [],
   "source": [
    "n = 25 # tamaño de muestra\n",
    "de = 1.4"
   ]
  },
  {
   "cell_type": "markdown",
   "id": "5428d4d8",
   "metadata": {},
   "source": [
    "Obtener el valor del error tipo 1 con alfa < 0.06<br>\n",
    "A)rechazar h0 si x̄ > 10.65<br>\n",
    "B)rechazar h0 si x̄ > 10.45<br>\n",
    "C)rechazar h0 si x̄ > 10.25<br>\n",
    "h0 = 10"
   ]
  },
  {
   "cell_type": "code",
   "execution_count": 3,
   "id": "37e7ed31",
   "metadata": {},
   "outputs": [],
   "source": [
    "h0 = 10\n",
    "h0r = [10.65,10.45,10.25]"
   ]
  },
  {
   "cell_type": "code",
   "execution_count": 4,
   "id": "867e2ed8",
   "metadata": {},
   "outputs": [],
   "source": [
    "def calculaValorNormal(n,de,h,hr):\n",
    "    r = []\n",
    "    for x in hr:\n",
    "        valNormal = x - h\n",
    "        cos = de / pow(n,.5)\n",
    "        valNormal = valNormal / cos\n",
    "        r.append(valNormal)\n",
    "    return r"
   ]
  },
  {
   "cell_type": "code",
   "execution_count": 5,
   "id": "77303583",
   "metadata": {},
   "outputs": [
    {
     "name": "stdout",
     "output_type": "stream",
     "text": [
      "[2.321428571428573, 1.6071428571428548, 0.8928571428571429]\n"
     ]
    }
   ],
   "source": [
    "ResNormal = calculaValorNormal(n,de,h0,h0r)\n",
    "print(ResNormal)"
   ]
  },
  {
   "cell_type": "code",
   "execution_count": 6,
   "id": "b7e9f280",
   "metadata": {},
   "outputs": [],
   "source": [
    "def obtenerPercentilNormalEstandar(vec):\n",
    "    r = []\n",
    "    for x in vec:\n",
    "        r.append(1-norm.cdf(x))\n",
    "    return r        "
   ]
  },
  {
   "cell_type": "code",
   "execution_count": 7,
   "id": "ba261e41",
   "metadata": {},
   "outputs": [
    {
     "name": "stdout",
     "output_type": "stream",
     "text": [
      "[0.010131862501173927, 0.054011516885922206, 0.18596684024708876]\n"
     ]
    }
   ],
   "source": [
    "ResEvaluadosNormalEstandar = obtenerPercentilNormalEstandar(ResNormal)\n",
    "print(ResEvaluadosNormalEstandar)"
   ]
  },
  {
   "cell_type": "markdown",
   "id": "420fc83e",
   "metadata": {},
   "source": [
    "Como C tiene un error de tipo 1 mayor a .06 se rechaza y me quedo con A y B"
   ]
  },
  {
   "cell_type": "markdown",
   "id": "3e1326db",
   "metadata": {},
   "source": [
    "Hacer la tabla con ha = 10.2,10.4,10.6,10.8,11,11.2,11.4"
   ]
  },
  {
   "cell_type": "code",
   "execution_count": 8,
   "id": "40846012",
   "metadata": {},
   "outputs": [
    {
     "name": "stdout",
     "output_type": "stream",
     "text": [
      "[[-1.6071428571428612, -0.8928571428571429, -0.17857142857143113, 0.535714285714287, 1.249999999999999, 1.9642857142857106, 2.678571428571429], [-0.8928571428571429, -0.17857142857142477, 0.535714285714287, 1.250000000000005, 1.964285714285717, 2.678571428571429, 3.3928571428571472]]\n"
     ]
    }
   ],
   "source": [
    "ha = [10.2,10.4,10.6,10.8,11,11.2,11.4]\n",
    "h0r = [10.65,10.45]\n",
    "matR = []\n",
    "for x in h0r:\n",
    "    matR.append(calculaValorNormal(n,de,x,ha))\n",
    "print(matR)"
   ]
  },
  {
   "cell_type": "code",
   "execution_count": 9,
   "id": "dd776ab7",
   "metadata": {},
   "outputs": [
    {
     "name": "stdout",
     "output_type": "stream",
     "text": [
      "[[0.9459884831140786, 0.8140331597529112, 0.5708628847262727, 0.296078014454461, 0.10564977366685557, 0.024748483717871306, 0.003696848024957955], [0.8140331597529112, 0.5708628847262702, 0.296078014454461, 0.10564977366685424, 0.02474848371787086, 0.003696848024957955, 0.00034583850156555407]]\n"
     ]
    }
   ],
   "source": [
    "matF = []\n",
    "for x in matR:\n",
    "    matF.append(obtenerPercentilNormalEstandar(x))\n",
    "print(matF)"
   ]
  },
  {
   "cell_type": "code",
   "execution_count": 10,
   "id": "2bae2a3d",
   "metadata": {},
   "outputs": [],
   "source": [
    "matR25 = []\n",
    "for x in h0r:\n",
    "    matR25.append(calculaValorNormal(25,de,x,ha))\n",
    "matF25 = []\n",
    "for x in matR25:\n",
    "    matF25.append(obtenerPercentilNormalEstandar(x))"
   ]
  },
  {
   "cell_type": "code",
   "execution_count": 11,
   "id": "f82dc5ca",
   "metadata": {},
   "outputs": [
    {
     "data": {
      "image/png": "[encoded data removed]",
      "text/plain": [
       "<Figure size 432x288 with 1 Axes>"
      ]
     },
     "metadata": {
      "needs_background": "light"
     },
     "output_type": "display_data"
    }
   ],
   "source": [
    "A = matF[0]\n",
    "plt.plot(ha,A,label = \"A50\")\n",
    "B = matF[1]\n",
    "plt.plot(ha,B,label = \"B50\")\n",
    "A = matF25[0]\n",
    "plt.plot(ha,A,label = \"A25\")\n",
    "B = matF25[1]\n",
    "plt.plot(ha,B,label = \"B25\")\n",
    "plt.ylabel('Error de tipo 2')\n",
    "plt.xlabel('ha')\n",
    "plt.legend()\n",
    "plt.show()"
   ]
  }
 ],
 "metadata": {
  "kernelspec": {
   "display_name": "Python 3 (ipykernel)",
   "language": "python",
   "name": "python3"
  },
  "language_info": {
   "codemirror_mode": {
    "name": "ipython",
    "version": 3
   },
   "file_extension": ".py",
   "mimetype": "text/x-python",
   "name": "python",
   "nbconvert_exporter": "python",
   "pygments_lexer": "ipython3",
   "version": "3.8.8"
  }
 },
 "nbformat": 4,
 "nbformat_minor": 5
}
